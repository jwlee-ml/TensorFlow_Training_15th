{
 "cells": [
  {
   "cell_type": "code",
   "execution_count": null,
   "metadata": {
    "colab": {},
    "colab_type": "code",
    "id": "UbQP7KK_IxAo"
   },
   "outputs": [],
   "source": [
    "from google.colab import drive"
   ]
  },
  {
   "cell_type": "markdown",
   "metadata": {
    "colab_type": "text",
    "id": "Z7MnOj8rKE2T"
   },
   "source": [
    "아래 명령 실행 후, URL이 나오면 click한 후 나오는 authorization code를 아래 입력칸에 입력후 enter"
   ]
  },
  {
   "cell_type": "code",
   "execution_count": null,
   "metadata": {
    "colab": {
     "base_uri": "https://localhost:8080/",
     "height": 131
    },
    "colab_type": "code",
    "executionInfo": {
     "elapsed": 34099,
     "status": "ok",
     "timestamp": 1570815743795,
     "user": {
      "displayName": "JinWon Lee",
      "photoUrl": "https://lh3.googleusercontent.com/a-/AAuE7mDWmwGuISQe917Q4s6m6vkA2W6EhFh8ELZO7sxDlg=s64",
      "userId": "09449089977781029916"
     },
     "user_tz": -540
    },
    "id": "7DN8w6wYI41f",
    "outputId": "cde7a46f-9542-4d24-9270-3527e7eabc4a"
   },
   "outputs": [],
   "source": [
    "import os\n",
    "if not os.path.exists('/content/drive'):\n",
    "    drive.mount('/content/drive')"
   ]
  },
  {
   "cell_type": "code",
   "execution_count": null,
   "metadata": {
    "colab": {
     "base_uri": "https://localhost:8080/",
     "height": 36
    },
    "colab_type": "code",
    "executionInfo": {
     "elapsed": 34097,
     "status": "ok",
     "timestamp": 1570815743796,
     "user": {
      "displayName": "JinWon Lee",
      "photoUrl": "https://lh3.googleusercontent.com/a-/AAuE7mDWmwGuISQe917Q4s6m6vkA2W6EhFh8ELZO7sxDlg=s64",
      "userId": "09449089977781029916"
     },
     "user_tz": -540
    },
    "id": "0a1whwb3JAcI",
    "outputId": "50e6881d-c9ce-4fca-90df-6b80ac50cc30"
   },
   "outputs": [],
   "source": [
    "cd /content/drive/'My Drive'"
   ]
  },
  {
   "cell_type": "code",
   "execution_count": null,
   "metadata": {
    "colab": {
     "base_uri": "https://localhost:8080/",
     "height": 130
    },
    "colab_type": "code",
    "executionInfo": {
     "elapsed": 36650,
     "status": "ok",
     "timestamp": 1570815746351,
     "user": {
      "displayName": "JinWon Lee",
      "photoUrl": "https://lh3.googleusercontent.com/a-/AAuE7mDWmwGuISQe917Q4s6m6vkA2W6EhFh8ELZO7sxDlg=s64",
      "userId": "09449089977781029916"
     },
     "user_tz": -540
    },
    "id": "CZwTR2HsJfBM",
    "outputId": "7fac4933-e0dc-4e18-d36b-5384efaf8a61"
   },
   "outputs": [],
   "source": [
    "if not os.path.exists('TensorFlow_Training_15th'):\n",
    "  !git clone https://github.com/jwlee-ml/TensorFlow_Training_15th.git"
   ]
  },
  {
   "cell_type": "code",
   "execution_count": null,
   "metadata": {
    "colab": {
     "base_uri": "https://localhost:8080/",
     "height": 36
    },
    "colab_type": "code",
    "executionInfo": {
     "elapsed": 733,
     "status": "ok",
     "timestamp": 1570815756271,
     "user": {
      "displayName": "JinWon Lee",
      "photoUrl": "https://lh3.googleusercontent.com/a-/AAuE7mDWmwGuISQe917Q4s6m6vkA2W6EhFh8ELZO7sxDlg=s64",
      "userId": "09449089977781029916"
     },
     "user_tz": -540
    },
    "id": "lNQWglNEJ-63",
    "outputId": "e8186929-bf7e-4b7d-819b-9ca5369ab4f0"
   },
   "outputs": [],
   "source": [
    "cd TensorFlow_Training_15th"
   ]
  },
  {
   "cell_type": "code",
   "execution_count": null,
   "metadata": {
    "colab": {
     "base_uri": "https://localhost:8080/",
     "height": 36
    },
    "colab_type": "code",
    "executionInfo": {
     "elapsed": 2296,
     "status": "ok",
     "timestamp": 1570815757984,
     "user": {
      "displayName": "JinWon Lee",
      "photoUrl": "https://lh3.googleusercontent.com/a-/AAuE7mDWmwGuISQe917Q4s6m6vkA2W6EhFh8ELZO7sxDlg=s64",
      "userId": "09449089977781029916"
     },
     "user_tz": -540
    },
    "id": "9nFT8lxILagr",
    "outputId": "2bba0fae-31ea-4687-aa06-93403738f440"
   },
   "outputs": [],
   "source": [
    "!git pull"
   ]
  },
  {
   "cell_type": "code",
   "execution_count": null,
   "metadata": {
    "colab": {},
    "colab_type": "code",
    "id": "QVK-tAIpNFI7"
   },
   "outputs": [],
   "source": []
  }
 ],
 "metadata": {
  "colab": {
   "collapsed_sections": [],
   "name": "0_1.GoogleDriveMount_GitClone.ipynb",
   "provenance": []
  },
  "kernelspec": {
   "display_name": "Python 3",
   "language": "python",
   "name": "python3"
  },
  "language_info": {
   "codemirror_mode": {
    "name": "ipython",
    "version": 3
   },
   "file_extension": ".py",
   "mimetype": "text/x-python",
   "name": "python",
   "nbconvert_exporter": "python",
   "pygments_lexer": "ipython3",
   "version": "3.7.6"
  }
 },
 "nbformat": 4,
 "nbformat_minor": 1
}
