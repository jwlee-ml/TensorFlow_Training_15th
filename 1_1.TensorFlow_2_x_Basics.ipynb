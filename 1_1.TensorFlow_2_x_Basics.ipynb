{
  "nbformat": 4,
  "nbformat_minor": 0,
  "metadata": {
    "kernelspec": {
      "name": "python3",
      "display_name": "Python 3"
    },
    "language_info": {
      "codemirror_mode": {
        "name": "ipython",
        "version": 3
      },
      "file_extension": ".py",
      "mimetype": "text/x-python",
      "name": "python",
      "nbconvert_exporter": "python",
      "pygments_lexer": "ipython3",
      "version": "3.7.6"
    },
    "colab": {
      "name": "1_0.TensorFlow_2.x_Basics.ipynb",
      "provenance": [],
      "collapsed_sections": [
        "X-cq6dYpwP23",
        "1jtZ7Su1wP3E",
        "cWN4C8MbwP3N",
        "otxR2EWuwP3N",
        "CmLzr371wP3O",
        "JBLqq7wXwP3Z",
        "Xwk7MP1DwP3q",
        "hBEDt2GlwP4J",
        "8ySU5JA7wP4S",
        "L0cg-32PwP4V",
        "9h0d3o9FwP4a",
        "kRWftGYRwP4f"
      ]
    },
    "accelerator": "GPU"
  },
  "cells": [
    {
      "cell_type": "markdown",
      "metadata": {
        "id": "spMfOdESwP16",
        "colab_type": "text"
      },
      "source": [
        "# TensorFlow 2.x Basics\n",
        "\n",
        "TensorFlow는 ML 모델을 개발하고 학습시키는 데 도움이 되는 핵심 오픈소스 라이브러리입니다.\n",
        "\n",
        "TensorFlow와 Keras는 모두 약 4년전쯤 릴리즈 되었습니다 (Keras는 2015년 3월, TensorFlow는 2015년 11월). 이는 딥러닝 세계의 관점에서 볼 때, 꽤 오랜시간이라고 볼 수 있습니다!\n",
        "\n",
        "과거에 TensorFlow 1.x + Keras는 여러가지 알려진 문제점을 가지고 있었습니다:\n",
        "- TensorFlow를 사용한다는것은 정적인 계산 그래프를 조작함을 의미하는것으로, Imperative 코딩 스타일을 사용하는 프로그래머로 하여금 어렵고, 불편한 느낌을 받게 했었습니다.\n",
        "- TensorFlow API가 매우 강력하면서도 유연하지만, 빠른 코드의 작성의 가능성이 결여되어 있었으며 종종 사용법은 어렵고 혼란스러웠습니다.\n",
        "- Keras는 매우 생산적이고 사용이 쉽지만, 연구에 사용된 사례에서 종종 유연성이 결여되었었습니다.\n",
        "\n",
        "### TensorFlow 2.0은 TensorFlow와 Keras를 대대적으로 새로이 디자인한 것으로, 지난 4년간의 사용자 피드백과 기술의 진보가 모두 고려되었습니다. 위에서 언급된 문제점들을 대규모로 수정합니다.\n",
        "\n",
        "TensorFlow 2.0은 아래와 같은 주요 아이디어에 기반하고 있습니다:\n",
        "\n",
        "- 사용자들이 계산을 eager mode로 수행할 수 있게 해줍니다. 이는 Numpy를 사용하는법과 유사하며, TensorFlow 2.0을 이용한 프로그래밍이 직관적이며 동시에 pythonic할 수 있게끔 해 줍니다.\n",
        "- 1.x에서의 컴파일된 그래프의 엄청난 이점을 그대로 보존하는데, 이는 성능, 분산, 그리고 배포를 위함입니다. 이 내용은 TensorFlow를 빠르고, 분산 구조에서의 확장 가능하며, 상용화에 준비될 수 있도록 해 줍니다.\n",
        "- Keras를 딥러닝의 고수준 API로 채택하여, TensorFlow를 이해하기 쉬우면서도 높은 생산성을 가질 수 있게 만들어 줍니다.\n",
        "- 매우 고수준(더 쉬운 사용성, 약간 부족한 유연성) 에서부터 매우 저수준(더 깊은 전문성, 매우 뛰어난 유연성)의 다양한 범위의 작업으로까지 Keras를 확장합니다."
      ]
    },
    {
      "cell_type": "code",
      "metadata": {
        "id": "hEgdxTj7wP18",
        "colab_type": "code",
        "colab": {
          "base_uri": "https://localhost:8080/",
          "height": 36
        },
        "outputId": "f1ba2a71-2366-464e-b806-c7403bb843b3"
      },
      "source": [
        "## Google Colab에서 TensorFlow 2.x 버전을 사용하기 위해서는 아래 magic command를 수행하면 간편하게 할 수 있습니다\n",
        "\n",
        "try:\n",
        "  # %tensorflow_version only exists in Colab.\n",
        "  %tensorflow_version 2.x\n",
        "except Exception:\n",
        "  pass"
      ],
      "execution_count": 1,
      "outputs": [
        {
          "output_type": "stream",
          "text": [
            "TensorFlow 2.x selected.\n"
          ],
          "name": "stdout"
        }
      ]
    },
    {
      "cell_type": "code",
      "metadata": {
        "id": "imjVXjMAwP2A",
        "colab_type": "code",
        "colab": {}
      },
      "source": [
        "## TensorFlow library는 아래와 같이 import 합니다\n",
        "import tensorflow as tf"
      ],
      "execution_count": 0,
      "outputs": []
    },
    {
      "cell_type": "code",
      "metadata": {
        "id": "4XOhVMSUwP2E",
        "colab_type": "code",
        "colab": {}
      },
      "source": [
        "## TensorFlow와 함께 많이 쓰이는 numpy library는 아래와 같이 import 합니다\n",
        "import numpy as np"
      ],
      "execution_count": 0,
      "outputs": []
    },
    {
      "cell_type": "code",
      "metadata": {
        "id": "U8tUwsb4wP2H",
        "colab_type": "code",
        "colab": {}
      },
      "source": [
        "## TensorFlow 내부에는 TensorFlow를 쉽고 편하게 쓸 수 있게 해주는 high-level framework인 Keras가 포함되어 있습니다.\n",
        "from tensorflow import keras"
      ],
      "execution_count": 0,
      "outputs": []
    },
    {
      "cell_type": "code",
      "metadata": {
        "id": "1ht5ijiawP2K",
        "colab_type": "code",
        "colab": {
          "base_uri": "https://localhost:8080/",
          "height": 55
        },
        "outputId": "f8918608-3970-4d0b-ac05-963881755e76"
      },
      "source": [
        "## TensorFlow와 Keras의 version을 확인해봅시다\n",
        "print(tf.__version__)\n",
        "print(keras.__version__)"
      ],
      "execution_count": 5,
      "outputs": [
        {
          "output_type": "stream",
          "text": [
            "2.1.0\n",
            "2.2.4-tf\n"
          ],
          "name": "stdout"
        }
      ]
    },
    {
      "cell_type": "markdown",
      "metadata": {
        "id": "ZpHG0epAwP2N",
        "colab_type": "text"
      },
      "source": [
        "## TensorFlow의 기본"
      ]
    },
    {
      "cell_type": "markdown",
      "metadata": {
        "id": "_3Y8uosywP2O",
        "colab_type": "text"
      },
      "source": [
        "### Tensors(텐서)\n",
        "\n",
        "Tensor는 multi-dimensional array를 나타내는 말로, TensorFlow의 기본 data type입니다"
      ]
    },
    {
      "cell_type": "code",
      "metadata": {
        "id": "yFktD0pLwP2Q",
        "colab_type": "code",
        "colab": {
          "base_uri": "https://localhost:8080/",
          "height": 36
        },
        "outputId": "777687d8-ec5a-4d48-fd7a-de2bf466745c"
      },
      "source": [
        "## Hello World\n",
        "hello = tf.constant(\"Hello World\")\n",
        "print(hello)"
      ],
      "execution_count": 6,
      "outputs": [
        {
          "output_type": "stream",
          "text": [
            "tf.Tensor(b'Hello World', shape=(), dtype=string)\n"
          ],
          "name": "stdout"
        }
      ]
    },
    {
      "cell_type": "code",
      "metadata": {
        "id": "u4LAcWLcwP2T",
        "colab_type": "code",
        "colab": {
          "base_uri": "https://localhost:8080/",
          "height": 74
        },
        "outputId": "f3e239d4-cbee-41de-c453-7d7a9432cd2e"
      },
      "source": [
        "## 상수형 tensor는 아래와 같이 만들 수 있습니다\n",
        "## 출력해보면 tensor의 값과 함께, shape과 내부의 data type을 함께 볼 수 있습니다\n",
        "x = tf.constant([[1.0, 2.0],\n",
        "                 [3.0, 4.0]])\n",
        "print(x)"
      ],
      "execution_count": 7,
      "outputs": [
        {
          "output_type": "stream",
          "text": [
            "tf.Tensor(\n",
            "[[1. 2.]\n",
            " [3. 4.]], shape=(2, 2), dtype=float32)\n"
          ],
          "name": "stdout"
        }
      ]
    },
    {
      "cell_type": "code",
      "metadata": {
        "id": "XHfDt2GwwP2W",
        "colab_type": "code",
        "colab": {
          "base_uri": "https://localhost:8080/",
          "height": 55
        },
        "outputId": "5f142d31-10c8-4aaa-ab74-3de20ba3967f"
      },
      "source": [
        "## 아래와 같이 numpy ndarray나 python의 list도 tensor로 바꿀 수 있습니다\n",
        "x_np = np.array([[1.0, 2.0],\n",
        "                [3.0, 4.0]])\n",
        "x_list = [[1.0, 2.0], \n",
        "         [3.0, 4.0]]\n",
        "\n",
        "print(type(x_np))\n",
        "print(type(x_list))"
      ],
      "execution_count": 8,
      "outputs": [
        {
          "output_type": "stream",
          "text": [
            "<class 'numpy.ndarray'>\n",
            "<class 'list'>\n"
          ],
          "name": "stdout"
        }
      ]
    },
    {
      "cell_type": "code",
      "metadata": {
        "id": "Mq46jscXwP2Z",
        "colab_type": "code",
        "colab": {
          "base_uri": "https://localhost:8080/",
          "height": 55
        },
        "outputId": "025c0a19-fcc8-4222-e5a6-1bb09f62e236"
      },
      "source": [
        "x_np = tf.convert_to_tensor(x_np)\n",
        "x_list = tf.convert_to_tensor(x_list)\n",
        "\n",
        "print(type(x_np))\n",
        "print(type(x_list))"
      ],
      "execution_count": 9,
      "outputs": [
        {
          "output_type": "stream",
          "text": [
            "<class 'tensorflow.python.framework.ops.EagerTensor'>\n",
            "<class 'tensorflow.python.framework.ops.EagerTensor'>\n"
          ],
          "name": "stdout"
        }
      ]
    },
    {
      "cell_type": "code",
      "metadata": {
        "id": "6FZfcNcCwP2c",
        "colab_type": "code",
        "colab": {
          "base_uri": "https://localhost:8080/",
          "height": 36
        },
        "outputId": "de237896-947f-4ab4-c651-2ed7ce615d7a"
      },
      "source": [
        "## 맨 처음에 생성한 tensor의 type도 동일합니다\n",
        "print(type(x))"
      ],
      "execution_count": 10,
      "outputs": [
        {
          "output_type": "stream",
          "text": [
            "<class 'tensorflow.python.framework.ops.EagerTensor'>\n"
          ],
          "name": "stdout"
        }
      ]
    },
    {
      "cell_type": "code",
      "metadata": {
        "id": "CfbXMMMKwP2f",
        "colab_type": "code",
        "colab": {
          "base_uri": "https://localhost:8080/",
          "height": 55
        },
        "outputId": "b82fd799-d7ea-4bbb-df15-4b7251de86c9"
      },
      "source": [
        "## 반대로 tensor를 다음과 같이 numpy ndarray로 바꿀 수도 있습니다\n",
        "x.numpy()"
      ],
      "execution_count": 11,
      "outputs": [
        {
          "output_type": "execute_result",
          "data": {
            "text/plain": [
              "array([[1., 2.],\n",
              "       [3., 4.]], dtype=float32)"
            ]
          },
          "metadata": {
            "tags": []
          },
          "execution_count": 11
        }
      ]
    },
    {
      "cell_type": "code",
      "metadata": {
        "id": "w2xc4nwcwP2j",
        "colab_type": "code",
        "colab": {
          "base_uri": "https://localhost:8080/",
          "height": 36
        },
        "outputId": "b72b8c1b-1d52-4f5c-cd78-7172a68f37fb"
      },
      "source": [
        "print(type(x.numpy()))"
      ],
      "execution_count": 12,
      "outputs": [
        {
          "output_type": "stream",
          "text": [
            "<class 'numpy.ndarray'>\n"
          ],
          "name": "stdout"
        }
      ]
    },
    {
      "cell_type": "code",
      "metadata": {
        "id": "z2OAZceowP2m",
        "colab_type": "code",
        "colab": {
          "base_uri": "https://localhost:8080/",
          "height": 55
        },
        "outputId": "2f332184-57dd-4f12-c261-b4e093122be4"
      },
      "source": [
        "## Tensor는 numpy ndarray와 마찬가지로 dtype과 shape이라는 속성을 가지고 있습니다\n",
        "print('dtype:', x.dtype)\n",
        "print('shape:', x.shape)"
      ],
      "execution_count": 13,
      "outputs": [
        {
          "output_type": "stream",
          "text": [
            "dtype: <dtype: 'float32'>\n",
            "shape: (2, 2)\n"
          ],
          "name": "stdout"
        }
      ]
    },
    {
      "cell_type": "code",
      "metadata": {
        "id": "nALcEhXUwP2o",
        "colab_type": "code",
        "colab": {
          "base_uri": "https://localhost:8080/",
          "height": 132
        },
        "outputId": "b44ec324-07bd-4a5f-f9b6-f868f9d99181"
      },
      "source": [
        "## 상수형 tensor를 생성하는 방법으로 아래와 같은 방법이 많이 사용됩니다\n",
        "print(tf.ones(shape=(2,2)))\n",
        "print(tf.zeros(shape=(2,2)))"
      ],
      "execution_count": 14,
      "outputs": [
        {
          "output_type": "stream",
          "text": [
            "tf.Tensor(\n",
            "[[1. 1.]\n",
            " [1. 1.]], shape=(2, 2), dtype=float32)\n",
            "tf.Tensor(\n",
            "[[0. 0.]\n",
            " [0. 0.]], shape=(2, 2), dtype=float32)\n"
          ],
          "name": "stdout"
        }
      ]
    },
    {
      "cell_type": "code",
      "metadata": {
        "id": "-XgL-ppdwP2s",
        "colab_type": "code",
        "colab": {
          "base_uri": "https://localhost:8080/",
          "height": 478
        },
        "outputId": "9d116764-51da-4652-dd16-edd3172a4efb"
      },
      "source": [
        "## tensor끼리의 4칙 연산은 element-wise 연산을 기본으로 합니다\n",
        "a = tf.ones((2,2))*2\n",
        "b = tf.ones((2,2))*6\n",
        "print (a.numpy())\n",
        "print (b.numpy())\n",
        "\n",
        "## 덧셈\n",
        "print (\"덧셈\")\n",
        "print (tf.add(a, b).numpy())\n",
        "print ((a + b).numpy())\n",
        "\n",
        "## 뺄셈\n",
        "print (\"뺄셈\")\n",
        "print (tf.subtract(b, a).numpy())\n",
        "print ((b - a).numpy())\n",
        "\n",
        "## 곱셈\n",
        "print (\"곱셈\")\n",
        "print (tf.multiply(a, b).numpy())\n",
        "print ((a * b).numpy())\n",
        "\n",
        "## 나눗셈\n",
        "print (\"나눗셈\")\n",
        "print (tf.divide(b, a).numpy())\n",
        "print ((b / a).numpy())"
      ],
      "execution_count": 15,
      "outputs": [
        {
          "output_type": "stream",
          "text": [
            "[[2. 2.]\n",
            " [2. 2.]]\n",
            "[[6. 6.]\n",
            " [6. 6.]]\n",
            "덧셈\n",
            "[[8. 8.]\n",
            " [8. 8.]]\n",
            "[[8. 8.]\n",
            " [8. 8.]]\n",
            "뺄셈\n",
            "[[4. 4.]\n",
            " [4. 4.]]\n",
            "[[4. 4.]\n",
            " [4. 4.]]\n",
            "곱셈\n",
            "[[12. 12.]\n",
            " [12. 12.]]\n",
            "[[12. 12.]\n",
            " [12. 12.]]\n",
            "나눗셈\n",
            "[[3. 3.]\n",
            " [3. 3.]]\n",
            "[[3. 3.]\n",
            " [3. 3.]]\n"
          ],
          "name": "stdout"
        }
      ]
    },
    {
      "cell_type": "code",
      "metadata": {
        "id": "P5np7uzGwP2v",
        "colab_type": "code",
        "colab": {
          "base_uri": "https://localhost:8080/",
          "height": 247
        },
        "outputId": "ee252225-5082-419c-d347-8685c80bbfd7"
      },
      "source": [
        "## Tensor와 numpy ndarray는 많은 경우에 자동으로 호환됩니다\n",
        "ndarray = np.ones((3, 3))\n",
        "print(ndarray)\n",
        "\n",
        "## Tensor연산에 입력으로 tensor가 아닌 ndarray가 입력으로 들어갈 수 있습니다\n",
        "print(\"TensorFlow operations convert numpy arrays to Tensors automatically\")\n",
        "tensor = tf.multiply(ndarray, 10)\n",
        "print(tensor)\n",
        "\n",
        "## numpy ndarray연산에 입력으로 tensor가 들어갈 수도 있습니다\n",
        "print(\"And NumPy operations convert Tensors to numpy arrays automatically\")\n",
        "print(np.add(tensor, 2))"
      ],
      "execution_count": 16,
      "outputs": [
        {
          "output_type": "stream",
          "text": [
            "[[1. 1. 1.]\n",
            " [1. 1. 1.]\n",
            " [1. 1. 1.]]\n",
            "TensorFlow operations convert numpy arrays to Tensors automatically\n",
            "tf.Tensor(\n",
            "[[10. 10. 10.]\n",
            " [10. 10. 10.]\n",
            " [10. 10. 10.]], shape=(3, 3), dtype=float64)\n",
            "And NumPy operations convert Tensors to numpy arrays automatically\n",
            "[[12. 12. 12.]\n",
            " [12. 12. 12.]\n",
            " [12. 12. 12.]]\n"
          ],
          "name": "stdout"
        }
      ]
    },
    {
      "cell_type": "code",
      "metadata": {
        "id": "IOIUWkBgwP2y",
        "colab_type": "code",
        "colab": {
          "base_uri": "https://localhost:8080/",
          "height": 74
        },
        "outputId": "c48734f0-cf57-4b96-f685-1e0c1cb58491"
      },
      "source": [
        "## Random한 상수형 tensor는 다음과 같이 만들 수 있습니다\n",
        "## 아래는 표준정규분포로부터 상수를 생성합니다\n",
        "\n",
        "tf.random.normal(shape=(2,2), mean=0., stddev=1.)"
      ],
      "execution_count": 17,
      "outputs": [
        {
          "output_type": "execute_result",
          "data": {
            "text/plain": [
              "<tf.Tensor: shape=(2, 2), dtype=float32, numpy=\n",
              "array([[-1.1689512 ,  1.0414386 ],\n",
              "       [-0.6015349 ,  0.08927117]], dtype=float32)>"
            ]
          },
          "metadata": {
            "tags": []
          },
          "execution_count": 17
        }
      ]
    },
    {
      "cell_type": "code",
      "metadata": {
        "id": "BG4_Xq4XwP20",
        "colab_type": "code",
        "colab": {
          "base_uri": "https://localhost:8080/",
          "height": 74
        },
        "outputId": "eb96153c-2c06-448c-c946-55a3a3b41ee1"
      },
      "source": [
        "## 아래는 균등(uniform)분포로부터 random 상수를 생성합니다\n",
        "tf.random.uniform(shape=(2, 2), minval=0, maxval=10, dtype='int32')"
      ],
      "execution_count": 18,
      "outputs": [
        {
          "output_type": "execute_result",
          "data": {
            "text/plain": [
              "<tf.Tensor: shape=(2, 2), dtype=int32, numpy=\n",
              "array([[4, 7],\n",
              "       [9, 6]], dtype=int32)>"
            ]
          },
          "metadata": {
            "tags": []
          },
          "execution_count": 18
        }
      ]
    },
    {
      "cell_type": "markdown",
      "metadata": {
        "id": "X-cq6dYpwP23",
        "colab_type": "text"
      },
      "source": [
        "### Variables (변수)\n",
        "[Variables](https://www.tensorflow.org/guide/variable)는 변할 수 있는 상태를 저장하는데 사용되는 특별한 텐서 입니다. \n",
        "\n",
        "우리는 대부분의 경우에 우리가 학습해야하는 가중치(weight, parameter)들을 variable로 생성합니다."
      ]
    },
    {
      "cell_type": "code",
      "metadata": {
        "id": "kEyEcL-hwP24",
        "colab_type": "code",
        "colab": {
          "base_uri": "https://localhost:8080/",
          "height": 0
        },
        "outputId": "1c0a31a6-8d15-4511-d3d6-6e6a8f66ec75"
      },
      "source": [
        "## 초기값을 사용해서 Variable을 생성할 수 있습니다\n",
        "initial_value = tf.random.normal(shape=(2, 2))\n",
        "weight = tf.Variable(initial_value)\n",
        "print(weight)"
      ],
      "execution_count": 19,
      "outputs": [
        {
          "output_type": "stream",
          "text": [
            "<tf.Variable 'Variable:0' shape=(2, 2) dtype=float32, numpy=\n",
            "array([[-1.2265795 , -0.15340361],\n",
            "       [-0.8510924 ,  0.42490998]], dtype=float32)>\n"
          ],
          "name": "stdout"
        }
      ]
    },
    {
      "cell_type": "code",
      "metadata": {
        "id": "vW68p5gAwP28",
        "colab_type": "code",
        "colab": {
          "base_uri": "https://localhost:8080/",
          "height": 0
        },
        "outputId": "10ea11a5-b8fb-494e-e119-24dd47000647"
      },
      "source": [
        "## 아래와 같이 variable을 초기화해주는 initializer들을 사용할 수도 있습니다\n",
        "weight = tf.Variable(tf.random_normal_initializer(stddev=0.1)(shape=(2,2)))\n",
        "print(weight)"
      ],
      "execution_count": 20,
      "outputs": [
        {
          "output_type": "stream",
          "text": [
            "<tf.Variable 'Variable:0' shape=(2, 2) dtype=float32, numpy=\n",
            "array([[ 0.02037442,  0.0016904 ],\n",
            "       [-0.11609089,  0.1267439 ]], dtype=float32)>\n"
          ],
          "name": "stdout"
        }
      ]
    },
    {
      "cell_type": "code",
      "metadata": {
        "id": "YeZfL3dcwP2_",
        "colab_type": "code",
        "colab": {
          "base_uri": "https://localhost:8080/",
          "height": 0
        },
        "outputId": "982be338-92f7-4d8a-c8cc-52ca71bf346c"
      },
      "source": [
        "## variable은 `.assign(value)`, `.assign_add(increment)`, 또는 `.assign_sub(decrement)`\n",
        "## 와 같은 메소드를 사용해서 Variable의 값을 갱신합니다:'''\n",
        "\n",
        "new_value = tf.random.normal(shape=(2,2))\n",
        "print(new_value)\n",
        "weight.assign(new_value)\n",
        "print(weight)"
      ],
      "execution_count": 21,
      "outputs": [
        {
          "output_type": "stream",
          "text": [
            "tf.Tensor(\n",
            "[[ 1.2547858  -0.83194244]\n",
            " [-0.18560724 -0.0823747 ]], shape=(2, 2), dtype=float32)\n",
            "<tf.Variable 'Variable:0' shape=(2, 2) dtype=float32, numpy=\n",
            "array([[ 1.2547858 , -0.83194244],\n",
            "       [-0.18560724, -0.0823747 ]], dtype=float32)>\n"
          ],
          "name": "stdout"
        }
      ]
    },
    {
      "cell_type": "code",
      "metadata": {
        "id": "R1V-jIlXwP3B",
        "colab_type": "code",
        "colab": {
          "base_uri": "https://localhost:8080/",
          "height": 0
        },
        "outputId": "f3da1673-412c-4db9-ff6c-82976984dcfa"
      },
      "source": [
        "added_value = tf.ones(shape=(2,2))\n",
        "weight.assign_add(added_value)\n",
        "print(weight)"
      ],
      "execution_count": 22,
      "outputs": [
        {
          "output_type": "stream",
          "text": [
            "<tf.Variable 'Variable:0' shape=(2, 2) dtype=float32, numpy=\n",
            "array([[2.2547858 , 0.16805756],\n",
            "       [0.81439275, 0.9176253 ]], dtype=float32)>\n"
          ],
          "name": "stdout"
        }
      ]
    },
    {
      "cell_type": "markdown",
      "metadata": {
        "id": "1jtZ7Su1wP3E",
        "colab_type": "text"
      },
      "source": [
        "### Watch out tensor's shape & broadcasting\n",
        "\n",
        "Deep Learning에서는 많은 경우에 고차원의 tensor를 사용하게 되고, 따라서 shape에 주의하여야 합니다\n",
        "\n",
        "특히 broadcasting은 잘 사용하면 매우 유용하지만, 정확히 이해하고 사용해야합니다"
      ]
    },
    {
      "cell_type": "code",
      "metadata": {
        "id": "1J1v2au0wP3F",
        "colab_type": "code",
        "colab": {
          "base_uri": "https://localhost:8080/",
          "height": 0
        },
        "outputId": "a70c1921-5226-4179-8819-b8551a9ef9f7"
      },
      "source": [
        "## Shape??\n",
        "t = tf.constant([[[[1, 2, 3, 4], [5, 6, 7, 8], [9, 10, 11, 12]],\n",
        "                  [[13, 14, 15, 16], [17, 18, 19, 20], [21, 22, 23, 24]]]])\n",
        "print(t.shape)"
      ],
      "execution_count": 23,
      "outputs": [
        {
          "output_type": "stream",
          "text": [
            "(1, 2, 3, 4)\n"
          ],
          "name": "stdout"
        }
      ]
    },
    {
      "cell_type": "code",
      "metadata": {
        "id": "oIe_Oi-ywP3H",
        "colab_type": "code",
        "colab": {
          "base_uri": "https://localhost:8080/",
          "height": 0
        },
        "outputId": "7e030b8b-1192-49a8-e0f4-0d6d3ec36257"
      },
      "source": [
        "## Broadcasting\n",
        "matrix1 = tf.constant([[3., 3.]])\n",
        "matrix2 = tf.constant([[2.],[2.]])\n",
        "\n",
        "print(matrix1)\n",
        "print(matrix2)"
      ],
      "execution_count": 24,
      "outputs": [
        {
          "output_type": "stream",
          "text": [
            "tf.Tensor([[3. 3.]], shape=(1, 2), dtype=float32)\n",
            "tf.Tensor(\n",
            "[[2.]\n",
            " [2.]], shape=(2, 1), dtype=float32)\n"
          ],
          "name": "stdout"
        }
      ]
    },
    {
      "cell_type": "code",
      "metadata": {
        "id": "FKFSzAbwwP3K",
        "colab_type": "code",
        "colab": {
          "base_uri": "https://localhost:8080/",
          "height": 0
        },
        "outputId": "e7b8965c-f340-4968-8089-d2078bdd1b35"
      },
      "source": [
        "print(matrix1+matrix2)\n",
        "print(matrix1-matrix2)\n",
        "print(matrix1*matrix2)\n",
        "print(matrix1/matrix2)"
      ],
      "execution_count": 25,
      "outputs": [
        {
          "output_type": "stream",
          "text": [
            "tf.Tensor(\n",
            "[[5. 5.]\n",
            " [5. 5.]], shape=(2, 2), dtype=float32)\n",
            "tf.Tensor(\n",
            "[[1. 1.]\n",
            " [1. 1.]], shape=(2, 2), dtype=float32)\n",
            "tf.Tensor(\n",
            "[[6. 6.]\n",
            " [6. 6.]], shape=(2, 2), dtype=float32)\n",
            "tf.Tensor(\n",
            "[[1.5 1.5]\n",
            " [1.5 1.5]], shape=(2, 2), dtype=float32)\n"
          ],
          "name": "stdout"
        }
      ]
    },
    {
      "cell_type": "markdown",
      "metadata": {
        "id": "cWN4C8MbwP3N",
        "colab_type": "text"
      },
      "source": [
        "#### Broadcasting 규칙\n",
        "\n",
        "두 개의 배열을 브로드캐스팅하는 것은 다음 규칙을 따릅니다.\n",
        "\n",
        "1. 배열의 랭크가 같지 않으면 두 모양이 같은 길이가 될 때까지 배열의 낮은 랭크쪽에 1을 붙입니다.\n",
        "2. 두 배열은 차원에서 크기가 같거나 배열 중 하나의 차원에 크기가 1 인 경우 차원에서 호환 가능하다고 합니다.\n",
        "3. 배열은 모든 차원에서 호환되면 함께 브로드캐스트 될 수 있습니다.\n",
        "4. 브로드캐스트 후 각 배열은 두 개의 입력 배열의 요소 모양 최대 개수와 동일한 모양을 가진 것처럼 동작합니다.\n",
        "5. 한 배열의 크기가 1이고 다른 배열의 크기가 1보다 큰 차원에서 첫 번째 배열은 마치 해당 차원을 따라 복사 된 것처럼 작동합니다\n",
        "\n",
        "실제로 동작하는 방식을 생각해 봅시다.\n",
        "\n",
        "1. A와 B의 모양을 생각합니다.\n",
        "2. 두 배열이 len(A.shape) == len(B.shape)인지 확인을 합니다.\n",
        "3. 같지 않은 경우에는 두 배열의 모양 길이가 같아질때까지 적은 쪽의 shape 앞에 1 을 추가해 줍니다.\n",
        "- 예: (5,3)–>(1,5,3)\n",
        "4. shape이 1인 곳은 복사가 됩니다.\n",
        "- 예: shape의 변화는 아래와 같게 될겁니다.\n",
        "- (5, 3)+(3,)\n",
        "- (5, 3)+(1, 3)\n",
        "- (5, 3) + (5, 3)\n",
        "- (5, 3)"
      ]
    },
    {
      "cell_type": "markdown",
      "metadata": {
        "id": "otxR2EWuwP3N",
        "colab_type": "text"
      },
      "source": [
        "### Tensor Operations"
      ]
    },
    {
      "cell_type": "markdown",
      "metadata": {
        "id": "CmLzr371wP3O",
        "colab_type": "text"
      },
      "source": [
        "#### Indexing, Slicing"
      ]
    },
    {
      "cell_type": "code",
      "metadata": {
        "id": "nWQWjstPwP3P",
        "colab_type": "code",
        "colab": {
          "base_uri": "https://localhost:8080/",
          "height": 0
        },
        "outputId": "0bb8e6c9-7867-4d09-cbc0-f8185e34a553"
      },
      "source": [
        "x = tf.constant([[1,2,3,4], [5,6,7,8], [9,10,11,12]])\n",
        "print(x)"
      ],
      "execution_count": 26,
      "outputs": [
        {
          "output_type": "stream",
          "text": [
            "tf.Tensor(\n",
            "[[ 1  2  3  4]\n",
            " [ 5  6  7  8]\n",
            " [ 9 10 11 12]], shape=(3, 4), dtype=int32)\n"
          ],
          "name": "stdout"
        }
      ]
    },
    {
      "cell_type": "code",
      "metadata": {
        "id": "CRJniwEiwP3S",
        "colab_type": "code",
        "colab": {
          "base_uri": "https://localhost:8080/",
          "height": 0
        },
        "outputId": "040bfb9e-519d-4864-885a-a767d3d24888"
      },
      "source": [
        "## indexing - indexing을 사용하면 항상 차원이 감소합니다\n",
        "print(x[0])\n",
        "print(x[1])\n",
        "print(x[2])\n",
        "print(x[0, 1])\n",
        "print(x[1, 2])\n",
        "print(x[2, 3])"
      ],
      "execution_count": 27,
      "outputs": [
        {
          "output_type": "stream",
          "text": [
            "tf.Tensor([1 2 3 4], shape=(4,), dtype=int32)\n",
            "tf.Tensor([5 6 7 8], shape=(4,), dtype=int32)\n",
            "tf.Tensor([ 9 10 11 12], shape=(4,), dtype=int32)\n",
            "tf.Tensor(2, shape=(), dtype=int32)\n",
            "tf.Tensor(7, shape=(), dtype=int32)\n",
            "tf.Tensor(12, shape=(), dtype=int32)\n"
          ],
          "name": "stdout"
        }
      ]
    },
    {
      "cell_type": "code",
      "metadata": {
        "id": "bpLIGfcOwP3W",
        "colab_type": "code",
        "colab": {
          "base_uri": "https://localhost:8080/",
          "height": 0
        },
        "outputId": "93a4eeca-3472-4571-fdb5-90070d873985"
      },
      "source": [
        "## slicing\n",
        "print(x[1:3, 1:3])\n",
        "print(x[:2, 1:3])\n",
        "print(x[1:3, 3:])"
      ],
      "execution_count": 28,
      "outputs": [
        {
          "output_type": "stream",
          "text": [
            "tf.Tensor(\n",
            "[[ 6  7]\n",
            " [10 11]], shape=(2, 2), dtype=int32)\n",
            "tf.Tensor(\n",
            "[[2 3]\n",
            " [6 7]], shape=(2, 2), dtype=int32)\n",
            "tf.Tensor(\n",
            "[[ 8]\n",
            " [12]], shape=(2, 1), dtype=int32)\n"
          ],
          "name": "stdout"
        }
      ]
    },
    {
      "cell_type": "markdown",
      "metadata": {
        "id": "JBLqq7wXwP3Z",
        "colab_type": "text"
      },
      "source": [
        "#### Reshape, Expend_dims"
      ]
    },
    {
      "cell_type": "code",
      "metadata": {
        "id": "JKObNNXpwP3a",
        "colab_type": "code",
        "colab": {
          "base_uri": "https://localhost:8080/",
          "height": 0
        },
        "outputId": "94670c23-0790-4b65-c29e-1c0c0399324e"
      },
      "source": [
        "t = tf.constant([[[0, 1, 2], \n",
        "                [3, 4, 5]],              \n",
        "               [[6, 7, 8], \n",
        "                [9, 10, 11]]])\n",
        "print(t.shape)"
      ],
      "execution_count": 29,
      "outputs": [
        {
          "output_type": "stream",
          "text": [
            "(2, 2, 3)\n"
          ],
          "name": "stdout"
        }
      ]
    },
    {
      "cell_type": "code",
      "metadata": {
        "id": "ZOIJ05-RwP3d",
        "colab_type": "code",
        "colab": {
          "base_uri": "https://localhost:8080/",
          "height": 0
        },
        "outputId": "9e80f505-9505-4944-e363-a636c3971eea"
      },
      "source": [
        "print(tf.reshape(t, shape=[-1, 3]))"
      ],
      "execution_count": 30,
      "outputs": [
        {
          "output_type": "stream",
          "text": [
            "tf.Tensor(\n",
            "[[ 0  1  2]\n",
            " [ 3  4  5]\n",
            " [ 6  7  8]\n",
            " [ 9 10 11]], shape=(4, 3), dtype=int32)\n"
          ],
          "name": "stdout"
        }
      ]
    },
    {
      "cell_type": "code",
      "metadata": {
        "id": "bl6gMrLqwP3g",
        "colab_type": "code",
        "colab": {
          "base_uri": "https://localhost:8080/",
          "height": 0
        },
        "outputId": "29b546b2-f15b-4b22-88ac-02b8503fb474"
      },
      "source": [
        "print(tf.reshape(t, shape=[-1, 1, 3]))"
      ],
      "execution_count": 31,
      "outputs": [
        {
          "output_type": "stream",
          "text": [
            "tf.Tensor(\n",
            "[[[ 0  1  2]]\n",
            "\n",
            " [[ 3  4  5]]\n",
            "\n",
            " [[ 6  7  8]]\n",
            "\n",
            " [[ 9 10 11]]], shape=(4, 1, 3), dtype=int32)\n"
          ],
          "name": "stdout"
        }
      ]
    },
    {
      "cell_type": "code",
      "metadata": {
        "id": "FXKuUpBtwP3j",
        "colab_type": "code",
        "colab": {
          "base_uri": "https://localhost:8080/",
          "height": 0
        },
        "outputId": "5fe532c0-a696-4591-d988-abea03e6fbd5"
      },
      "source": [
        "x = tf.constant([0, 1, 2])\n",
        "print(x.shape)"
      ],
      "execution_count": 32,
      "outputs": [
        {
          "output_type": "stream",
          "text": [
            "(3,)\n"
          ],
          "name": "stdout"
        }
      ]
    },
    {
      "cell_type": "code",
      "metadata": {
        "id": "eu5yoL-XwP3m",
        "colab_type": "code",
        "colab": {
          "base_uri": "https://localhost:8080/",
          "height": 0
        },
        "outputId": "d2f670f3-bfb3-420f-d853-4f665c79c0da"
      },
      "source": [
        "print(tf.expand_dims(x, axis=0))\n",
        "print(tf.expand_dims(x, axis=1))"
      ],
      "execution_count": 33,
      "outputs": [
        {
          "output_type": "stream",
          "text": [
            "tf.Tensor([[0 1 2]], shape=(1, 3), dtype=int32)\n",
            "tf.Tensor(\n",
            "[[0]\n",
            " [1]\n",
            " [2]], shape=(3, 1), dtype=int32)\n"
          ],
          "name": "stdout"
        }
      ]
    },
    {
      "cell_type": "markdown",
      "metadata": {
        "id": "Xwk7MP1DwP3q",
        "colab_type": "text"
      },
      "source": [
        "#### Reduce Mean/Sum"
      ]
    },
    {
      "cell_type": "code",
      "metadata": {
        "id": "opingndLwP3q",
        "colab_type": "code",
        "colab": {
          "base_uri": "https://localhost:8080/",
          "height": 0
        },
        "outputId": "574bebb1-4b7f-4731-9b19-0c94b52cd5e2"
      },
      "source": [
        "x = tf.constant([[1., 2.],\n",
        "                [3., 4.]])\n",
        "\n",
        "print(tf.reduce_mean(x))"
      ],
      "execution_count": 34,
      "outputs": [
        {
          "output_type": "stream",
          "text": [
            "tf.Tensor(2.5, shape=(), dtype=float32)\n"
          ],
          "name": "stdout"
        }
      ]
    },
    {
      "cell_type": "code",
      "metadata": {
        "id": "wXrXXCnJwP3t",
        "colab_type": "code",
        "colab": {
          "base_uri": "https://localhost:8080/",
          "height": 0
        },
        "outputId": "0403bbc1-ad22-4d24-a9ef-4a2669110414"
      },
      "source": [
        "print(tf.reduce_mean(x, axis=0))"
      ],
      "execution_count": 35,
      "outputs": [
        {
          "output_type": "stream",
          "text": [
            "tf.Tensor([2. 3.], shape=(2,), dtype=float32)\n"
          ],
          "name": "stdout"
        }
      ]
    },
    {
      "cell_type": "code",
      "metadata": {
        "id": "Si5NR-d_wP3v",
        "colab_type": "code",
        "colab": {
          "base_uri": "https://localhost:8080/",
          "height": 0
        },
        "outputId": "fce8326f-b014-466e-90ae-5826be6a210e"
      },
      "source": [
        "print(tf.reduce_mean(x, axis=1))"
      ],
      "execution_count": 36,
      "outputs": [
        {
          "output_type": "stream",
          "text": [
            "tf.Tensor([1.5 3.5], shape=(2,), dtype=float32)\n"
          ],
          "name": "stdout"
        }
      ]
    },
    {
      "cell_type": "code",
      "metadata": {
        "id": "6i41fST1wP3x",
        "colab_type": "code",
        "colab": {
          "base_uri": "https://localhost:8080/",
          "height": 0
        },
        "outputId": "0f1e9775-7aad-4efb-8a5a-763014590759"
      },
      "source": [
        "print(tf.reduce_mean(x, axis=-1))"
      ],
      "execution_count": 37,
      "outputs": [
        {
          "output_type": "stream",
          "text": [
            "tf.Tensor([1.5 3.5], shape=(2,), dtype=float32)\n"
          ],
          "name": "stdout"
        }
      ]
    },
    {
      "cell_type": "markdown",
      "metadata": {
        "id": "z_W6aJTowP3z",
        "colab_type": "text"
      },
      "source": [
        "여기서 축(axis)은 각 배열의 차원에 해당되는 인덱스입니다. 위의 예를 설명하면\n",
        "\n",
        "- x.shape 은 (2, 2) 입니다.\n",
        "- tf.reduce_mean(x, axis=0) 은\n",
        "- x.shape[axis]: x.shape[0] 에 대하여 연산을 하라는 의미\n",
        "입니다.\n",
        "\n",
        "X.shape == (5, 3, 2) 인 경우를 생각해봅시다. 이 경우 tf.reduce_mean(X, axis=1) 의 결과값은\n",
        "\n",
        "1. X.shape[axis] => X.shape[1] 에 대해서 연산을 하기 때문에\n",
        "2. tf.reduce_mean(X, axis=1).shape 은 (5, 3, 2) -> (5, 2) 가 됩니다."
      ]
    },
    {
      "cell_type": "code",
      "metadata": {
        "scrolled": true,
        "id": "7RfW9UeswP30",
        "colab_type": "code",
        "colab": {
          "base_uri": "https://localhost:8080/",
          "height": 0
        },
        "outputId": "f62e17f9-558d-4a0b-81c6-40931bf1f4ec"
      },
      "source": [
        "print(tf.reduce_sum(x))"
      ],
      "execution_count": 38,
      "outputs": [
        {
          "output_type": "stream",
          "text": [
            "tf.Tensor(10.0, shape=(), dtype=float32)\n"
          ],
          "name": "stdout"
        }
      ]
    },
    {
      "cell_type": "code",
      "metadata": {
        "id": "53pZvjDCwP35",
        "colab_type": "code",
        "colab": {
          "base_uri": "https://localhost:8080/",
          "height": 0
        },
        "outputId": "cd9704d4-2c6a-43df-d277-141689cc1653"
      },
      "source": [
        "print(tf.reduce_sum(x, axis=0))"
      ],
      "execution_count": 39,
      "outputs": [
        {
          "output_type": "stream",
          "text": [
            "tf.Tensor([4. 6.], shape=(2,), dtype=float32)\n"
          ],
          "name": "stdout"
        }
      ]
    },
    {
      "cell_type": "code",
      "metadata": {
        "id": "8siygT_LwP37",
        "colab_type": "code",
        "colab": {
          "base_uri": "https://localhost:8080/",
          "height": 0
        },
        "outputId": "69da45ec-397f-44a2-bbe6-9931e3e5a1c1"
      },
      "source": [
        "print(tf.reduce_sum(x, axis=-1))"
      ],
      "execution_count": 40,
      "outputs": [
        {
          "output_type": "stream",
          "text": [
            "tf.Tensor([3. 7.], shape=(2,), dtype=float32)\n"
          ],
          "name": "stdout"
        }
      ]
    },
    {
      "cell_type": "code",
      "metadata": {
        "id": "UF4Ayj4xwP39",
        "colab_type": "code",
        "colab": {
          "base_uri": "https://localhost:8080/",
          "height": 0
        },
        "outputId": "d2ba8110-6c83-4def-a141-ba28521f8a5b"
      },
      "source": [
        "print(tf.reduce_mean(tf.reduce_sum(x, axis=-1)))"
      ],
      "execution_count": 41,
      "outputs": [
        {
          "output_type": "stream",
          "text": [
            "tf.Tensor(5.0, shape=(), dtype=float32)\n"
          ],
          "name": "stdout"
        }
      ]
    },
    {
      "cell_type": "code",
      "metadata": {
        "scrolled": false,
        "id": "q2uJWk7KwP4A",
        "colab_type": "code",
        "colab": {
          "base_uri": "https://localhost:8080/",
          "height": 0
        },
        "outputId": "f467eaa1-efe5-4112-af8e-d0e49ff9b607"
      },
      "source": [
        "print(t)"
      ],
      "execution_count": 42,
      "outputs": [
        {
          "output_type": "stream",
          "text": [
            "tf.Tensor(\n",
            "[[[ 0  1  2]\n",
            "  [ 3  4  5]]\n",
            "\n",
            " [[ 6  7  8]\n",
            "  [ 9 10 11]]], shape=(2, 2, 3), dtype=int32)\n"
          ],
          "name": "stdout"
        }
      ]
    },
    {
      "cell_type": "code",
      "metadata": {
        "id": "4YvtFKAOwP4E",
        "colab_type": "code",
        "colab": {
          "base_uri": "https://localhost:8080/",
          "height": 0
        },
        "outputId": "82b42c50-5fa6-4a17-9a4e-7f39bf3d687c"
      },
      "source": [
        "print(tf.reduce_sum(t, axis=0))\n",
        "print(tf.reduce_sum(t, axis=1))\n",
        "print(tf.reduce_sum(t, axis=-1))"
      ],
      "execution_count": 43,
      "outputs": [
        {
          "output_type": "stream",
          "text": [
            "tf.Tensor(\n",
            "[[ 6  8 10]\n",
            " [12 14 16]], shape=(2, 3), dtype=int32)\n",
            "tf.Tensor(\n",
            "[[ 3  5  7]\n",
            " [15 17 19]], shape=(2, 3), dtype=int32)\n",
            "tf.Tensor(\n",
            "[[ 3 12]\n",
            " [21 30]], shape=(2, 2), dtype=int32)\n"
          ],
          "name": "stdout"
        }
      ]
    },
    {
      "cell_type": "markdown",
      "metadata": {
        "id": "hBEDt2GlwP4J",
        "colab_type": "text"
      },
      "source": [
        "#### Argmax"
      ]
    },
    {
      "cell_type": "code",
      "metadata": {
        "id": "bjy3fD4QwP4K",
        "colab_type": "code",
        "colab": {
          "base_uri": "https://localhost:8080/",
          "height": 0
        },
        "outputId": "2b5885c0-62af-4aea-e3b8-c1f7cc3a8f25"
      },
      "source": [
        "x = [[0, 1, 2],\n",
        "     [2, 1, 0]]\n",
        "print(tf.argmax(x, axis=0))"
      ],
      "execution_count": 44,
      "outputs": [
        {
          "output_type": "stream",
          "text": [
            "tf.Tensor([1 0 0], shape=(3,), dtype=int64)\n"
          ],
          "name": "stdout"
        }
      ]
    },
    {
      "cell_type": "code",
      "metadata": {
        "id": "iUR4kli7wP4M",
        "colab_type": "code",
        "colab": {
          "base_uri": "https://localhost:8080/",
          "height": 0
        },
        "outputId": "bd5988cd-5576-4692-9a4b-ec529dab9176"
      },
      "source": [
        "print(tf.argmax(x, axis=1))"
      ],
      "execution_count": 45,
      "outputs": [
        {
          "output_type": "stream",
          "text": [
            "tf.Tensor([2 0], shape=(2,), dtype=int64)\n"
          ],
          "name": "stdout"
        }
      ]
    },
    {
      "cell_type": "code",
      "metadata": {
        "id": "_DfpSPhQwP4Q",
        "colab_type": "code",
        "colab": {
          "base_uri": "https://localhost:8080/",
          "height": 0
        },
        "outputId": "7d73cca5-5ccb-47f6-e131-1c1c4e219491"
      },
      "source": [
        "print(tf.argmax(x, axis=-1))"
      ],
      "execution_count": 46,
      "outputs": [
        {
          "output_type": "stream",
          "text": [
            "tf.Tensor([2 0], shape=(2,), dtype=int64)\n"
          ],
          "name": "stdout"
        }
      ]
    },
    {
      "cell_type": "markdown",
      "metadata": {
        "id": "8ySU5JA7wP4S",
        "colab_type": "text"
      },
      "source": [
        "#### One-hot Encoding"
      ]
    },
    {
      "cell_type": "code",
      "metadata": {
        "id": "la2hlpqtwP4S",
        "colab_type": "code",
        "colab": {
          "base_uri": "https://localhost:8080/",
          "height": 0
        },
        "outputId": "20c3822b-8b86-4cd4-a5d9-ad36ad498f98"
      },
      "source": [
        "label = tf.constant([0, 1, 2, 0])\n",
        "onehot1 = tf.one_hot(label, depth=3)\n",
        "onehot2 = keras.utils.to_categorical(label, num_classes=3)\n",
        "\n",
        "print(onehot1, type(onehot1))\n",
        "print(onehot2, type(onehot2))"
      ],
      "execution_count": 47,
      "outputs": [
        {
          "output_type": "stream",
          "text": [
            "tf.Tensor(\n",
            "[[1. 0. 0.]\n",
            " [0. 1. 0.]\n",
            " [0. 0. 1.]\n",
            " [1. 0. 0.]], shape=(4, 3), dtype=float32) <class 'tensorflow.python.framework.ops.EagerTensor'>\n",
            "[[1. 0. 0.]\n",
            " [0. 1. 0.]\n",
            " [0. 0. 1.]\n",
            " [1. 0. 0.]] <class 'numpy.ndarray'>\n"
          ],
          "name": "stdout"
        }
      ]
    },
    {
      "cell_type": "markdown",
      "metadata": {
        "id": "L0cg-32PwP4V",
        "colab_type": "text"
      },
      "source": [
        "#### Type Casting"
      ]
    },
    {
      "cell_type": "code",
      "metadata": {
        "id": "jatYT4zLwP4W",
        "colab_type": "code",
        "colab": {
          "base_uri": "https://localhost:8080/",
          "height": 0
        },
        "outputId": "b104b435-f9cc-4441-cdd6-9bed13b61839"
      },
      "source": [
        "print(tf.cast([1.8, 2.2, 3.3, 4.9], tf.int32))"
      ],
      "execution_count": 48,
      "outputs": [
        {
          "output_type": "stream",
          "text": [
            "tf.Tensor([1 2 3 4], shape=(4,), dtype=int32)\n"
          ],
          "name": "stdout"
        }
      ]
    },
    {
      "cell_type": "code",
      "metadata": {
        "id": "tICoHJuzwP4Y",
        "colab_type": "code",
        "colab": {
          "base_uri": "https://localhost:8080/",
          "height": 0
        },
        "outputId": "2300cfe3-9932-4c9b-e439-c79969c20ce2"
      },
      "source": [
        "print(tf.cast([True, False, 1 == 1, 0 == 1], tf.int32))"
      ],
      "execution_count": 49,
      "outputs": [
        {
          "output_type": "stream",
          "text": [
            "tf.Tensor([1 0 1 0], shape=(4,), dtype=int32)\n"
          ],
          "name": "stdout"
        }
      ]
    },
    {
      "cell_type": "markdown",
      "metadata": {
        "id": "9h0d3o9FwP4a",
        "colab_type": "text"
      },
      "source": [
        "### tf.data를 이용하여 Dataset 만들기\n",
        "\n",
        "TensorFlow를 이용하여 deep learning model을 학습할 때, input data 및 label을 공급해주기 위하여 tf.data.Dataset을 이용합니다."
      ]
    },
    {
      "cell_type": "code",
      "metadata": {
        "id": "5mbHU-rhwP4b",
        "colab_type": "code",
        "colab": {
          "base_uri": "https://localhost:8080/",
          "height": 0
        },
        "outputId": "7e4a6a8d-7c23-48b3-a92b-08805b3986ca"
      },
      "source": [
        "## 0에서 9까지 정수가 input data라고 가정해봅시다\n",
        "a = np.arange(10)\n",
        "print(a)\n",
        "\n",
        "## dataset은 아래와 같이 만들 수 있습니다\n",
        "ds_tensors = tf.data.Dataset.from_tensor_slices(a)\n",
        "print(ds_tensors)\n",
        "\n",
        "## dataset에서 앞 5개 data를 꺼내서 확인해보겠습니다\n",
        "data = ds_tensors.take(5)\n",
        "for x in data:\n",
        "    print (x)"
      ],
      "execution_count": 50,
      "outputs": [
        {
          "output_type": "stream",
          "text": [
            "[0 1 2 3 4 5 6 7 8 9]\n",
            "<TensorSliceDataset shapes: (), types: tf.int64>\n",
            "tf.Tensor(0, shape=(), dtype=int64)\n",
            "tf.Tensor(1, shape=(), dtype=int64)\n",
            "tf.Tensor(2, shape=(), dtype=int64)\n",
            "tf.Tensor(3, shape=(), dtype=int64)\n",
            "tf.Tensor(4, shape=(), dtype=int64)\n"
          ],
          "name": "stdout"
        }
      ]
    },
    {
      "cell_type": "code",
      "metadata": {
        "id": "b5AKSCPewP4c",
        "colab_type": "code",
        "colab": {}
      },
      "source": [
        "## dataset 내의 각 data에 함수를 적용하기 위해서는 아래와 같이 map을 사용합니다\n",
        "## 이는 data 전처리에 많이 사용됩니다\n",
        "## 또한 data를 섞어주는 shuffle과 batch size만큼 data를 꺼내주는 batch도 사용할 수 있습니다\n",
        "\n",
        "ds_tensors = ds_tensors.map(tf.square).shuffle(20).batch(2)"
      ],
      "execution_count": 0,
      "outputs": []
    },
    {
      "cell_type": "code",
      "metadata": {
        "id": "nfFl2mbDwP4e",
        "colab_type": "code",
        "colab": {
          "base_uri": "https://localhost:8080/",
          "height": 0
        },
        "outputId": "0b5ee6f7-5284-4202-ccce-d5f8ed8cbe93"
      },
      "source": [
        "## 실제 data를 꺼내서 사용할 때는 아래와 같이 for문에 dataset을 넣어주면 됩니다.\n",
        "print('Elements of ds_tensors:')\n",
        "for _ in range(3):\n",
        "    for x in ds_tensors:\n",
        "        print(x)"
      ],
      "execution_count": 52,
      "outputs": [
        {
          "output_type": "stream",
          "text": [
            "Elements of ds_tensors:\n",
            "tf.Tensor([49 36], shape=(2,), dtype=int64)\n",
            "tf.Tensor([ 0 81], shape=(2,), dtype=int64)\n",
            "tf.Tensor([ 1 16], shape=(2,), dtype=int64)\n",
            "tf.Tensor([ 4 64], shape=(2,), dtype=int64)\n",
            "tf.Tensor([ 9 25], shape=(2,), dtype=int64)\n",
            "tf.Tensor([36 64], shape=(2,), dtype=int64)\n",
            "tf.Tensor([ 1 49], shape=(2,), dtype=int64)\n",
            "tf.Tensor([25  4], shape=(2,), dtype=int64)\n",
            "tf.Tensor([9 0], shape=(2,), dtype=int64)\n",
            "tf.Tensor([16 81], shape=(2,), dtype=int64)\n",
            "tf.Tensor([16  1], shape=(2,), dtype=int64)\n",
            "tf.Tensor([64 36], shape=(2,), dtype=int64)\n",
            "tf.Tensor([25  9], shape=(2,), dtype=int64)\n",
            "tf.Tensor([49  0], shape=(2,), dtype=int64)\n",
            "tf.Tensor([ 4 81], shape=(2,), dtype=int64)\n"
          ],
          "name": "stdout"
        }
      ]
    },
    {
      "cell_type": "markdown",
      "metadata": {
        "id": "kRWftGYRwP4f",
        "colab_type": "text"
      },
      "source": [
        "### TensorFlow를 이용하여 자동미분 계산하기\n",
        "\n",
        "Deep learning model을 학습시키기 위해서는 gradient descent 방법을 사용하고, 이를 위해서는 gradient 즉 미분을 계산해야 합니다.\n",
        "(Loss 를 weight로 미분)\n",
        "\n",
        "TensorFlow에서 자동으로 미분을 계산하는 방법을 알아보겠습니다"
      ]
    },
    {
      "cell_type": "markdown",
      "metadata": {
        "id": "wX4XMtkhwP4g",
        "colab_type": "text"
      },
      "source": [
        "TensorFlow는 자동 미분을 위한 tf.GradientTape API를 제공합니다. \n",
        "\n",
        "tf.GradientTape는 컨텍스트(context) 안에서 실행된 모든 연산을 테이프(tape)에 \"기록\"합니다. \n",
        "\n",
        "그 다음 TensorFlow는 후진 방식 자동 미분(reverse mode differentiation)을 사용해 테이프에 \"기록된\" 연산의 그래디언트를 계산합니다."
      ]
    },
    {
      "cell_type": "code",
      "metadata": {
        "id": "pdieSE-vwP4g",
        "colab_type": "code",
        "colab": {
          "base_uri": "https://localhost:8080/",
          "height": 0
        },
        "outputId": "4c6d15c0-48f8-4f11-f23a-877edf787478"
      },
      "source": [
        "## GradientTape를 열게되면, 그때부턴 tape.watch()를 통해 tensor를 확인하고, \n",
        "## 이 tensor를 입력으로써 사용하는 미분을 자동으로 계산하는것이 가능합니다.\n",
        "x = tf.ones((2, 2))\n",
        "\n",
        "with tf.GradientTape() as t:\n",
        "    t.watch(x)    \n",
        "    y = tf.reduce_sum(x)\n",
        "    z = tf.multiply(y, y)\n",
        "\n",
        "# 입력 텐서 x에 대한 z의 미분\n",
        "dz_dx = t.gradient(z, x)\n",
        "print(dz_dx)"
      ],
      "execution_count": 53,
      "outputs": [
        {
          "output_type": "stream",
          "text": [
            "tf.Tensor(\n",
            "[[8. 8.]\n",
            " [8. 8.]], shape=(2, 2), dtype=float32)\n"
          ],
          "name": "stdout"
        }
      ]
    },
    {
      "cell_type": "code",
      "metadata": {
        "id": "IqchwXE2wP4i",
        "colab_type": "code",
        "colab": {
          "base_uri": "https://localhost:8080/",
          "height": 0
        },
        "outputId": "4cf997ab-c428-488b-c97f-11669df170ff"
      },
      "source": [
        "## 기본적으로 Variable들은 자동으로 watch가 적용되어 있기 때문에, 수동으로 `watch`를 해 줄 필요는 없습니다.\n",
        "x = tf.Variable(x)\n",
        "with tf.GradientTape() as t:   \n",
        "    y = tf.reduce_sum(x)\n",
        "    z = tf.multiply(y, y)\n",
        "\n",
        "# 입력 텐서 x에 대한 z의 미분\n",
        "dz_dx = t.gradient(z, x)\n",
        "print(dz_dx)"
      ],
      "execution_count": 54,
      "outputs": [
        {
          "output_type": "stream",
          "text": [
            "tf.Tensor(\n",
            "[[8. 8.]\n",
            " [8. 8.]], shape=(2, 2), dtype=float32)\n"
          ],
          "name": "stdout"
        }
      ]
    },
    {
      "cell_type": "markdown",
      "metadata": {
        "id": "fmv0r54owP4j",
        "colab_type": "text"
      },
      "source": [
        "## End-to-End 예제: 선형 회귀\n",
        "\n",
        "가장 간단한 model중 하나인 선형 회귀(linear regression) 모델을 만들고 학습을 해보겠습니다"
      ]
    },
    {
      "cell_type": "code",
      "metadata": {
        "id": "SXdupTf0wP4j",
        "colab_type": "code",
        "colab": {}
      },
      "source": [
        "## Library import\n",
        "import matplotlib.pyplot as plt"
      ],
      "execution_count": 0,
      "outputs": []
    },
    {
      "cell_type": "code",
      "metadata": {
        "id": "rXFlHqktwP4n",
        "colab_type": "code",
        "colab": {}
      },
      "source": [
        "## For reproducibility\n",
        "np.random.seed(777)\n",
        "tf.random.set_seed(777)"
      ],
      "execution_count": 0,
      "outputs": []
    },
    {
      "cell_type": "code",
      "metadata": {
        "id": "RooDcCXmwP4p",
        "colab_type": "code",
        "colab": {}
      },
      "source": [
        "## Input data 생성\n",
        "## y = 1 * x + 2를 따르는 noisy한 data를 100개 생성함\n",
        "\n",
        "## inputs\n",
        "x = np.linspace(0, 1, 100, dtype=np.float32)\n",
        "\n",
        "## ground truth\n",
        "# 기울기\n",
        "slopes = 1\n",
        "# 절편에 noise 추가\n",
        "intercept = np.random.normal(2, 0.2, 100).astype(np.float32)\n",
        "\n",
        "## outputs\n",
        "y = x * slopes + intercept"
      ],
      "execution_count": 0,
      "outputs": []
    },
    {
      "cell_type": "code",
      "metadata": {
        "id": "3QXRhyKqwP4r",
        "colab_type": "code",
        "colab": {
          "base_uri": "https://localhost:8080/",
          "height": 36
        },
        "outputId": "94a7fd9e-ee5f-4dc3-e1db-ea5fd0326c18"
      },
      "source": [
        "print(slopes)"
      ],
      "execution_count": 58,
      "outputs": [
        {
          "output_type": "stream",
          "text": [
            "1\n"
          ],
          "name": "stdout"
        }
      ]
    },
    {
      "cell_type": "code",
      "metadata": {
        "id": "ya0OoxxcwP4s",
        "colab_type": "code",
        "colab": {
          "base_uri": "https://localhost:8080/",
          "height": 305
        },
        "outputId": "d81fa113-ad03-4eef-adad-b081a0e3e5ce"
      },
      "source": [
        "print(intercept)"
      ],
      "execution_count": 59,
      "outputs": [
        {
          "output_type": "stream",
          "text": [
            "[1.9063582 1.835435  1.9869239 1.8573276 2.1812701 2.1532474 2.1652107\n",
            " 1.7352635 1.6495111 2.2004898 2.1089618 2.3790321 1.8461285 1.7193809\n",
            " 1.8735065 1.8882253 1.7533537 1.9120992 2.1829574 2.053008  1.723326\n",
            " 2.1371024 2.0912182 1.9077251 2.01894   1.6914377 2.495874  2.0913734\n",
            " 1.9372255 2.0042074 2.1921587 2.0116966 1.9107935 2.0638394 2.1682336\n",
            " 1.6934476 1.9436831 2.3488905 1.8651522 2.1176803 2.3608727 2.41125\n",
            " 2.2909164 1.9723177 2.0685744 1.8544763 1.7192107 1.7518778 1.9113035\n",
            " 1.990535  2.151537  1.9695828 1.9457442 1.8800321 1.5946192 2.0660684\n",
            " 1.9338338 1.9930116 2.0579495 1.878746  1.9463191 2.2382956 2.0315228\n",
            " 2.2349648 2.264182  1.8303926 2.1491416 1.9376757 1.7897869 1.7847006\n",
            " 2.090122  2.0817482 1.7140917 2.2034855 1.9836458 1.9232163 1.9523549\n",
            " 2.0017576 2.1040938 2.080741  1.9196435 1.860551  2.1291966 1.9448934\n",
            " 1.924158  2.393607  2.0404994 2.0745394 2.1962693 2.1472924 2.2822602\n",
            " 1.9746964 2.1106315 1.8368928 2.1077404 1.556441  1.8187416 1.7075751\n",
            " 1.864487  2.3045607]\n"
          ],
          "name": "stdout"
        }
      ]
    },
    {
      "cell_type": "code",
      "metadata": {
        "id": "JceOUCPvwP4w",
        "colab_type": "code",
        "colab": {
          "base_uri": "https://localhost:8080/",
          "height": 265
        },
        "outputId": "f1441b08-76f8-4bf6-9896-a1c77f0d7410"
      },
      "source": [
        "## 만들어진 data와 ground truth 확인\n",
        "plt.scatter(x, y)\n",
        "plt.plot(x, x * 1 + 2., label=\"ground truth\", c=\"r\")\n",
        "plt.legend()\n",
        "plt.show()"
      ],
      "execution_count": 60,
      "outputs": [
        {
          "output_type": "display_data",
          "data": {
            "image/png": "[encoded data removed]",
            "text/plain": [
              "<Figure size 432x288 with 1 Axes>"
            ]
          },
          "metadata": {
            "tags": []
          }
        }
      ]
    },
    {
      "cell_type": "code",
      "metadata": {
        "id": "5noGAYJQwP4x",
        "colab_type": "code",
        "colab": {
          "base_uri": "https://localhost:8080/",
          "height": 36
        },
        "outputId": "76ec4fde-9c08-401d-a426-6c5dc8dd5d27"
      },
      "source": [
        "## input data type 확인\n",
        "x.dtype"
      ],
      "execution_count": 61,
      "outputs": [
        {
          "output_type": "execute_result",
          "data": {
            "text/plain": [
              "dtype('float32')"
            ]
          },
          "metadata": {
            "tags": []
          },
          "execution_count": 61
        }
      ]
    },
    {
      "cell_type": "code",
      "metadata": {
        "id": "ztTwjsHtwP4z",
        "colab_type": "code",
        "colab": {
          "base_uri": "https://localhost:8080/",
          "height": 36
        },
        "outputId": "60d98614-6790-4315-dab0-a5fba8460454"
      },
      "source": [
        "## label type 확인\n",
        "y.dtype"
      ],
      "execution_count": 62,
      "outputs": [
        {
          "output_type": "execute_result",
          "data": {
            "text/plain": [
              "dtype('float32')"
            ]
          },
          "metadata": {
            "tags": []
          },
          "execution_count": 62
        }
      ]
    },
    {
      "cell_type": "code",
      "metadata": {
        "id": "yQ72dHTZwP42",
        "colab_type": "code",
        "colab": {
          "base_uri": "https://localhost:8080/",
          "height": 36
        },
        "outputId": "d84d9aad-7712-411d-e1ff-df768121cd88"
      },
      "source": [
        "## input data shape 확인\n",
        "x.shape"
      ],
      "execution_count": 63,
      "outputs": [
        {
          "output_type": "execute_result",
          "data": {
            "text/plain": [
              "(100,)"
            ]
          },
          "metadata": {
            "tags": []
          },
          "execution_count": 63
        }
      ]
    },
    {
      "cell_type": "code",
      "metadata": {
        "id": "aUqD3RZPwP44",
        "colab_type": "code",
        "colab": {
          "base_uri": "https://localhost:8080/",
          "height": 36
        },
        "outputId": "c88c0f7c-8295-46df-e695-0cd0c203b7e5"
      },
      "source": [
        "## label shape 확인\n",
        "y.shape"
      ],
      "execution_count": 64,
      "outputs": [
        {
          "output_type": "execute_result",
          "data": {
            "text/plain": [
              "(100,)"
            ]
          },
          "metadata": {
            "tags": []
          },
          "execution_count": 64
        }
      ]
    },
    {
      "cell_type": "code",
      "metadata": {
        "id": "UCez8Fo9wP46",
        "colab_type": "code",
        "colab": {}
      },
      "source": [
        "## Dataset 만들기\n",
        "dataset = tf.data.Dataset.from_tensor_slices((x, y))\n",
        "dataset = dataset.shuffle(buffer_size=100).batch(50)"
      ],
      "execution_count": 0,
      "outputs": []
    },
    {
      "cell_type": "code",
      "metadata": {
        "id": "CeyxcB58wP47",
        "colab_type": "code",
        "colab": {}
      },
      "source": [
        "## Weight와 bias 만들기\n",
        "w = tf.Variable(.1, tf.float32)\n",
        "b = tf.Variable(0., tf.float32)"
      ],
      "execution_count": 0,
      "outputs": []
    },
    {
      "cell_type": "code",
      "metadata": {
        "id": "05LSrYDRwP49",
        "colab_type": "code",
        "colab": {}
      },
      "source": [
        "# learning rate\n",
        "learning_rate = 0.1"
      ],
      "execution_count": 0,
      "outputs": []
    },
    {
      "cell_type": "code",
      "metadata": {
        "id": "va195J4fwP4-",
        "colab_type": "code",
        "colab": {}
      },
      "source": [
        "## linear regression model 만들기\n",
        "def compute_predictions(x):\n",
        "    return x * w + b"
      ],
      "execution_count": 0,
      "outputs": []
    },
    {
      "cell_type": "code",
      "metadata": {
        "id": "uSz-k51EwP5A",
        "colab_type": "code",
        "colab": {}
      },
      "source": [
        "## loss function - Mean Squared Error\n",
        "def compute_loss(labels, predictions):\n",
        "    return tf.reduce_mean(tf.square(labels - predictions))"
      ],
      "execution_count": 0,
      "outputs": []
    },
    {
      "cell_type": "code",
      "metadata": {
        "id": "gCJKNdUqwP5B",
        "colab_type": "code",
        "colab": {}
      },
      "source": [
        "## gradient 계산하여 gradient descent 학습법으로 weight와 bias update\n",
        "def train_on_batch(x, y):\n",
        "    with tf.GradientTape() as tape:\n",
        "        predictions = compute_predictions(x)\n",
        "        loss = compute_loss(y, predictions)\n",
        "        dloss_dw, dloss_db = tape.gradient(loss, [w, b])\n",
        "    w.assign_sub(learning_rate * dloss_dw)\n",
        "    b.assign_sub(learning_rate * dloss_db)\n",
        "    return loss"
      ],
      "execution_count": 0,
      "outputs": []
    },
    {
      "cell_type": "code",
      "metadata": {
        "id": "G6sg0Lv0wP5D",
        "colab_type": "code",
        "colab": {
          "base_uri": "https://localhost:8080/",
          "height": 401
        },
        "outputId": "33b1c823-d2d0-45e8-ed4e-b45845305799"
      },
      "source": [
        "## 20 epoch 동안 학습진행\n",
        "loss_list, w_list, b_list = [], [], []\n",
        "for epoch in range(20):\n",
        "    loss = 0.\n",
        "    for x, y in dataset:\n",
        "        loss_ = train_on_batch(x, y)\n",
        "        loss += loss_ / 2.\n",
        "    print(epoch+1, \"\\t\", loss.numpy(), \"\\t\", w.numpy(), \"\\t\", b.numpy())\n",
        "    loss_list.append(loss.numpy())\n",
        "    w_list.append(w.numpy())\n",
        "    b_list.append(b.numpy())"
      ],
      "execution_count": 71,
      "outputs": [
        {
          "output_type": "stream",
          "text": [
            "1 \t 4.7776685 \t 0.5569769 \t 0.8551079\n",
            "2 \t 1.5102894 \t 0.80822545 \t 1.3317164\n",
            "3 \t 0.49640912 \t 0.947535 \t 1.5990996\n",
            "4 \t 0.18050697 \t 1.0242769 \t 1.7485958\n",
            "5 \t 0.08240794 \t 1.0654016 \t 1.831957\n",
            "6 \t 0.051610276 \t 1.0872693 \t 1.8799951\n",
            "7 \t 0.04194724 \t 1.0983481 \t 1.9071577\n",
            "8 \t 0.038954623 \t 1.1031792 \t 1.9225572\n",
            "9 \t 0.037951253 \t 1.1050564 \t 1.9321283\n",
            "10 \t 0.037661683 \t 1.1055609 \t 1.9389962\n",
            "11 \t 0.037488643 \t 1.1047261 \t 1.9431875\n",
            "12 \t 0.037382364 \t 1.1029875 \t 1.9455379\n",
            "13 \t 0.03751649 \t 1.1016564 \t 1.9484711\n",
            "14 \t 0.037567057 \t 1.0984436 \t 1.9478295\n",
            "15 \t 0.03729185 \t 1.0967523 \t 1.9498359\n",
            "16 \t 0.03725823 \t 1.094872 \t 1.9513646\n",
            "17 \t 0.037321508 \t 1.0933061 \t 1.9533117\n",
            "18 \t 0.037451833 \t 1.0903264 \t 1.9524491\n",
            "19 \t 0.03724771 \t 1.089058 \t 1.9547163\n",
            "20 \t 0.03720686 \t 1.0874785 \t 1.9563076\n"
          ],
          "name": "stdout"
        }
      ]
    },
    {
      "cell_type": "code",
      "metadata": {
        "id": "GEfe5EIgwP5F",
        "colab_type": "code",
        "colab": {
          "base_uri": "https://localhost:8080/",
          "height": 269
        },
        "outputId": "8b3413cc-8724-4ce4-c7d5-112c538fbf3b"
      },
      "source": [
        "# Training graph\n",
        "plt.plot(loss_list, label=\"loss\")\n",
        "plt.plot(w_list, label=\"w\")\n",
        "plt.plot(b_list, label=\"b\")\n",
        "plt.legend()\n",
        "plt.show()"
      ],
      "execution_count": 72,
      "outputs": [
        {
          "output_type": "display_data",
          "data": {
            "image/png": "[encoded data removed]",
            "text/plain": [
              "<Figure size 432x288 with 1 Axes>"
            ]
          },
          "metadata": {
            "tags": []
          }
        }
      ]
    },
    {
      "cell_type": "code",
      "metadata": {
        "id": "-lJeui7VwP5H",
        "colab_type": "code",
        "colab": {
          "base_uri": "https://localhost:8080/",
          "height": 265
        },
        "outputId": "88e19a4b-04db-4421-9588-c42f1f106ddc"
      },
      "source": [
        "## 결과 확인\n",
        "plt.scatter(x, y)\n",
        "plt.plot(x, x * w_list[-1] + b_list[-1], label=\"model\", c=\"r\")\n",
        "plt.plot(x, x * 1 + 2., label=\"ground truth\", c=\"g\")\n",
        "plt.legend()\n",
        "plt.show()"
      ],
      "execution_count": 73,
      "outputs": [
        {
          "output_type": "display_data",
          "data": {
            "image/png": "[encoded data removed]",
            "text/plain": [
              "<Figure size 432x288 with 1 Axes>"
            ]
          },
          "metadata": {
            "tags": []
          }
        }
      ]
    },
    {
      "cell_type": "code",
      "metadata": {
        "id": "qXJqRvEQwP5I",
        "colab_type": "code",
        "colab": {}
      },
      "source": [
        ""
      ],
      "execution_count": 0,
      "outputs": []
    }
  ]
}
