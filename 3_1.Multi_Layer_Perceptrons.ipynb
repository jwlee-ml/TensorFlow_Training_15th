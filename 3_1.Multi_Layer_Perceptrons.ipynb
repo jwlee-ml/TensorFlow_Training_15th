{
  "nbformat": 4,
  "nbformat_minor": 0,
  "metadata": {
    "kernelspec": {
      "name": "python3",
      "display_name": "Python 3"
    },
    "language_info": {
      "codemirror_mode": {
        "name": "ipython",
        "version": 3
      },
      "file_extension": ".py",
      "mimetype": "text/x-python",
      "name": "python",
      "nbconvert_exporter": "python",
      "pygments_lexer": "ipython3",
      "version": "3.7.6"
    },
    "colab": {
      "name": "3_1.Multi_Layer_Perceptrons.ipynb",
      "provenance": []
    },
    "accelerator": "GPU"
  },
  "cells": [
    {
      "cell_type": "markdown",
      "metadata": {
        "id": "c3QWirgglTmV",
        "colab_type": "text"
      },
      "source": [
        "# Multi-Layer Perceptrons\n",
        "\n",
        "이번 실습에서는 multi-layer perceptron을 이용하여 regression과 classification 문제를 풀어보겠습니다"
      ]
    },
    {
      "cell_type": "code",
      "metadata": {
        "id": "5qg9V7folTmY",
        "colab_type": "code",
        "colab": {
          "base_uri": "https://localhost:8080/",
          "height": 36
        },
        "outputId": "b7ce9a32-80bc-4570-9a25-50020b44606a"
      },
      "source": [
        "## Google Colab에서 TensorFlow 2.x 버전을 사용하기 위해서는 아래 magic command를 수행하면 간편하게 할 수 있습니다\n",
        "\n",
        "try:\n",
        "  # %tensorflow_version only exists in Colab.\n",
        "  %tensorflow_version 2.x\n",
        "except Exception:\n",
        "  pass"
      ],
      "execution_count": 1,
      "outputs": [
        {
          "output_type": "stream",
          "text": [
            "TensorFlow 2.x selected.\n"
          ],
          "name": "stdout"
        }
      ]
    },
    {
      "cell_type": "code",
      "metadata": {
        "id": "ADuPU9nUlTmc",
        "colab_type": "code",
        "colab": {
          "base_uri": "https://localhost:8080/",
          "height": 55
        },
        "outputId": "ed416923-a26c-419b-a962-9e7d9069c6cd"
      },
      "source": [
        "## 필요한 Library들을 import 합니다\n",
        "import numpy as np\n",
        "import matplotlib.pyplot as plt\n",
        "import tensorflow as tf\n",
        "from tensorflow import keras\n",
        "\n",
        "## TensorFlow, Keras version 확인\n",
        "print(tf.__version__)\n",
        "print(keras.__version__)"
      ],
      "execution_count": 2,
      "outputs": [
        {
          "output_type": "stream",
          "text": [
            "2.1.0\n",
            "2.2.4-tf\n"
          ],
          "name": "stdout"
        }
      ]
    },
    {
      "cell_type": "code",
      "metadata": {
        "id": "I6L7s2DylTmh",
        "colab_type": "code",
        "colab": {}
      },
      "source": [
        "np.random.seed(777)\n",
        "tf.random.set_seed(777)"
      ],
      "execution_count": 0,
      "outputs": []
    },
    {
      "cell_type": "markdown",
      "metadata": {
        "id": "DYPXmllWlTmk",
        "colab_type": "text"
      },
      "source": [
        "## Coding Tips\n",
        "\n",
        "#### 1. Hyper Paramter 정하기\n",
        "#### 2. Data 준비(불러오기 or download 등)\n",
        "#### 3. Dataset 구성 (tf.data.Dataset 이용)\n",
        "#### 4. Modlel 만들기 (Neural Network model)\n",
        "#### 5. Loss function 정의, Optimizer 선택\n",
        "#### 6. Training (Train, Test function 만들기 포함)\n",
        "#### 7. Validation(or Test) 결과 확인\n"
      ]
    },
    {
      "cell_type": "markdown",
      "metadata": {
        "id": "fsGxhHThlTml",
        "colab_type": "text"
      },
      "source": [
        "## 1. Regression"
      ]
    },
    {
      "cell_type": "markdown",
      "metadata": {
        "id": "7XLQ8XHtlTmm",
        "colab_type": "text"
      },
      "source": [
        " ### Boston Housing Dataset\n",
        " \n",
        " 보스턴 주택가격 dataset은 다음과 같은 속성을 바탕으로 해당 타운 주택 가격의 중앙값을 예측하는 문제입니다.\n",
        " - CRIM: 범죄율\n",
        " - ZN: 25,000 평방피트당 주거지역 비율\n",
        " - INDUS: 비소매 상업지구 비율\n",
        " - CHAS: 찰스강에 인접해 있는지 여부(인접:1, 아니면:0)\n",
        " - NOX: 일산회질소 농도(단위: 0.1ppm)\n",
        " - RM: 주택당 방의 수\n",
        " - AGE: 1940년 이전에 건설된 주택의 비율\n",
        " - DIS: 5개의 보스턴 직업고용센터와의 거리(가중 평균)\n",
        " - RAD: 고속도로 접근성\n",
        " - TAX: 재산세율\n",
        " - PTRATIO: 학생/교사 비율\n",
        " - B: 흑인 비율\n",
        " - LSTAT: 하위 계층 비율\n",
        " \n",
        " 예측해야하는 것\n",
        " - MEDV: 타운의 주택가격 중앙값(단위: 1,000달러)"
      ]
    },
    {
      "cell_type": "code",
      "metadata": {
        "id": "mEI38OfelTmn",
        "colab_type": "code",
        "colab": {}
      },
      "source": [
        "## Hyper-parameters\n",
        "learning_rate = 0.001\n",
        "N_EPOCHS = 200\n",
        "N_BATCH = 32"
      ],
      "execution_count": 0,
      "outputs": []
    },
    {
      "cell_type": "code",
      "metadata": {
        "id": "RgquhxvklTmq",
        "colab_type": "code",
        "colab": {}
      },
      "source": [
        "## Load data\n",
        "boston_housing = keras.datasets.boston_housing"
      ],
      "execution_count": 0,
      "outputs": []
    },
    {
      "cell_type": "code",
      "metadata": {
        "id": "Q9XMQBSulTmu",
        "colab_type": "code",
        "colab": {
          "base_uri": "https://localhost:8080/",
          "height": 55
        },
        "outputId": "87c5c193-9dd7-4ce2-c4df-488757bf29a0"
      },
      "source": [
        "(train_X, train_Y), (test_X, test_Y) = boston_housing.load_data()"
      ],
      "execution_count": 6,
      "outputs": [
        {
          "output_type": "stream",
          "text": [
            "Downloading data from https://storage.googleapis.com/tensorflow/tf-keras-datasets/boston_housing.npz\n",
            "57344/57026 [==============================] - 0s 0us/step\n"
          ],
          "name": "stdout"
        }
      ]
    },
    {
      "cell_type": "code",
      "metadata": {
        "id": "n3OJQuOdlTmy",
        "colab_type": "code",
        "colab": {
          "base_uri": "https://localhost:8080/",
          "height": 36
        },
        "outputId": "cb15a01a-8361-43b8-9d37-50e97721618f"
      },
      "source": [
        "train_X.shape, train_Y.shape"
      ],
      "execution_count": 7,
      "outputs": [
        {
          "output_type": "execute_result",
          "data": {
            "text/plain": [
              "((404, 13), (404,))"
            ]
          },
          "metadata": {
            "tags": []
          },
          "execution_count": 7
        }
      ]
    },
    {
      "cell_type": "code",
      "metadata": {
        "id": "7uTwMwtklTm1",
        "colab_type": "code",
        "colab": {
          "base_uri": "https://localhost:8080/",
          "height": 36
        },
        "outputId": "351b029a-80bd-45cb-e1a8-c72f570e9d9b"
      },
      "source": [
        "test_X.shape, test_Y.shape"
      ],
      "execution_count": 8,
      "outputs": [
        {
          "output_type": "execute_result",
          "data": {
            "text/plain": [
              "((102, 13), (102,))"
            ]
          },
          "metadata": {
            "tags": []
          },
          "execution_count": 8
        }
      ]
    },
    {
      "cell_type": "code",
      "metadata": {
        "id": "LLdTxDQmlTm4",
        "colab_type": "code",
        "colab": {
          "base_uri": "https://localhost:8080/",
          "height": 74
        },
        "outputId": "bab1f1dd-aceb-4e16-be35-00803a801b55"
      },
      "source": [
        "## 첫번째 data의 속성 확인\n",
        "train_X[0]"
      ],
      "execution_count": 9,
      "outputs": [
        {
          "output_type": "execute_result",
          "data": {
            "text/plain": [
              "array([  1.23247,   0.     ,   8.14   ,   0.     ,   0.538  ,   6.142  ,\n",
              "        91.7    ,   3.9769 ,   4.     , 307.     ,  21.     , 396.9    ,\n",
              "        18.72   ])"
            ]
          },
          "metadata": {
            "tags": []
          },
          "execution_count": 9
        }
      ]
    },
    {
      "cell_type": "code",
      "metadata": {
        "id": "4C6bJ61BlTm7",
        "colab_type": "code",
        "colab": {
          "base_uri": "https://localhost:8080/",
          "height": 36
        },
        "outputId": "e226cf3f-bb5e-4d9f-a810-bdac2d2d1d92"
      },
      "source": [
        "## 첫번째 data의 정답\n",
        "train_Y[0]"
      ],
      "execution_count": 10,
      "outputs": [
        {
          "output_type": "execute_result",
          "data": {
            "text/plain": [
              "15.2"
            ]
          },
          "metadata": {
            "tags": []
          },
          "execution_count": 10
        }
      ]
    },
    {
      "cell_type": "code",
      "metadata": {
        "id": "LvFwUuDSlTm-",
        "colab_type": "code",
        "colab": {}
      },
      "source": [
        "## Data preprocessing을 위한 normilzer\n",
        "def Normalizer(data):\n",
        "    mean = data.mean()\n",
        "    std = data.std()\n",
        "    data -= mean\n",
        "    data /= std\n",
        "    return data"
      ],
      "execution_count": 0,
      "outputs": []
    },
    {
      "cell_type": "code",
      "metadata": {
        "id": "52MDv_rflTnB",
        "colab_type": "code",
        "colab": {}
      },
      "source": [
        "## Data preprocessing\n",
        "train_X = Normalizer(train_X)\n",
        "train_Y = Normalizer(train_Y)\n",
        "test_X = Normalizer(test_X)\n",
        "test_Y = Normalizer(test_Y)"
      ],
      "execution_count": 0,
      "outputs": []
    },
    {
      "cell_type": "code",
      "metadata": {
        "id": "i-6N06n6lTnE",
        "colab_type": "code",
        "colab": {
          "base_uri": "https://localhost:8080/",
          "height": 74
        },
        "outputId": "6499e104-3070-40b1-86b1-5c1c78ac82f1"
      },
      "source": [
        "train_X[0]"
      ],
      "execution_count": 13,
      "outputs": [
        {
          "output_type": "execute_result",
          "data": {
            "text/plain": [
              "array([-0.47482083, -0.48335641, -0.42698208, -0.48335641, -0.47963044,\n",
              "       -0.44081941,  0.15172056, -0.45581402, -0.45565404,  1.64280094,\n",
              "       -0.33791894,  2.26541184, -0.35370929])"
            ]
          },
          "metadata": {
            "tags": []
          },
          "execution_count": 13
        }
      ]
    },
    {
      "cell_type": "code",
      "metadata": {
        "id": "ZIPdyrJNlTnG",
        "colab_type": "code",
        "colab": {
          "base_uri": "https://localhost:8080/",
          "height": 36
        },
        "outputId": "78be8d91-a125-4472-da55-acae31a92016"
      },
      "source": [
        "train_Y[0]"
      ],
      "execution_count": 14,
      "outputs": [
        {
          "output_type": "execute_result",
          "data": {
            "text/plain": [
              "-0.7821526033779157"
            ]
          },
          "metadata": {
            "tags": []
          },
          "execution_count": 14
        }
      ]
    },
    {
      "cell_type": "code",
      "metadata": {
        "id": "urZpDcYVlTnJ",
        "colab_type": "code",
        "colab": {}
      },
      "source": [
        "## Dataset\n",
        "train_dataset = tf.data.Dataset.from_tensor_slices((train_X, train_Y)).shuffle(\n",
        "                buffer_size=500).batch(N_BATCH, drop_remainder=True).repeat()\n",
        "test_dataset = tf.data.Dataset.from_tensor_slices((test_X, test_Y)).batch(N_BATCH)"
      ],
      "execution_count": 0,
      "outputs": []
    },
    {
      "cell_type": "code",
      "metadata": {
        "id": "B05pBLg-lTnM",
        "colab_type": "code",
        "colab": {}
      },
      "source": [
        "## Model function\n",
        "def create_model():\n",
        "    model = keras.Sequential()\n",
        "    model.add(keras.layers.Dense(units=32, activation='relu', input_shape=(13,)))\n",
        "    model.add(keras.layers.Dense(units=16, activation='relu'))\n",
        "    model.add(keras.layers.Dense(units=8, activation='relu'))\n",
        "    model.add(keras.layers.Dense(units=1))\n",
        "    return model"
      ],
      "execution_count": 0,
      "outputs": []
    },
    {
      "cell_type": "code",
      "metadata": {
        "id": "F_LGHIIOlTnP",
        "colab_type": "code",
        "colab": {
          "base_uri": "https://localhost:8080/",
          "height": 324
        },
        "outputId": "608c1e41-abcb-4efe-c0dc-4fe82fe5ced3"
      },
      "source": [
        "## Create model, compile & summary\n",
        "model = create_model()\n",
        "model.compile(optimizer=tf.keras.optimizers.Adam(learning_rate), loss='mse')\n",
        "model.summary()"
      ],
      "execution_count": 17,
      "outputs": [
        {
          "output_type": "stream",
          "text": [
            "Model: \"sequential\"\n",
            "_________________________________________________________________\n",
            "Layer (type)                 Output Shape              Param #   \n",
            "=================================================================\n",
            "dense (Dense)                (None, 32)                448       \n",
            "_________________________________________________________________\n",
            "dense_1 (Dense)              (None, 16)                528       \n",
            "_________________________________________________________________\n",
            "dense_2 (Dense)              (None, 8)                 136       \n",
            "_________________________________________________________________\n",
            "dense_3 (Dense)              (None, 1)                 9         \n",
            "=================================================================\n",
            "Total params: 1,121\n",
            "Trainable params: 1,121\n",
            "Non-trainable params: 0\n",
            "_________________________________________________________________\n"
          ],
          "name": "stdout"
        }
      ]
    },
    {
      "cell_type": "code",
      "metadata": {
        "id": "W-RD6EJclTnS",
        "colab_type": "code",
        "colab": {
          "base_uri": "https://localhost:8080/",
          "height": 36
        },
        "outputId": "271cc0ce-ab52-444e-9da0-048aa2252646"
      },
      "source": [
        "## Parameters for training\n",
        "steps_per_epoch = train_X.shape[0]//N_BATCH\n",
        "validation_steps = int(np.ceil(test_X.shape[0]/N_BATCH))\n",
        "print(steps_per_epoch, validation_steps)"
      ],
      "execution_count": 18,
      "outputs": [
        {
          "output_type": "stream",
          "text": [
            "12 4\n"
          ],
          "name": "stdout"
        }
      ]
    },
    {
      "cell_type": "code",
      "metadata": {
        "id": "mE_Tc99clTnV",
        "colab_type": "code",
        "colab": {
          "base_uri": "https://localhost:8080/",
          "height": 1000
        },
        "outputId": "74a30eba-c948-4b94-d202-06bb03920b50"
      },
      "source": [
        "## Training\n",
        "history = model.fit(train_dataset, epochs=N_EPOCHS, steps_per_epoch=steps_per_epoch,\n",
        "         validation_data=test_dataset, validation_steps=validation_steps)"
      ],
      "execution_count": 19,
      "outputs": [
        {
          "output_type": "stream",
          "text": [
            "Train for 12 steps, validate for 4 steps\n",
            "Epoch 1/200\n",
            "12/12 [==============================] - 2s 171ms/step - loss: 0.9761 - val_loss: 1.0812\n",
            "Epoch 2/200\n",
            "12/12 [==============================] - 0s 3ms/step - loss: 0.8232 - val_loss: 1.0136\n",
            "Epoch 3/200\n",
            "12/12 [==============================] - 0s 3ms/step - loss: 0.8285 - val_loss: 0.9800\n",
            "Epoch 4/200\n",
            "12/12 [==============================] - 0s 3ms/step - loss: 0.7761 - val_loss: 0.9478\n",
            "Epoch 5/200\n",
            "12/12 [==============================] - 0s 3ms/step - loss: 0.7584 - val_loss: 0.9241\n",
            "Epoch 6/200\n",
            "12/12 [==============================] - 0s 3ms/step - loss: 0.7649 - val_loss: 0.9231\n",
            "Epoch 7/200\n",
            "12/12 [==============================] - 0s 3ms/step - loss: 0.7311 - val_loss: 0.9289\n",
            "Epoch 8/200\n",
            "12/12 [==============================] - 0s 3ms/step - loss: 0.7699 - val_loss: 0.8950\n",
            "Epoch 9/200\n",
            "12/12 [==============================] - 0s 3ms/step - loss: 0.7636 - val_loss: 0.9124\n",
            "Epoch 10/200\n",
            "12/12 [==============================] - 0s 3ms/step - loss: 0.6919 - val_loss: 0.9189\n",
            "Epoch 11/200\n",
            "12/12 [==============================] - 0s 4ms/step - loss: 0.6608 - val_loss: 0.9583\n",
            "Epoch 12/200\n",
            "12/12 [==============================] - 0s 3ms/step - loss: 0.7412 - val_loss: 0.8994\n",
            "Epoch 13/200\n",
            "12/12 [==============================] - 0s 3ms/step - loss: 0.7223 - val_loss: 0.9311\n",
            "Epoch 14/200\n",
            "12/12 [==============================] - 0s 3ms/step - loss: 0.7422 - val_loss: 0.9289\n",
            "Epoch 15/200\n",
            "12/12 [==============================] - 0s 3ms/step - loss: 0.7194 - val_loss: 0.9356\n",
            "Epoch 16/200\n",
            "12/12 [==============================] - 0s 4ms/step - loss: 0.7337 - val_loss: 0.9065\n",
            "Epoch 17/200\n",
            "12/12 [==============================] - 0s 3ms/step - loss: 0.7157 - val_loss: 0.9194\n",
            "Epoch 18/200\n",
            "12/12 [==============================] - 0s 3ms/step - loss: 0.6707 - val_loss: 0.9479\n",
            "Epoch 19/200\n",
            "12/12 [==============================] - 0s 3ms/step - loss: 0.7300 - val_loss: 0.8994\n",
            "Epoch 20/200\n",
            "12/12 [==============================] - 0s 4ms/step - loss: 0.7159 - val_loss: 0.9397\n",
            "Epoch 21/200\n",
            "12/12 [==============================] - 0s 3ms/step - loss: 0.7208 - val_loss: 0.9054\n",
            "Epoch 22/200\n",
            "12/12 [==============================] - 0s 3ms/step - loss: 0.6846 - val_loss: 0.9172\n",
            "Epoch 23/200\n",
            "12/12 [==============================] - 0s 3ms/step - loss: 0.7115 - val_loss: 0.9143\n",
            "Epoch 24/200\n",
            "12/12 [==============================] - 0s 3ms/step - loss: 0.7143 - val_loss: 0.9109\n",
            "Epoch 25/200\n",
            "12/12 [==============================] - 0s 4ms/step - loss: 0.6972 - val_loss: 0.9269\n",
            "Epoch 26/200\n",
            "12/12 [==============================] - 0s 3ms/step - loss: 0.7108 - val_loss: 0.9139\n",
            "Epoch 27/200\n",
            "12/12 [==============================] - 0s 3ms/step - loss: 0.6966 - val_loss: 0.9394\n",
            "Epoch 28/200\n",
            "12/12 [==============================] - 0s 3ms/step - loss: 0.6498 - val_loss: 0.9121\n",
            "Epoch 29/200\n",
            "12/12 [==============================] - 0s 3ms/step - loss: 0.6704 - val_loss: 0.9187\n",
            "Epoch 30/200\n",
            "12/12 [==============================] - 0s 5ms/step - loss: 0.6978 - val_loss: 0.9185\n",
            "Epoch 31/200\n",
            "12/12 [==============================] - 0s 3ms/step - loss: 0.7145 - val_loss: 0.9018\n",
            "Epoch 32/200\n",
            "12/12 [==============================] - 0s 3ms/step - loss: 0.6324 - val_loss: 0.9499\n",
            "Epoch 33/200\n",
            "12/12 [==============================] - 0s 3ms/step - loss: 0.7137 - val_loss: 0.8954\n",
            "Epoch 34/200\n",
            "12/12 [==============================] - 0s 3ms/step - loss: 0.6643 - val_loss: 0.9333\n",
            "Epoch 35/200\n",
            "12/12 [==============================] - 0s 3ms/step - loss: 0.6511 - val_loss: 0.8898\n",
            "Epoch 36/200\n",
            "12/12 [==============================] - 0s 3ms/step - loss: 0.6860 - val_loss: 0.9230\n",
            "Epoch 37/200\n",
            "12/12 [==============================] - 0s 4ms/step - loss: 0.6643 - val_loss: 0.9053\n",
            "Epoch 38/200\n",
            "12/12 [==============================] - 0s 4ms/step - loss: 0.6801 - val_loss: 0.8977\n",
            "Epoch 39/200\n",
            "12/12 [==============================] - 0s 3ms/step - loss: 0.6865 - val_loss: 0.9195\n",
            "Epoch 40/200\n",
            "12/12 [==============================] - 0s 4ms/step - loss: 0.6895 - val_loss: 0.8968\n",
            "Epoch 41/200\n",
            "12/12 [==============================] - 0s 3ms/step - loss: 0.6720 - val_loss: 0.9283\n",
            "Epoch 42/200\n",
            "12/12 [==============================] - 0s 4ms/step - loss: 0.6618 - val_loss: 0.8775\n",
            "Epoch 43/200\n",
            "12/12 [==============================] - 0s 3ms/step - loss: 0.6814 - val_loss: 0.9030\n",
            "Epoch 44/200\n",
            "12/12 [==============================] - 0s 4ms/step - loss: 0.6851 - val_loss: 0.8907\n",
            "Epoch 45/200\n",
            "12/12 [==============================] - 0s 4ms/step - loss: 0.6840 - val_loss: 0.8822\n",
            "Epoch 46/200\n",
            "12/12 [==============================] - 0s 3ms/step - loss: 0.6418 - val_loss: 0.9187\n",
            "Epoch 47/200\n",
            "12/12 [==============================] - 0s 3ms/step - loss: 0.6635 - val_loss: 0.8934\n",
            "Epoch 48/200\n",
            "12/12 [==============================] - 0s 4ms/step - loss: 0.6628 - val_loss: 0.8933\n",
            "Epoch 49/200\n",
            "12/12 [==============================] - 0s 4ms/step - loss: 0.6671 - val_loss: 0.8883\n",
            "Epoch 50/200\n",
            "12/12 [==============================] - 0s 3ms/step - loss: 0.6685 - val_loss: 0.8959\n",
            "Epoch 51/200\n",
            "12/12 [==============================] - 0s 3ms/step - loss: 0.6691 - val_loss: 0.8662\n",
            "Epoch 52/200\n",
            "12/12 [==============================] - 0s 3ms/step - loss: 0.6270 - val_loss: 0.9331\n",
            "Epoch 53/200\n",
            "12/12 [==============================] - 0s 3ms/step - loss: 0.6171 - val_loss: 0.8645\n",
            "Epoch 54/200\n",
            "12/12 [==============================] - 0s 3ms/step - loss: 0.6134 - val_loss: 0.8838\n",
            "Epoch 55/200\n",
            "12/12 [==============================] - 0s 3ms/step - loss: 0.6062 - val_loss: 0.9021\n",
            "Epoch 56/200\n",
            "12/12 [==============================] - 0s 4ms/step - loss: 0.6598 - val_loss: 0.8853\n",
            "Epoch 57/200\n",
            "12/12 [==============================] - 0s 4ms/step - loss: 0.6511 - val_loss: 0.8560\n",
            "Epoch 58/200\n",
            "12/12 [==============================] - 0s 3ms/step - loss: 0.6045 - val_loss: 0.8588\n",
            "Epoch 59/200\n",
            "12/12 [==============================] - 0s 3ms/step - loss: 0.6127 - val_loss: 0.8719\n",
            "Epoch 60/200\n",
            "12/12 [==============================] - 0s 3ms/step - loss: 0.6113 - val_loss: 0.8574\n",
            "Epoch 61/200\n",
            "12/12 [==============================] - 0s 3ms/step - loss: 0.6389 - val_loss: 0.8225\n",
            "Epoch 62/200\n",
            "12/12 [==============================] - 0s 3ms/step - loss: 0.6497 - val_loss: 0.9204\n",
            "Epoch 63/200\n",
            "12/12 [==============================] - 0s 3ms/step - loss: 0.5893 - val_loss: 0.8341\n",
            "Epoch 64/200\n",
            "12/12 [==============================] - 0s 4ms/step - loss: 0.6172 - val_loss: 0.8194\n",
            "Epoch 65/200\n",
            "12/12 [==============================] - 0s 3ms/step - loss: 0.6208 - val_loss: 0.8492\n",
            "Epoch 66/200\n",
            "12/12 [==============================] - 0s 3ms/step - loss: 0.6099 - val_loss: 0.8040\n",
            "Epoch 67/200\n",
            "12/12 [==============================] - 0s 4ms/step - loss: 0.5734 - val_loss: 0.8541\n",
            "Epoch 68/200\n",
            "12/12 [==============================] - 0s 3ms/step - loss: 0.6133 - val_loss: 0.8175\n",
            "Epoch 69/200\n",
            "12/12 [==============================] - 0s 3ms/step - loss: 0.6043 - val_loss: 0.8126\n",
            "Epoch 70/200\n",
            "12/12 [==============================] - 0s 4ms/step - loss: 0.6008 - val_loss: 0.7812\n",
            "Epoch 71/200\n",
            "12/12 [==============================] - 0s 3ms/step - loss: 0.5684 - val_loss: 0.7735\n",
            "Epoch 72/200\n",
            "12/12 [==============================] - 0s 3ms/step - loss: 0.5747 - val_loss: 0.8044\n",
            "Epoch 73/200\n",
            "12/12 [==============================] - 0s 3ms/step - loss: 0.5613 - val_loss: 0.8026\n",
            "Epoch 74/200\n",
            "12/12 [==============================] - 0s 4ms/step - loss: 0.5729 - val_loss: 0.8105\n",
            "Epoch 75/200\n",
            "12/12 [==============================] - 0s 3ms/step - loss: 0.5691 - val_loss: 0.7542\n",
            "Epoch 76/200\n",
            "12/12 [==============================] - 0s 3ms/step - loss: 0.6266 - val_loss: 0.8581\n",
            "Epoch 77/200\n",
            "12/12 [==============================] - 0s 3ms/step - loss: 0.5634 - val_loss: 0.7971\n",
            "Epoch 78/200\n",
            "12/12 [==============================] - 0s 4ms/step - loss: 0.5740 - val_loss: 0.8060\n",
            "Epoch 79/200\n",
            "12/12 [==============================] - 0s 4ms/step - loss: 0.5414 - val_loss: 0.7337\n",
            "Epoch 80/200\n",
            "12/12 [==============================] - 0s 3ms/step - loss: 0.5435 - val_loss: 0.7594\n",
            "Epoch 81/200\n",
            "12/12 [==============================] - 0s 3ms/step - loss: 0.5350 - val_loss: 0.8043\n",
            "Epoch 82/200\n",
            "12/12 [==============================] - 0s 3ms/step - loss: 0.5659 - val_loss: 0.7353\n",
            "Epoch 83/200\n",
            "12/12 [==============================] - 0s 3ms/step - loss: 0.5271 - val_loss: 0.7219\n",
            "Epoch 84/200\n",
            "12/12 [==============================] - 0s 3ms/step - loss: 0.5370 - val_loss: 0.7766\n",
            "Epoch 85/200\n",
            "12/12 [==============================] - 0s 4ms/step - loss: 0.5451 - val_loss: 0.7607\n",
            "Epoch 86/200\n",
            "12/12 [==============================] - 0s 3ms/step - loss: 0.5259 - val_loss: 0.6853\n",
            "Epoch 87/200\n",
            "12/12 [==============================] - 0s 3ms/step - loss: 0.5251 - val_loss: 0.7282\n",
            "Epoch 88/200\n",
            "12/12 [==============================] - 0s 4ms/step - loss: 0.5101 - val_loss: 0.6755\n",
            "Epoch 89/200\n",
            "12/12 [==============================] - 0s 3ms/step - loss: 0.5012 - val_loss: 0.6698\n",
            "Epoch 90/200\n",
            "12/12 [==============================] - 0s 4ms/step - loss: 0.5002 - val_loss: 0.6856\n",
            "Epoch 91/200\n",
            "12/12 [==============================] - 0s 3ms/step - loss: 0.4989 - val_loss: 0.6619\n",
            "Epoch 92/200\n",
            "12/12 [==============================] - 0s 4ms/step - loss: 0.4884 - val_loss: 0.6479\n",
            "Epoch 93/200\n",
            "12/12 [==============================] - 0s 3ms/step - loss: 0.4911 - val_loss: 0.6403\n",
            "Epoch 94/200\n",
            "12/12 [==============================] - 0s 3ms/step - loss: 0.4740 - val_loss: 0.6613\n",
            "Epoch 95/200\n",
            "12/12 [==============================] - 0s 3ms/step - loss: 0.4832 - val_loss: 0.6367\n",
            "Epoch 96/200\n",
            "12/12 [==============================] - 0s 3ms/step - loss: 0.4812 - val_loss: 0.6394\n",
            "Epoch 97/200\n",
            "12/12 [==============================] - 0s 3ms/step - loss: 0.5102 - val_loss: 0.6537\n",
            "Epoch 98/200\n",
            "12/12 [==============================] - 0s 3ms/step - loss: 0.4746 - val_loss: 0.6410\n",
            "Epoch 99/200\n",
            "12/12 [==============================] - 0s 3ms/step - loss: 0.4693 - val_loss: 0.5901\n",
            "Epoch 100/200\n",
            "12/12 [==============================] - 0s 4ms/step - loss: 0.4640 - val_loss: 0.5838\n",
            "Epoch 101/200\n",
            "12/12 [==============================] - 0s 3ms/step - loss: 0.4193 - val_loss: 0.6028\n",
            "Epoch 102/200\n",
            "12/12 [==============================] - 0s 3ms/step - loss: 0.4551 - val_loss: 0.5786\n",
            "Epoch 103/200\n",
            "12/12 [==============================] - 0s 3ms/step - loss: 0.4399 - val_loss: 0.5634\n",
            "Epoch 104/200\n",
            "12/12 [==============================] - 0s 3ms/step - loss: 0.4300 - val_loss: 0.5741\n",
            "Epoch 105/200\n",
            "12/12 [==============================] - 0s 4ms/step - loss: 0.4353 - val_loss: 0.5548\n",
            "Epoch 106/200\n",
            "12/12 [==============================] - 0s 3ms/step - loss: 0.4333 - val_loss: 0.5349\n",
            "Epoch 107/200\n",
            "12/12 [==============================] - 0s 3ms/step - loss: 0.4152 - val_loss: 0.5415\n",
            "Epoch 108/200\n",
            "12/12 [==============================] - 0s 3ms/step - loss: 0.4264 - val_loss: 0.5241\n",
            "Epoch 109/200\n",
            "12/12 [==============================] - 0s 3ms/step - loss: 0.4024 - val_loss: 0.5190\n",
            "Epoch 110/200\n",
            "12/12 [==============================] - 0s 3ms/step - loss: 0.3710 - val_loss: 0.5440\n",
            "Epoch 111/200\n",
            "12/12 [==============================] - 0s 3ms/step - loss: 0.4132 - val_loss: 0.5043\n",
            "Epoch 112/200\n",
            "12/12 [==============================] - 0s 3ms/step - loss: 0.4067 - val_loss: 0.5116\n",
            "Epoch 113/200\n",
            "12/12 [==============================] - 0s 4ms/step - loss: 0.3997 - val_loss: 0.5063\n",
            "Epoch 114/200\n",
            "12/12 [==============================] - 0s 3ms/step - loss: 0.3843 - val_loss: 0.4930\n",
            "Epoch 115/200\n",
            "12/12 [==============================] - 0s 3ms/step - loss: 0.3884 - val_loss: 0.4813\n",
            "Epoch 116/200\n",
            "12/12 [==============================] - 0s 3ms/step - loss: 0.3729 - val_loss: 0.5061\n",
            "Epoch 117/200\n",
            "12/12 [==============================] - 0s 3ms/step - loss: 0.3792 - val_loss: 0.4777\n",
            "Epoch 118/200\n",
            "12/12 [==============================] - 0s 3ms/step - loss: 0.3911 - val_loss: 0.5236\n",
            "Epoch 119/200\n",
            "12/12 [==============================] - 0s 3ms/step - loss: 0.3829 - val_loss: 0.4971\n",
            "Epoch 120/200\n",
            "12/12 [==============================] - 0s 3ms/step - loss: 0.4011 - val_loss: 0.5692\n",
            "Epoch 121/200\n",
            "12/12 [==============================] - 0s 3ms/step - loss: 0.3940 - val_loss: 0.5324\n",
            "Epoch 122/200\n",
            "12/12 [==============================] - 0s 3ms/step - loss: 0.3655 - val_loss: 0.4934\n",
            "Epoch 123/200\n",
            "12/12 [==============================] - 0s 3ms/step - loss: 0.3651 - val_loss: 0.4601\n",
            "Epoch 124/200\n",
            "12/12 [==============================] - 0s 3ms/step - loss: 0.3585 - val_loss: 0.4722\n",
            "Epoch 125/200\n",
            "12/12 [==============================] - 0s 3ms/step - loss: 0.3709 - val_loss: 0.4716\n",
            "Epoch 126/200\n",
            "12/12 [==============================] - 0s 3ms/step - loss: 0.3569 - val_loss: 0.4312\n",
            "Epoch 127/200\n",
            "12/12 [==============================] - 0s 3ms/step - loss: 0.3630 - val_loss: 0.5036\n",
            "Epoch 128/200\n",
            "12/12 [==============================] - 0s 3ms/step - loss: 0.3532 - val_loss: 0.4826\n",
            "Epoch 129/200\n",
            "12/12 [==============================] - 0s 3ms/step - loss: 0.3911 - val_loss: 0.4474\n",
            "Epoch 130/200\n",
            "12/12 [==============================] - 0s 3ms/step - loss: 0.3364 - val_loss: 0.4338\n",
            "Epoch 131/200\n",
            "12/12 [==============================] - 0s 4ms/step - loss: 0.3587 - val_loss: 0.4269\n",
            "Epoch 132/200\n",
            "12/12 [==============================] - 0s 3ms/step - loss: 0.3423 - val_loss: 0.4323\n",
            "Epoch 133/200\n",
            "12/12 [==============================] - 0s 3ms/step - loss: 0.3316 - val_loss: 0.4579\n",
            "Epoch 134/200\n",
            "12/12 [==============================] - 0s 3ms/step - loss: 0.3233 - val_loss: 0.4438\n",
            "Epoch 135/200\n",
            "12/12 [==============================] - 0s 3ms/step - loss: 0.3359 - val_loss: 0.5144\n",
            "Epoch 136/200\n",
            "12/12 [==============================] - 0s 3ms/step - loss: 0.3710 - val_loss: 0.4111\n",
            "Epoch 137/200\n",
            "12/12 [==============================] - 0s 4ms/step - loss: 0.3520 - val_loss: 0.4230\n",
            "Epoch 138/200\n",
            "12/12 [==============================] - 0s 4ms/step - loss: 0.3302 - val_loss: 0.4034\n",
            "Epoch 139/200\n",
            "12/12 [==============================] - 0s 3ms/step - loss: 0.3212 - val_loss: 0.4251\n",
            "Epoch 140/200\n",
            "12/12 [==============================] - 0s 3ms/step - loss: 0.3249 - val_loss: 0.3979\n",
            "Epoch 141/200\n",
            "12/12 [==============================] - 0s 3ms/step - loss: 0.3098 - val_loss: 0.4179\n",
            "Epoch 142/200\n",
            "12/12 [==============================] - 0s 3ms/step - loss: 0.3295 - val_loss: 0.4158\n",
            "Epoch 143/200\n",
            "12/12 [==============================] - 0s 3ms/step - loss: 0.3160 - val_loss: 0.4074\n",
            "Epoch 144/200\n",
            "12/12 [==============================] - 0s 4ms/step - loss: 0.3089 - val_loss: 0.4005\n",
            "Epoch 145/200\n",
            "12/12 [==============================] - 0s 3ms/step - loss: 0.3226 - val_loss: 0.4305\n",
            "Epoch 146/200\n",
            "12/12 [==============================] - 0s 3ms/step - loss: 0.3310 - val_loss: 0.4059\n",
            "Epoch 147/200\n",
            "12/12 [==============================] - 0s 3ms/step - loss: 0.3079 - val_loss: 0.4237\n",
            "Epoch 148/200\n",
            "12/12 [==============================] - 0s 3ms/step - loss: 0.3009 - val_loss: 0.3800\n",
            "Epoch 149/200\n",
            "12/12 [==============================] - 0s 3ms/step - loss: 0.2978 - val_loss: 0.4033\n",
            "Epoch 150/200\n",
            "12/12 [==============================] - 0s 3ms/step - loss: 0.3146 - val_loss: 0.3939\n",
            "Epoch 151/200\n",
            "12/12 [==============================] - 0s 3ms/step - loss: 0.2840 - val_loss: 0.3881\n",
            "Epoch 152/200\n",
            "12/12 [==============================] - 0s 4ms/step - loss: 0.2955 - val_loss: 0.3931\n",
            "Epoch 153/200\n",
            "12/12 [==============================] - 0s 3ms/step - loss: 0.2733 - val_loss: 0.4192\n",
            "Epoch 154/200\n",
            "12/12 [==============================] - 0s 3ms/step - loss: 0.3219 - val_loss: 0.4023\n",
            "Epoch 155/200\n",
            "12/12 [==============================] - 0s 3ms/step - loss: 0.3066 - val_loss: 0.3835\n",
            "Epoch 156/200\n",
            "12/12 [==============================] - 0s 3ms/step - loss: 0.2904 - val_loss: 0.3851\n",
            "Epoch 157/200\n",
            "12/12 [==============================] - 0s 3ms/step - loss: 0.2999 - val_loss: 0.3774\n",
            "Epoch 158/200\n",
            "12/12 [==============================] - 0s 3ms/step - loss: 0.2985 - val_loss: 0.3798\n",
            "Epoch 159/200\n",
            "12/12 [==============================] - 0s 3ms/step - loss: 0.2944 - val_loss: 0.3889\n",
            "Epoch 160/200\n",
            "12/12 [==============================] - 0s 3ms/step - loss: 0.2831 - val_loss: 0.4544\n",
            "Epoch 161/200\n",
            "12/12 [==============================] - 0s 3ms/step - loss: 0.2947 - val_loss: 0.4108\n",
            "Epoch 162/200\n",
            "12/12 [==============================] - 0s 3ms/step - loss: 0.2827 - val_loss: 0.3878\n",
            "Epoch 163/200\n",
            "12/12 [==============================] - 0s 4ms/step - loss: 0.2895 - val_loss: 0.3878\n",
            "Epoch 164/200\n",
            "12/12 [==============================] - 0s 3ms/step - loss: 0.3035 - val_loss: 0.3903\n",
            "Epoch 165/200\n",
            "12/12 [==============================] - 0s 3ms/step - loss: 0.3179 - val_loss: 0.3984\n",
            "Epoch 166/200\n",
            "12/12 [==============================] - 0s 3ms/step - loss: 0.3006 - val_loss: 0.3906\n",
            "Epoch 167/200\n",
            "12/12 [==============================] - 0s 3ms/step - loss: 0.2742 - val_loss: 0.3824\n",
            "Epoch 168/200\n",
            "12/12 [==============================] - 0s 3ms/step - loss: 0.2990 - val_loss: 0.3949\n",
            "Epoch 169/200\n",
            "12/12 [==============================] - 0s 3ms/step - loss: 0.2696 - val_loss: 0.3741\n",
            "Epoch 170/200\n",
            "12/12 [==============================] - 0s 3ms/step - loss: 0.2779 - val_loss: 0.3789\n",
            "Epoch 171/200\n",
            "12/12 [==============================] - 0s 3ms/step - loss: 0.2902 - val_loss: 0.3696\n",
            "Epoch 172/200\n",
            "12/12 [==============================] - 0s 3ms/step - loss: 0.3000 - val_loss: 0.4292\n",
            "Epoch 173/200\n",
            "12/12 [==============================] - 0s 3ms/step - loss: 0.2933 - val_loss: 0.4255\n",
            "Epoch 174/200\n",
            "12/12 [==============================] - 0s 3ms/step - loss: 0.2706 - val_loss: 0.3925\n",
            "Epoch 175/200\n",
            "12/12 [==============================] - 0s 3ms/step - loss: 0.2827 - val_loss: 0.4942\n",
            "Epoch 176/200\n",
            "12/12 [==============================] - 0s 3ms/step - loss: 0.2786 - val_loss: 0.4048\n",
            "Epoch 177/200\n",
            "12/12 [==============================] - 0s 3ms/step - loss: 0.2772 - val_loss: 0.3959\n",
            "Epoch 178/200\n",
            "12/12 [==============================] - 0s 3ms/step - loss: 0.2534 - val_loss: 0.3721\n",
            "Epoch 179/200\n",
            "12/12 [==============================] - 0s 3ms/step - loss: 0.2764 - val_loss: 0.4159\n",
            "Epoch 180/200\n",
            "12/12 [==============================] - 0s 3ms/step - loss: 0.2633 - val_loss: 0.3820\n",
            "Epoch 181/200\n",
            "12/12 [==============================] - 0s 3ms/step - loss: 0.2700 - val_loss: 0.3877\n",
            "Epoch 182/200\n",
            "12/12 [==============================] - 0s 3ms/step - loss: 0.2717 - val_loss: 0.3669\n",
            "Epoch 183/200\n",
            "12/12 [==============================] - 0s 3ms/step - loss: 0.2373 - val_loss: 0.4280\n",
            "Epoch 184/200\n",
            "12/12 [==============================] - 0s 4ms/step - loss: 0.2617 - val_loss: 0.3918\n",
            "Epoch 185/200\n",
            "12/12 [==============================] - 0s 3ms/step - loss: 0.2891 - val_loss: 0.3895\n",
            "Epoch 186/200\n",
            "12/12 [==============================] - 0s 3ms/step - loss: 0.2794 - val_loss: 0.3770\n",
            "Epoch 187/200\n",
            "12/12 [==============================] - 0s 3ms/step - loss: 0.2491 - val_loss: 0.3972\n",
            "Epoch 188/200\n",
            "12/12 [==============================] - 0s 3ms/step - loss: 0.2533 - val_loss: 0.4273\n",
            "Epoch 189/200\n",
            "12/12 [==============================] - 0s 3ms/step - loss: 0.3007 - val_loss: 0.4102\n",
            "Epoch 190/200\n",
            "12/12 [==============================] - 0s 4ms/step - loss: 0.2816 - val_loss: 0.3961\n",
            "Epoch 191/200\n",
            "12/12 [==============================] - 0s 4ms/step - loss: 0.2423 - val_loss: 0.3834\n",
            "Epoch 192/200\n",
            "12/12 [==============================] - 0s 3ms/step - loss: 0.2470 - val_loss: 0.3961\n",
            "Epoch 193/200\n",
            "12/12 [==============================] - 0s 3ms/step - loss: 0.2564 - val_loss: 0.3827\n",
            "Epoch 194/200\n",
            "12/12 [==============================] - 0s 3ms/step - loss: 0.2484 - val_loss: 0.3738\n",
            "Epoch 195/200\n",
            "12/12 [==============================] - 0s 3ms/step - loss: 0.2513 - val_loss: 0.3887\n",
            "Epoch 196/200\n",
            "12/12 [==============================] - 0s 3ms/step - loss: 0.2336 - val_loss: 0.4602\n",
            "Epoch 197/200\n",
            "12/12 [==============================] - 0s 3ms/step - loss: 0.2797 - val_loss: 0.3683\n",
            "Epoch 198/200\n",
            "12/12 [==============================] - 0s 3ms/step - loss: 0.2848 - val_loss: 0.3811\n",
            "Epoch 199/200\n",
            "12/12 [==============================] - 0s 3ms/step - loss: 0.2437 - val_loss: 0.3581\n",
            "Epoch 200/200\n",
            "12/12 [==============================] - 0s 3ms/step - loss: 0.2395 - val_loss: 0.3927\n"
          ],
          "name": "stdout"
        }
      ]
    },
    {
      "cell_type": "code",
      "metadata": {
        "id": "73rMaJ34lTnX",
        "colab_type": "code",
        "colab": {
          "base_uri": "https://localhost:8080/",
          "height": 279
        },
        "outputId": "2566d727-fc3a-4707-8fb8-e52a504efb17"
      },
      "source": [
        "## Plot losses\n",
        "plt.plot(history.history['loss'], 'b-', label='loss')\n",
        "plt.plot(history.history['val_loss'], 'r--', label='val_loss')\n",
        "plt.xlabel('Epoch')\n",
        "plt.legend()\n",
        "plt.show()"
      ],
      "execution_count": 20,
      "outputs": [
        {
          "output_type": "display_data",
          "data": {
            "image/png": "[encoded data removed]",
            "text/plain": [
              "<Figure size 432x288 with 1 Axes>"
            ]
          },
          "metadata": {
            "tags": []
          }
        }
      ]
    },
    {
      "cell_type": "code",
      "metadata": {
        "id": "-TAcvILRlTna",
        "colab_type": "code",
        "colab": {
          "base_uri": "https://localhost:8080/",
          "height": 335
        },
        "outputId": "c1ea3001-8a64-48e7-c933-d458a1abdd39"
      },
      "source": [
        "## Plot results\n",
        "pred_Y = model.predict(test_X)\n",
        "\n",
        "plt.figure(figsize=(5,5))\n",
        "plt.plot(test_Y, pred_Y, 'b.')\n",
        "plt.axis([min(test_Y), max(test_Y), min(test_Y), max(test_Y)])\n",
        "\n",
        "plt.plot([min(test_Y), max(test_Y)], [min(test_Y), max(test_Y)], ls='--', c='.3')\n",
        "plt.xlabel('test_Y')\n",
        "plt.ylabel('pred_Y')\n",
        "\n",
        "plt.show()"
      ],
      "execution_count": 21,
      "outputs": [
        {
          "output_type": "display_data",
          "data": {
            "image/png": "[encoded data removed]",
            "text/plain": [
              "<Figure size 360x360 with 1 Axes>"
            ]
          },
          "metadata": {
            "tags": []
          }
        }
      ]
    },
    {
      "cell_type": "markdown",
      "metadata": {
        "id": "U17keWj8lTnc",
        "colab_type": "text"
      },
      "source": [
        "## 2. Classification\n",
        "\n",
        "### Fashion MNIST(MNIST) Dataset"
      ]
    },
    {
      "cell_type": "markdown",
      "metadata": {
        "id": "JSTFuoXDlTnd",
        "colab_type": "text"
      },
      "source": [
        "10개의 범주(category)와 70,000개의 흑백 이미지로 구성된 [패션 MNIST](https://github.com/zalandoresearch/fashion-mnist) 데이터셋을 사용하겠습니다. 이미지는 해상도(28x28 픽셀)가 낮고 다음처럼 개별 옷 품목을 나타냅니다:\n",
        "\n",
        "<table>\n",
        "  <tr><td>\n",
        "    <img src=\"https://tensorflow.org/images/fashion-mnist-sprite.png\"\n",
        "         alt=\"Fashion MNIST sprite\"  width=\"600\">\n",
        "  </td></tr>\n",
        "  <tr><td align=\"center\">\n",
        "    <b>그림</b> <a href=\"https://github.com/zalandoresearch/fashion-mnist\">패션-MNIST 샘플</a> (Zalando, MIT License).<br/>&nbsp;\n",
        "  </td></tr>\n",
        "</table>\n",
        "\n",
        "패션 MNIST는 컴퓨터 비전 분야의 \"Hello, World\" 프로그램격인 고전 [MNIST](http://yann.lecun.com/exdb/mnist/) 데이터셋을 대신해서 자주 사용됩니다. MNIST 데이터셋은 손글씨 숫자(0, 1, 2 등)의 이미지로 이루어져 있습니다. 여기서 사용하려는 옷 이미지와 동일한 포맷입니다.\n",
        "\n",
        "패션 MNIST는 일반적인 MNIST 보다 조금 더 어려운 문제이고 다양한 예제를 만들기 위해 선택했습니다. 두 데이터셋은 비교적 작기 때문에 알고리즘의 작동 여부를 확인하기 위해 사용되곤 합니다. 코드를 테스트하고 디버깅하는 용도로 좋습니다.\n",
        "\n",
        "네트워크를 훈련하는데 60,000개의 이미지를 사용합니다. 그다음 네트워크가 얼마나 정확하게 이미지를 분류하는지 10,000개의 이미지로 평가하겠습니다. 패션 MNIST 데이터셋은 텐서플로에서 바로 임포트하여 적재할 수 있습니다:"
      ]
    },
    {
      "cell_type": "markdown",
      "metadata": {
        "id": "U9Jd24RAlTne",
        "colab_type": "text"
      },
      "source": [
        "이미지는 28x28 크기의 넘파이 배열이고 픽셀 값은 0과 255 사이입니다. *레이블*(label)은 0에서 9까지의 정수 배열입니다. 이 값은 이미지에 있는 옷의 *클래스*(class)를 나타냅니다:\n",
        "\n",
        "<table>\n",
        "  <tr>\n",
        "    <th>레이블</th>\n",
        "    <th>클래스</th>\n",
        "  </tr>\n",
        "  <tr>\n",
        "    <td>0</td>\n",
        "    <td>T-shirt/top</td>\n",
        "  </tr>\n",
        "  <tr>\n",
        "    <td>1</td>\n",
        "    <td>Trouser</td>\n",
        "  </tr>\n",
        "    <tr>\n",
        "    <td>2</td>\n",
        "    <td>Pullover</td>\n",
        "  </tr>\n",
        "    <tr>\n",
        "    <td>3</td>\n",
        "    <td>Dress</td>\n",
        "  </tr>\n",
        "    <tr>\n",
        "    <td>4</td>\n",
        "    <td>Coat</td>\n",
        "  </tr>\n",
        "    <tr>\n",
        "    <td>5</td>\n",
        "    <td>Sandal</td>\n",
        "  </tr>\n",
        "    <tr>\n",
        "    <td>6</td>\n",
        "    <td>Shirt</td>\n",
        "  </tr>\n",
        "    <tr>\n",
        "    <td>7</td>\n",
        "    <td>Sneaker</td>\n",
        "  </tr>\n",
        "    <tr>\n",
        "    <td>8</td>\n",
        "    <td>Bag</td>\n",
        "  </tr>\n",
        "    <tr>\n",
        "    <td>9</td>\n",
        "    <td>Ankle boot</td>\n",
        "  </tr>\n",
        "</table>\n",
        "\n",
        "각 이미지는 하나의 레이블에 매핑되어 있습니다. 데이터셋에 *클래스 이름*이 들어있지 않기 때문에 나중에 이미지를 출력할 때 사용하기 위해 별도의 변수를 만들어 저장합니다"
      ]
    },
    {
      "cell_type": "code",
      "metadata": {
        "id": "fG3DQKuQlTnf",
        "colab_type": "code",
        "colab": {}
      },
      "source": [
        "## Hyper-parameters\n",
        "learning_rate = 0.001\n",
        "N_EPOCHS = 30\n",
        "N_BATCH = 100\n",
        "N_CLASS = 10"
      ],
      "execution_count": 0,
      "outputs": []
    },
    {
      "cell_type": "code",
      "metadata": {
        "id": "0HXwl2mElTnh",
        "colab_type": "code",
        "colab": {}
      },
      "source": [
        "## MNIST Dataset #########################################################\n",
        "#mnist = keras.datasets.mnist\n",
        "#class_names = ['0', '1', '2', '3', '4', '5', '6', '7', '8', '9']\n",
        "##########################################################################\n",
        "\n",
        "## Fashion MNIST Dataset #################################################\n",
        "mnist = keras.datasets.fashion_mnist\n",
        "class_names = ['T-shirt/top', 'Trouser', 'Pullover', 'Dress', 'Coat', 'Sandal', 'Shirt', 'Sneaker', 'Bag', 'Ankle boot']\n",
        "##########################################################################"
      ],
      "execution_count": 0,
      "outputs": []
    },
    {
      "cell_type": "code",
      "metadata": {
        "id": "66ilJSEhlTnj",
        "colab_type": "code",
        "colab": {
          "base_uri": "https://localhost:8080/",
          "height": 170
        },
        "outputId": "e107de76-8083-4179-f07a-af4b04562198"
      },
      "source": [
        "## MNIST dataset load\n",
        "(train_images, train_labels), (test_images, test_labels) = mnist.load_data() "
      ],
      "execution_count": 24,
      "outputs": [
        {
          "output_type": "stream",
          "text": [
            "Downloading data from https://storage.googleapis.com/tensorflow/tf-keras-datasets/train-labels-idx1-ubyte.gz\n",
            "32768/29515 [=================================] - 0s 0us/step\n",
            "Downloading data from https://storage.googleapis.com/tensorflow/tf-keras-datasets/train-images-idx3-ubyte.gz\n",
            "26427392/26421880 [==============================] - 0s 0us/step\n",
            "Downloading data from https://storage.googleapis.com/tensorflow/tf-keras-datasets/t10k-labels-idx1-ubyte.gz\n",
            "8192/5148 [===============================================] - 0s 0us/step\n",
            "Downloading data from https://storage.googleapis.com/tensorflow/tf-keras-datasets/t10k-images-idx3-ubyte.gz\n",
            "4423680/4422102 [==============================] - 0s 0us/step\n"
          ],
          "name": "stdout"
        }
      ]
    },
    {
      "cell_type": "code",
      "metadata": {
        "id": "iFI4VOBYlTnm",
        "colab_type": "code",
        "colab": {
          "base_uri": "https://localhost:8080/",
          "height": 36
        },
        "outputId": "737879a7-b5b8-44b6-ee2e-823768e91e2d"
      },
      "source": [
        "## train_images, train_labels의 shape 확인\n",
        "train_images.shape, train_labels.shape"
      ],
      "execution_count": 25,
      "outputs": [
        {
          "output_type": "execute_result",
          "data": {
            "text/plain": [
              "((60000, 28, 28), (60000,))"
            ]
          },
          "metadata": {
            "tags": []
          },
          "execution_count": 25
        }
      ]
    },
    {
      "cell_type": "code",
      "metadata": {
        "id": "oNChZYZclTno",
        "colab_type": "code",
        "colab": {
          "base_uri": "https://localhost:8080/",
          "height": 36
        },
        "outputId": "5c3a5f63-f9b3-478f-ec2d-90b2a42e55a8"
      },
      "source": [
        "## test_images, test_labels의 shape 확인\n",
        "test_images.shape, test_labels.shape"
      ],
      "execution_count": 26,
      "outputs": [
        {
          "output_type": "execute_result",
          "data": {
            "text/plain": [
              "((10000, 28, 28), (10000,))"
            ]
          },
          "metadata": {
            "tags": []
          },
          "execution_count": 26
        }
      ]
    },
    {
      "cell_type": "code",
      "metadata": {
        "id": "5cSgEig7lTnr",
        "colab_type": "code",
        "colab": {
          "base_uri": "https://localhost:8080/",
          "height": 209
        },
        "outputId": "5f536fe2-cb44-40ef-cfc4-739a87e12b7c"
      },
      "source": [
        "## training set의 각 class 별 image 수 확인\n",
        "unique, counts = np.unique(train_labels, axis=-1, return_counts=True)\n",
        "dict(zip(unique, counts))"
      ],
      "execution_count": 27,
      "outputs": [
        {
          "output_type": "execute_result",
          "data": {
            "text/plain": [
              "{0: 6000,\n",
              " 1: 6000,\n",
              " 2: 6000,\n",
              " 3: 6000,\n",
              " 4: 6000,\n",
              " 5: 6000,\n",
              " 6: 6000,\n",
              " 7: 6000,\n",
              " 8: 6000,\n",
              " 9: 6000}"
            ]
          },
          "metadata": {
            "tags": []
          },
          "execution_count": 27
        }
      ]
    },
    {
      "cell_type": "code",
      "metadata": {
        "id": "VRXq8XeNlTnt",
        "colab_type": "code",
        "colab": {
          "base_uri": "https://localhost:8080/",
          "height": 209
        },
        "outputId": "c390c360-3007-44c4-ba49-85031d0bf471"
      },
      "source": [
        "## test set의 각 class 별 image 수 확인\n",
        "unique, counts = np.unique(test_labels, axis=-1, return_counts=True)\n",
        "dict(zip(unique, counts))"
      ],
      "execution_count": 28,
      "outputs": [
        {
          "output_type": "execute_result",
          "data": {
            "text/plain": [
              "{0: 1000,\n",
              " 1: 1000,\n",
              " 2: 1000,\n",
              " 3: 1000,\n",
              " 4: 1000,\n",
              " 5: 1000,\n",
              " 6: 1000,\n",
              " 7: 1000,\n",
              " 8: 1000,\n",
              " 9: 1000}"
            ]
          },
          "metadata": {
            "tags": []
          },
          "execution_count": 28
        }
      ]
    },
    {
      "cell_type": "code",
      "metadata": {
        "id": "tzBb5S8GlTnv",
        "colab_type": "code",
        "colab": {}
      },
      "source": [
        "N_TRAIN = train_images.shape[0]\n",
        "N_TEST = test_images.shape[0]"
      ],
      "execution_count": 0,
      "outputs": []
    },
    {
      "cell_type": "code",
      "metadata": {
        "id": "D950PM8QlTny",
        "colab_type": "code",
        "colab": {
          "base_uri": "https://localhost:8080/",
          "height": 265
        },
        "outputId": "937d941f-876b-40a2-c2fd-482913c76844"
      },
      "source": [
        "## train_images의 0번 image 화면에 출력\n",
        "plt.figure()\n",
        "plt.imshow(train_images[0], cmap=plt.cm.binary)\n",
        "plt.colorbar()\n",
        "plt.show()"
      ],
      "execution_count": 30,
      "outputs": [
        {
          "output_type": "display_data",
          "data": {
            "image/png": "[encoded data removed]",
            "text/plain": [
              "<Figure size 432x288 with 2 Axes>"
            ]
          },
          "metadata": {
            "tags": []
          }
        }
      ]
    },
    {
      "cell_type": "code",
      "metadata": {
        "id": "bv4WpypTlTn1",
        "colab_type": "code",
        "colab": {
          "base_uri": "https://localhost:8080/",
          "height": 860
        },
        "outputId": "a9840de9-3905-4c22-9168-e0479dc0b185"
      },
      "source": [
        "## 25개의 train image와 label 화면에 출력\n",
        "plt.figure(figsize=(15,15))\n",
        "for i in range(25):\n",
        "    plt.subplot(5,5,i+1)\n",
        "    plt.xticks([])\n",
        "    plt.yticks([])\n",
        "    plt.grid(False)\n",
        "    plt.imshow(train_images[i], cmap=plt.cm.binary)\n",
        "    plt.xlabel(class_names[train_labels[i]])"
      ],
      "execution_count": 31,
      "outputs": [
        {
          "output_type": "display_data",
          "data": {
            "image/png": "[encoded data removed]",
            "text/plain": [
              "<Figure size 1080x1080 with 25 Axes>"
            ]
          },
          "metadata": {
            "tags": []
          }
        }
      ]
    },
    {
      "cell_type": "code",
      "metadata": {
        "id": "ogJJHotUlTn3",
        "colab_type": "code",
        "colab": {}
      },
      "source": [
        "## image를 0~1사이 값으로 만들기 위하여 255로 나누어줌\n",
        "train_images = train_images.astype(np.float32) / 255.\n",
        "test_images = test_images.astype(np.float32) / 255.\n",
        "\n",
        "## one-hot encoding\n",
        "train_labels = keras.utils.to_categorical(train_labels, N_CLASS)\n",
        "test_labels = keras.utils.to_categorical(test_labels, N_CLASS)"
      ],
      "execution_count": 0,
      "outputs": []
    },
    {
      "cell_type": "code",
      "metadata": {
        "id": "izzGS22klTn5",
        "colab_type": "code",
        "colab": {}
      },
      "source": [
        "## dataset 구성    \n",
        "train_dataset = tf.data.Dataset.from_tensor_slices((train_images, train_labels)).shuffle(\n",
        "                buffer_size=100000).batch(N_BATCH).repeat()\n",
        "test_dataset = tf.data.Dataset.from_tensor_slices((test_images, test_labels)).batch(N_BATCH)"
      ],
      "execution_count": 0,
      "outputs": []
    },
    {
      "cell_type": "code",
      "metadata": {
        "id": "DxLmaViWlTn8",
        "colab_type": "code",
        "colab": {}
      },
      "source": [
        "## model function\n",
        "def create_model():\n",
        "    model = keras.Sequential()\n",
        "    model.add(keras.layers.Flatten(input_shape=(28,28)))\n",
        "    model.add(keras.layers.Dense(256, activation='relu'))\n",
        "    model.add(keras.layers.Dense(128, activation='relu'))\n",
        "    model.add(keras.layers.Dense(10, activation='softmax'))\n",
        "    return model"
      ],
      "execution_count": 0,
      "outputs": []
    },
    {
      "cell_type": "code",
      "metadata": {
        "id": "QQVFmqRZlTn-",
        "colab_type": "code",
        "colab": {
          "base_uri": "https://localhost:8080/",
          "height": 324
        },
        "outputId": "2f5b4587-9035-4cb4-ee08-891589e863ea"
      },
      "source": [
        "## Create model, compile & summary\n",
        "model = create_model()\n",
        "model.compile(optimizer=tf.keras.optimizers.Adam(learning_rate),\n",
        "              loss='categorical_crossentropy',\n",
        "              metrics=['accuracy'])\n",
        "model.summary()"
      ],
      "execution_count": 35,
      "outputs": [
        {
          "output_type": "stream",
          "text": [
            "Model: \"sequential_1\"\n",
            "_________________________________________________________________\n",
            "Layer (type)                 Output Shape              Param #   \n",
            "=================================================================\n",
            "flatten (Flatten)            (None, 784)               0         \n",
            "_________________________________________________________________\n",
            "dense_4 (Dense)              (None, 256)               200960    \n",
            "_________________________________________________________________\n",
            "dense_5 (Dense)              (None, 128)               32896     \n",
            "_________________________________________________________________\n",
            "dense_6 (Dense)              (None, 10)                1290      \n",
            "=================================================================\n",
            "Total params: 235,146\n",
            "Trainable params: 235,146\n",
            "Non-trainable params: 0\n",
            "_________________________________________________________________\n"
          ],
          "name": "stdout"
        }
      ]
    },
    {
      "cell_type": "code",
      "metadata": {
        "id": "8c40XeIOlToA",
        "colab_type": "code",
        "colab": {
          "base_uri": "https://localhost:8080/",
          "height": 36
        },
        "outputId": "44f7a3f1-bf3c-4dca-f28c-197fe28a97ca"
      },
      "source": [
        "## Parameters for training\n",
        "steps_per_epoch = N_TRAIN//N_BATCH\n",
        "validation_steps = N_TEST//N_BATCH\n",
        "print(steps_per_epoch, validation_steps)"
      ],
      "execution_count": 36,
      "outputs": [
        {
          "output_type": "stream",
          "text": [
            "600 100\n"
          ],
          "name": "stdout"
        }
      ]
    },
    {
      "cell_type": "code",
      "metadata": {
        "id": "N2IjoUqPlToC",
        "colab_type": "code",
        "colab": {
          "base_uri": "https://localhost:8080/",
          "height": 1000
        },
        "outputId": "27467e6e-1265-480e-a430-2e92d56968c0"
      },
      "source": [
        "## Training\n",
        "history = model.fit(train_dataset, epochs=N_EPOCHS, steps_per_epoch=steps_per_epoch, \n",
        "                    validation_data=test_dataset, validation_steps=validation_steps)"
      ],
      "execution_count": 37,
      "outputs": [
        {
          "output_type": "stream",
          "text": [
            "Train for 600 steps, validate for 100 steps\n",
            "Epoch 1/30\n",
            "600/600 [==============================] - 3s 5ms/step - loss: 0.5012 - accuracy: 0.8233 - val_loss: 0.4332 - val_accuracy: 0.8468\n",
            "Epoch 2/30\n",
            "600/600 [==============================] - 2s 4ms/step - loss: 0.3639 - accuracy: 0.8676 - val_loss: 0.3773 - val_accuracy: 0.8664\n",
            "Epoch 3/30\n",
            "600/600 [==============================] - 2s 4ms/step - loss: 0.3261 - accuracy: 0.8796 - val_loss: 0.3594 - val_accuracy: 0.8719\n",
            "Epoch 4/30\n",
            "600/600 [==============================] - 2s 4ms/step - loss: 0.3018 - accuracy: 0.8874 - val_loss: 0.3487 - val_accuracy: 0.8734\n",
            "Epoch 5/30\n",
            "600/600 [==============================] - 2s 4ms/step - loss: 0.2858 - accuracy: 0.8936 - val_loss: 0.3421 - val_accuracy: 0.8786\n",
            "Epoch 6/30\n",
            "600/600 [==============================] - 2s 4ms/step - loss: 0.2699 - accuracy: 0.8989 - val_loss: 0.3448 - val_accuracy: 0.8748\n",
            "Epoch 7/30\n",
            "600/600 [==============================] - 2s 4ms/step - loss: 0.2570 - accuracy: 0.9024 - val_loss: 0.3234 - val_accuracy: 0.8845\n",
            "Epoch 8/30\n",
            "600/600 [==============================] - 2s 4ms/step - loss: 0.2449 - accuracy: 0.9083 - val_loss: 0.3557 - val_accuracy: 0.8748\n",
            "Epoch 9/30\n",
            "600/600 [==============================] - 2s 4ms/step - loss: 0.2376 - accuracy: 0.9107 - val_loss: 0.3412 - val_accuracy: 0.8747\n",
            "Epoch 10/30\n",
            "600/600 [==============================] - 2s 4ms/step - loss: 0.2255 - accuracy: 0.9149 - val_loss: 0.3249 - val_accuracy: 0.8847\n",
            "Epoch 11/30\n",
            "600/600 [==============================] - 2s 4ms/step - loss: 0.2176 - accuracy: 0.9177 - val_loss: 0.3433 - val_accuracy: 0.8864\n",
            "Epoch 12/30\n",
            "600/600 [==============================] - 2s 4ms/step - loss: 0.2104 - accuracy: 0.9204 - val_loss: 0.3241 - val_accuracy: 0.8890\n",
            "Epoch 13/30\n",
            "600/600 [==============================] - 2s 4ms/step - loss: 0.2037 - accuracy: 0.9230 - val_loss: 0.3373 - val_accuracy: 0.8900\n",
            "Epoch 14/30\n",
            "600/600 [==============================] - 2s 4ms/step - loss: 0.1955 - accuracy: 0.9265 - val_loss: 0.3217 - val_accuracy: 0.8930\n",
            "Epoch 15/30\n",
            "600/600 [==============================] - 2s 4ms/step - loss: 0.1879 - accuracy: 0.9277 - val_loss: 0.3389 - val_accuracy: 0.8911\n",
            "Epoch 16/30\n",
            "600/600 [==============================] - 2s 4ms/step - loss: 0.1795 - accuracy: 0.9316 - val_loss: 0.3315 - val_accuracy: 0.8930\n",
            "Epoch 17/30\n",
            "600/600 [==============================] - 2s 4ms/step - loss: 0.1750 - accuracy: 0.9340 - val_loss: 0.3500 - val_accuracy: 0.8820\n",
            "Epoch 18/30\n",
            "600/600 [==============================] - 2s 4ms/step - loss: 0.1690 - accuracy: 0.9362 - val_loss: 0.3865 - val_accuracy: 0.8796\n",
            "Epoch 19/30\n",
            "600/600 [==============================] - 2s 4ms/step - loss: 0.1625 - accuracy: 0.9382 - val_loss: 0.3557 - val_accuracy: 0.8900\n",
            "Epoch 20/30\n",
            "600/600 [==============================] - 2s 4ms/step - loss: 0.1594 - accuracy: 0.9396 - val_loss: 0.3425 - val_accuracy: 0.8918\n",
            "Epoch 21/30\n",
            "600/600 [==============================] - 2s 4ms/step - loss: 0.1515 - accuracy: 0.9428 - val_loss: 0.3584 - val_accuracy: 0.8917\n",
            "Epoch 22/30\n",
            "600/600 [==============================] - 2s 4ms/step - loss: 0.1483 - accuracy: 0.9436 - val_loss: 0.3654 - val_accuracy: 0.8931\n",
            "Epoch 23/30\n",
            "600/600 [==============================] - 2s 4ms/step - loss: 0.1441 - accuracy: 0.9451 - val_loss: 0.3610 - val_accuracy: 0.8852\n",
            "Epoch 24/30\n",
            "600/600 [==============================] - 2s 4ms/step - loss: 0.1373 - accuracy: 0.9479 - val_loss: 0.3653 - val_accuracy: 0.8923\n",
            "Epoch 25/30\n",
            "600/600 [==============================] - 2s 4ms/step - loss: 0.1328 - accuracy: 0.9499 - val_loss: 0.3715 - val_accuracy: 0.8851\n",
            "Epoch 26/30\n",
            "600/600 [==============================] - 2s 4ms/step - loss: 0.1324 - accuracy: 0.9495 - val_loss: 0.3534 - val_accuracy: 0.8951\n",
            "Epoch 27/30\n",
            "600/600 [==============================] - 2s 4ms/step - loss: 0.1238 - accuracy: 0.9531 - val_loss: 0.3847 - val_accuracy: 0.8910\n",
            "Epoch 28/30\n",
            "600/600 [==============================] - 2s 4ms/step - loss: 0.1201 - accuracy: 0.9539 - val_loss: 0.3904 - val_accuracy: 0.8978\n",
            "Epoch 29/30\n",
            "600/600 [==============================] - 2s 4ms/step - loss: 0.1178 - accuracy: 0.9551 - val_loss: 0.3950 - val_accuracy: 0.8935\n",
            "Epoch 30/30\n",
            "600/600 [==============================] - 2s 4ms/step - loss: 0.1173 - accuracy: 0.9559 - val_loss: 0.4054 - val_accuracy: 0.8932\n"
          ],
          "name": "stdout"
        }
      ]
    },
    {
      "cell_type": "code",
      "metadata": {
        "id": "2PgOa7oflToF",
        "colab_type": "code",
        "colab": {
          "base_uri": "https://localhost:8080/",
          "height": 55
        },
        "outputId": "1df145d5-6f56-4d3a-d3d4-0eaa146b23c0"
      },
      "source": [
        "model.evaluate(test_dataset)"
      ],
      "execution_count": 38,
      "outputs": [
        {
          "output_type": "stream",
          "text": [
            "100/100 [==============================] - 0s 3ms/step - loss: 0.4054 - accuracy: 0.8932\n"
          ],
          "name": "stdout"
        },
        {
          "output_type": "execute_result",
          "data": {
            "text/plain": [
              "[0.4054361562430859, 0.8932]"
            ]
          },
          "metadata": {
            "tags": []
          },
          "execution_count": 38
        }
      ]
    },
    {
      "cell_type": "code",
      "metadata": {
        "id": "AcwCLSLJlToJ",
        "colab_type": "code",
        "colab": {
          "base_uri": "https://localhost:8080/",
          "height": 279
        },
        "outputId": "6c23511d-321d-4343-a03e-27fa8617ffe1"
      },
      "source": [
        "## Plot losses\n",
        "plt.plot(history.history['loss'], 'b-', label='loss')\n",
        "plt.plot(history.history['val_loss'], 'r--', label='val_loss')\n",
        "plt.xlabel('Epoch')\n",
        "plt.legend()\n",
        "plt.show()"
      ],
      "execution_count": 39,
      "outputs": [
        {
          "output_type": "display_data",
          "data": {
            "image/png": "[encoded data removed]",
            "text/plain": [
              "<Figure size 432x288 with 1 Axes>"
            ]
          },
          "metadata": {
            "tags": []
          }
        }
      ]
    },
    {
      "cell_type": "code",
      "metadata": {
        "id": "9CCIrI5RlToN",
        "colab_type": "code",
        "colab": {
          "base_uri": "https://localhost:8080/",
          "height": 280
        },
        "outputId": "863b12a8-1ccb-4fb6-dcf7-e250244a44ce"
      },
      "source": [
        "## Plot losses\n",
        "plt.plot(history.history['accuracy'], 'b-', label='loss')\n",
        "plt.plot(history.history['val_accuracy'], 'r--', label='val_loss')\n",
        "plt.xlabel('Epoch')\n",
        "plt.legend()\n",
        "plt.show()"
      ],
      "execution_count": 40,
      "outputs": [
        {
          "output_type": "display_data",
          "data": {
            "image/png": "[encoded data removed]",
            "text/plain": [
              "<Figure size 432x288 with 1 Axes>"
            ]
          },
          "metadata": {
            "tags": []
          }
        }
      ]
    },
    {
      "cell_type": "code",
      "metadata": {
        "id": "SpBLpASylToP",
        "colab_type": "code",
        "colab": {}
      },
      "source": [
        "## 결과 확인\n",
        "def plot_image(i, predictions_array, true_label, img):\n",
        "    predictions_array, true_label, img = predictions_array[i], true_label[i], img[i]\n",
        "    plt.grid(False)\n",
        "    plt.xticks([])\n",
        "    plt.yticks([])\n",
        "\n",
        "    plt.imshow(img,cmap=plt.cm.binary)\n",
        "\n",
        "    predicted_label = np.argmax(predictions_array)\n",
        "    if predicted_label == true_label:\n",
        "        color = 'blue'\n",
        "    else:\n",
        "        color = 'red'\n",
        "\n",
        "    plt.xlabel(\"{} {:2.0f}% ({})\".format(class_names[predicted_label],\n",
        "                                100*np.max(predictions_array),\n",
        "                                class_names[true_label]),\n",
        "                                color=color)\n",
        "\n",
        "def plot_value_array(i, predictions_array, true_label):\n",
        "    predictions_array, true_label = predictions_array[i], true_label[i]\n",
        "    plt.grid(False)\n",
        "    #plt.xticks([])\n",
        "    plt.xticks(range(N_CLASS), class_names, rotation=90)\n",
        "    plt.yticks([])\n",
        "    thisplot = plt.bar(range(N_CLASS), predictions_array, color=\"#777777\")\n",
        "    plt.ylim([0, 1]) \n",
        "    predicted_label = np.argmax(predictions_array)\n",
        " \n",
        "    thisplot[predicted_label].set_color('red')\n",
        "    thisplot[true_label].set_color('blue')"
      ],
      "execution_count": 0,
      "outputs": []
    },
    {
      "cell_type": "code",
      "metadata": {
        "id": "B75enAOFlToR",
        "colab_type": "code",
        "colab": {
          "base_uri": "https://localhost:8080/",
          "height": 1000
        },
        "outputId": "0e3710a6-fdd7-4317-eb0d-56597737008d"
      },
      "source": [
        "rnd_idx = np.random.randint(1, N_TEST//N_BATCH)\n",
        "img_cnt = 0\n",
        "for images, labels in test_dataset:\n",
        "    img_cnt += 1\n",
        "    if img_cnt != rnd_idx:\n",
        "        continue\n",
        "    predictions = model(images, training=False)\n",
        "    num_rows = 5\n",
        "    num_cols = 3\n",
        "    num_images = num_rows*num_cols\n",
        "    labels = tf.argmax(labels, axis=-1)\n",
        "    plt.figure(figsize=(3*2*num_cols, 4*num_rows))\n",
        "    plt.subplots_adjust(hspace=1.0)\n",
        "    for i in range(num_images):\n",
        "        plt.subplot(num_rows, 2*num_cols, 2*i+1)\n",
        "        plot_image(i, predictions.numpy(), labels.numpy(), images.numpy())\n",
        "        plt.subplot(num_rows, 2*num_cols, 2*i+2)\n",
        "        plot_value_array(i, predictions.numpy(), labels.numpy())        \n",
        "    break"
      ],
      "execution_count": 42,
      "outputs": [
        {
          "output_type": "display_data",
          "data": {
            "image/png": "[encoded data removed]",
            "text/plain": [
              "<Figure size 1296x1440 with 30 Axes>"
            ]
          },
          "metadata": {
            "tags": []
          }
        }
      ]
    },
    {
      "cell_type": "code",
      "metadata": {
        "id": "irl_lKLclToT",
        "colab_type": "code",
        "colab": {}
      },
      "source": [
        ""
      ],
      "execution_count": 0,
      "outputs": []
    }
  ]
}