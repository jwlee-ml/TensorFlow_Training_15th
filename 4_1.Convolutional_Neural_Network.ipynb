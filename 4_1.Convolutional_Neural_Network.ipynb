{
  "nbformat": 4,
  "nbformat_minor": 0,
  "metadata": {
    "colab": {
      "name": "4_1.Convolutional_Neural_Network.ipynb",
      "provenance": [],
      "collapsed_sections": []
    },
    "kernelspec": {
      "name": "python3",
      "display_name": "Python 3"
    },
    "accelerator": "GPU"
  },
  "cells": [
    {
      "cell_type": "markdown",
      "metadata": {
        "id": "MTCelnXPkAkk",
        "colab_type": "text"
      },
      "source": [
        "# Convolutional Neural Network\n",
        "이번 실습에서는 MNIST data를 이용하여 CNN을 학습하고 MLP와 결과를 비교해보겠습니다.\n",
        "\n",
        "또한, 학습된 model을 저장하는 방법을 알아보고,\n",
        "\n",
        "Sequential API 외에 Functional API를 사용하여 model을 만드는 방법에 대해서 알아보겠습니다."
      ]
    },
    {
      "cell_type": "code",
      "metadata": {
        "id": "YwqyvGxwj1gj",
        "colab_type": "code",
        "colab": {
          "base_uri": "https://localhost:8080/",
          "height": 36
        },
        "outputId": "1d48b43d-67d9-496f-8abe-626016f6e16a"
      },
      "source": [
        "## Google Colab에서 TensorFlow 2.x 버전을 사용하기 위해서는 아래 magic command를 수행하면 간편하게 할 수 있습니다\n",
        "\n",
        "try:\n",
        "  # %tensorflow_version only exists in Colab.\n",
        "  %tensorflow_version 2.x\n",
        "except Exception:\n",
        "  pass"
      ],
      "execution_count": 1,
      "outputs": [
        {
          "output_type": "stream",
          "text": [
            "TensorFlow 2.x selected.\n"
          ],
          "name": "stdout"
        }
      ]
    },
    {
      "cell_type": "code",
      "metadata": {
        "id": "1zZqHgZzkXRj",
        "colab_type": "code",
        "colab": {
          "base_uri": "https://localhost:8080/",
          "height": 55
        },
        "outputId": "196710c9-03e4-4824-89cb-ee17d695c7c6"
      },
      "source": [
        "## 필요한 Library들을 import 합니다\n",
        "import os\n",
        "import numpy as np\n",
        "import matplotlib.pyplot as plt\n",
        "import tensorflow as tf\n",
        "from tensorflow import keras\n",
        "\n",
        "## TensorFlow, Keras version 확인\n",
        "print(tf.__version__)\n",
        "print(keras.__version__)"
      ],
      "execution_count": 2,
      "outputs": [
        {
          "output_type": "stream",
          "text": [
            "2.1.0\n",
            "2.2.4-tf\n"
          ],
          "name": "stdout"
        }
      ]
    },
    {
      "cell_type": "code",
      "metadata": {
        "id": "bZofjmrBkd7S",
        "colab_type": "code",
        "colab": {}
      },
      "source": [
        "np.random.seed(777)\n",
        "tf.random.set_seed(777)"
      ],
      "execution_count": 0,
      "outputs": []
    },
    {
      "cell_type": "markdown",
      "metadata": {
        "id": "G_mzncfzkj6L",
        "colab_type": "text"
      },
      "source": [
        "## Coding Tips\n",
        "\n",
        "#### 1. Hyper Paramter 정하기\n",
        "#### 2. Data 준비(불러오기 or download 등)\n",
        "#### 3. Dataset 구성 (tf.data.Dataset 이용)\n",
        "#### 4. Modlel 만들기 (Neural Network model)\n",
        "#### 5. Loss function 정의, Optimizer 선택\n",
        "#### 6. Training (Train, Test function 만들기 포함)\n",
        "#### 7. Validation(or Test) 결과 확인"
      ]
    },
    {
      "cell_type": "code",
      "metadata": {
        "id": "sCLxrff3kfZa",
        "colab_type": "code",
        "colab": {}
      },
      "source": [
        "## Hyper-parameters\n",
        "learning_rate = 0.001\n",
        "N_EPOCHS = 20\n",
        "N_BATCH = 100\n",
        "N_CLASS = 10"
      ],
      "execution_count": 0,
      "outputs": []
    },
    {
      "cell_type": "code",
      "metadata": {
        "id": "9h7FjkvUkoeK",
        "colab_type": "code",
        "colab": {}
      },
      "source": [
        "## MNIST Dataset #########################################################\n",
        "mnist = keras.datasets.mnist\n",
        "class_names = ['0', '1', '2', '3', '4', '5', '6', '7', '8', '9']\n",
        "##########################################################################\n",
        "\n",
        "## Fashion MNIST Dataset #################################################\n",
        "#mnist = keras.datasets.fashion_mnist\n",
        "#class_names = ['T-shirt/top', 'Trouser', 'Pullover', 'Dress', 'Coat', 'Sandal', 'Shirt', 'Sneaker', 'Bag', 'Ankle boot']\n",
        "##########################################################################"
      ],
      "execution_count": 0,
      "outputs": []
    },
    {
      "cell_type": "code",
      "metadata": {
        "id": "SAO51KEqkq2C",
        "colab_type": "code",
        "colab": {
          "base_uri": "https://localhost:8080/",
          "height": 55
        },
        "outputId": "0f22e820-44e8-4764-ea52-9ef6026bab24"
      },
      "source": [
        "## MNIST dataset load\n",
        "(train_images, train_labels), (test_images, test_labels) = mnist.load_data() "
      ],
      "execution_count": 6,
      "outputs": [
        {
          "output_type": "stream",
          "text": [
            "Downloading data from https://storage.googleapis.com/tensorflow/tf-keras-datasets/mnist.npz\n",
            "11493376/11490434 [==============================] - 0s 0us/step\n"
          ],
          "name": "stdout"
        }
      ]
    },
    {
      "cell_type": "code",
      "metadata": {
        "id": "KAAm2TmLksAS",
        "colab_type": "code",
        "colab": {}
      },
      "source": [
        "N_TRAIN = train_images.shape[0]\n",
        "N_TEST = test_images.shape[0]"
      ],
      "execution_count": 0,
      "outputs": []
    },
    {
      "cell_type": "code",
      "metadata": {
        "id": "GiK6TEy8kuI6",
        "colab_type": "code",
        "colab": {}
      },
      "source": [
        "# pixel값을 0~1사이 범위로 조정\n",
        "train_images = train_images.astype(np.float32) / 255.\n",
        "test_images = test_images.astype(np.float32) / 255.\n",
        "# CNN에 입력으로 넣기 위해 3차원->4차원으로 변경(channel에 1을 추가)\n",
        "train_images = train_images[..., tf.newaxis]\n",
        "test_images = test_images[..., tf.newaxis]\n",
        "# label을 onehot-encoding\n",
        "train_labels = keras.utils.to_categorical(train_labels, 10)\n",
        "test_labels = keras.utils.to_categorical(test_labels, 10)"
      ],
      "execution_count": 0,
      "outputs": []
    },
    {
      "cell_type": "code",
      "metadata": {
        "id": "LA4JswRpkw0i",
        "colab_type": "code",
        "colab": {}
      },
      "source": [
        "## dataset 구성    \n",
        "train_dataset = tf.data.Dataset.from_tensor_slices((train_images, train_labels)).shuffle(\n",
        "                buffer_size=100000).batch(N_BATCH).repeat()\n",
        "test_dataset = tf.data.Dataset.from_tensor_slices((test_images, test_labels)).batch(N_BATCH)"
      ],
      "execution_count": 0,
      "outputs": []
    },
    {
      "cell_type": "markdown",
      "metadata": {
        "id": "ZYL3Iw-Ek91j",
        "colab_type": "text"
      },
      "source": [
        "## Sequential API"
      ]
    },
    {
      "cell_type": "code",
      "metadata": {
        "id": "CJr2NE2Uk7li",
        "colab_type": "code",
        "colab": {}
      },
      "source": [
        "# Sequential API를 사용하여 model 구성\n",
        "def create_model():\n",
        "    model = keras.Sequential()\n",
        "    model.add(keras.layers.Conv2D(filters=32, kernel_size=3, activation='relu', padding='SAME', \n",
        "                                  input_shape=(28, 28, 1)))\n",
        "    model.add(keras.layers.MaxPool2D(padding='SAME'))\n",
        "    model.add(keras.layers.Conv2D(filters=64, kernel_size=3, activation='relu', padding='SAME'))\n",
        "    model.add(keras.layers.MaxPool2D(padding='SAME'))\n",
        "    model.add(keras.layers.Conv2D(filters=128, kernel_size=3, activation='relu', padding='SAME'))\n",
        "    model.add(keras.layers.MaxPool2D(padding='SAME'))\n",
        "    model.add(keras.layers.Flatten())\n",
        "    model.add(keras.layers.Dense(256, activation='relu'))\n",
        "    model.add(keras.layers.Dropout(0.4))\n",
        "    model.add(keras.layers.Dense(10, activation='softmax'))\n",
        "    return model"
      ],
      "execution_count": 0,
      "outputs": []
    },
    {
      "cell_type": "code",
      "metadata": {
        "id": "8pofkjKZlByK",
        "colab_type": "code",
        "colab": {
          "base_uri": "https://localhost:8080/",
          "height": 554
        },
        "outputId": "67451b6b-5d18-438e-86bc-f2db0fd0d480"
      },
      "source": [
        "## Create model, compile & summary\n",
        "model = create_model()\n",
        "model.compile(optimizer=tf.keras.optimizers.Adam(learning_rate),\n",
        "              loss='categorical_crossentropy',\n",
        "              metrics=['accuracy'])\n",
        "model.summary()"
      ],
      "execution_count": 11,
      "outputs": [
        {
          "output_type": "stream",
          "text": [
            "Model: \"sequential\"\n",
            "_________________________________________________________________\n",
            "Layer (type)                 Output Shape              Param #   \n",
            "=================================================================\n",
            "conv2d (Conv2D)              (None, 28, 28, 32)        320       \n",
            "_________________________________________________________________\n",
            "max_pooling2d (MaxPooling2D) (None, 14, 14, 32)        0         \n",
            "_________________________________________________________________\n",
            "conv2d_1 (Conv2D)            (None, 14, 14, 64)        18496     \n",
            "_________________________________________________________________\n",
            "max_pooling2d_1 (MaxPooling2 (None, 7, 7, 64)          0         \n",
            "_________________________________________________________________\n",
            "conv2d_2 (Conv2D)            (None, 7, 7, 128)         73856     \n",
            "_________________________________________________________________\n",
            "max_pooling2d_2 (MaxPooling2 (None, 4, 4, 128)         0         \n",
            "_________________________________________________________________\n",
            "flatten (Flatten)            (None, 2048)              0         \n",
            "_________________________________________________________________\n",
            "dense (Dense)                (None, 256)               524544    \n",
            "_________________________________________________________________\n",
            "dropout (Dropout)            (None, 256)               0         \n",
            "_________________________________________________________________\n",
            "dense_1 (Dense)              (None, 10)                2570      \n",
            "=================================================================\n",
            "Total params: 619,786\n",
            "Trainable params: 619,786\n",
            "Non-trainable params: 0\n",
            "_________________________________________________________________\n"
          ],
          "name": "stdout"
        }
      ]
    },
    {
      "cell_type": "code",
      "metadata": {
        "id": "iyq7Yuk-lRNM",
        "colab_type": "code",
        "colab": {
          "base_uri": "https://localhost:8080/",
          "height": 55
        },
        "outputId": "3b70b17c-9c7f-49f1-ae3d-87ddee24ac31"
      },
      "source": [
        "## 학습 전에 결과 확인\n",
        "model.evaluate(test_dataset)"
      ],
      "execution_count": 12,
      "outputs": [
        {
          "output_type": "stream",
          "text": [
            "100/100 [==============================] - 7s 73ms/step - loss: 2.3060 - accuracy: 0.1047\n"
          ],
          "name": "stdout"
        },
        {
          "output_type": "execute_result",
          "data": {
            "text/plain": [
              "[2.305952389240265, 0.1047]"
            ]
          },
          "metadata": {
            "tags": []
          },
          "execution_count": 12
        }
      ]
    },
    {
      "cell_type": "code",
      "metadata": {
        "id": "1A3ndVIqlJky",
        "colab_type": "code",
        "colab": {
          "base_uri": "https://localhost:8080/",
          "height": 36
        },
        "outputId": "cb01ad01-55db-4de7-c1b2-e69779b206d2"
      },
      "source": [
        "## Parameters for training\n",
        "steps_per_epoch = N_TRAIN//N_BATCH\n",
        "validation_steps = N_TEST//N_BATCH\n",
        "print(steps_per_epoch, validation_steps)"
      ],
      "execution_count": 13,
      "outputs": [
        {
          "output_type": "stream",
          "text": [
            "600 100\n"
          ],
          "name": "stdout"
        }
      ]
    },
    {
      "cell_type": "code",
      "metadata": {
        "id": "-HnjObb-lLdi",
        "colab_type": "code",
        "colab": {
          "base_uri": "https://localhost:8080/",
          "height": 804
        },
        "outputId": "f8e353dc-7afb-47ab-a288-b31eabc59bb1"
      },
      "source": [
        "## Training\n",
        "history = model.fit(train_dataset, epochs=N_EPOCHS, steps_per_epoch=steps_per_epoch, \n",
        "                    validation_data=test_dataset, validation_steps=validation_steps)"
      ],
      "execution_count": 14,
      "outputs": [
        {
          "output_type": "stream",
          "text": [
            "Train for 600 steps, validate for 100 steps\n",
            "Epoch 1/20\n",
            "600/600 [==============================] - 5s 8ms/step - loss: 0.1915 - accuracy: 0.9392 - val_loss: 0.0411 - val_accuracy: 0.9870\n",
            "Epoch 2/20\n",
            "600/600 [==============================] - 4s 6ms/step - loss: 0.0531 - accuracy: 0.9834 - val_loss: 0.0280 - val_accuracy: 0.9909\n",
            "Epoch 3/20\n",
            "600/600 [==============================] - 4s 6ms/step - loss: 0.0373 - accuracy: 0.9888 - val_loss: 0.0278 - val_accuracy: 0.9911\n",
            "Epoch 4/20\n",
            "600/600 [==============================] - 4s 6ms/step - loss: 0.0289 - accuracy: 0.9916 - val_loss: 0.0258 - val_accuracy: 0.9914\n",
            "Epoch 5/20\n",
            "600/600 [==============================] - 4s 6ms/step - loss: 0.0247 - accuracy: 0.9921 - val_loss: 0.0248 - val_accuracy: 0.9910\n",
            "Epoch 6/20\n",
            "600/600 [==============================] - 4s 6ms/step - loss: 0.0218 - accuracy: 0.9933 - val_loss: 0.0236 - val_accuracy: 0.9926\n",
            "Epoch 7/20\n",
            "600/600 [==============================] - 4s 6ms/step - loss: 0.0176 - accuracy: 0.9945 - val_loss: 0.0285 - val_accuracy: 0.9917\n",
            "Epoch 8/20\n",
            "600/600 [==============================] - 4s 6ms/step - loss: 0.0157 - accuracy: 0.9949 - val_loss: 0.0229 - val_accuracy: 0.9935\n",
            "Epoch 9/20\n",
            "600/600 [==============================] - 4s 6ms/step - loss: 0.0145 - accuracy: 0.9949 - val_loss: 0.0248 - val_accuracy: 0.9920\n",
            "Epoch 10/20\n",
            "600/600 [==============================] - 4s 6ms/step - loss: 0.0102 - accuracy: 0.9967 - val_loss: 0.0263 - val_accuracy: 0.9929\n",
            "Epoch 11/20\n",
            "600/600 [==============================] - 4s 6ms/step - loss: 0.0113 - accuracy: 0.9963 - val_loss: 0.0225 - val_accuracy: 0.9930\n",
            "Epoch 12/20\n",
            "600/600 [==============================] - 4s 6ms/step - loss: 0.0090 - accuracy: 0.9969 - val_loss: 0.0305 - val_accuracy: 0.9913\n",
            "Epoch 13/20\n",
            "600/600 [==============================] - 4s 6ms/step - loss: 0.0092 - accuracy: 0.9972 - val_loss: 0.0227 - val_accuracy: 0.9938\n",
            "Epoch 14/20\n",
            "600/600 [==============================] - 4s 6ms/step - loss: 0.0086 - accuracy: 0.9971 - val_loss: 0.0293 - val_accuracy: 0.9922\n",
            "Epoch 15/20\n",
            "600/600 [==============================] - 4s 6ms/step - loss: 0.0078 - accuracy: 0.9973 - val_loss: 0.0280 - val_accuracy: 0.9935\n",
            "Epoch 16/20\n",
            "600/600 [==============================] - 4s 6ms/step - loss: 0.0076 - accuracy: 0.9976 - val_loss: 0.0301 - val_accuracy: 0.9921\n",
            "Epoch 17/20\n",
            "600/600 [==============================] - 4s 6ms/step - loss: 0.0055 - accuracy: 0.9982 - val_loss: 0.0265 - val_accuracy: 0.9928\n",
            "Epoch 18/20\n",
            "600/600 [==============================] - 4s 6ms/step - loss: 0.0060 - accuracy: 0.9979 - val_loss: 0.0274 - val_accuracy: 0.9928\n",
            "Epoch 19/20\n",
            "600/600 [==============================] - 4s 6ms/step - loss: 0.0050 - accuracy: 0.9983 - val_loss: 0.0295 - val_accuracy: 0.9937\n",
            "Epoch 20/20\n",
            "600/600 [==============================] - 4s 6ms/step - loss: 0.0055 - accuracy: 0.9983 - val_loss: 0.0358 - val_accuracy: 0.9922\n"
          ],
          "name": "stdout"
        }
      ]
    },
    {
      "cell_type": "code",
      "metadata": {
        "id": "MxPq_KcOlg_K",
        "colab_type": "code",
        "colab": {}
      },
      "source": [
        "## 결과 확인\n",
        "def plot_image(i, predictions_array, true_label, img):\n",
        "    predictions_array, true_label, img = predictions_array[i], true_label[i], img[i]\n",
        "    plt.grid(False)\n",
        "    plt.xticks([])\n",
        "    plt.yticks([])\n",
        "\n",
        "    plt.imshow(img[:,:,0],cmap=plt.cm.binary)\n",
        "\n",
        "    predicted_label = np.argmax(predictions_array)\n",
        "    if predicted_label == true_label:\n",
        "        color = 'blue'\n",
        "    else:\n",
        "        color = 'red'\n",
        "\n",
        "    plt.xlabel(\"{} {:2.0f}% ({})\".format(class_names[predicted_label],\n",
        "                                100*np.max(predictions_array),\n",
        "                                class_names[true_label]),\n",
        "                                color=color)\n",
        "\n",
        "def plot_value_array(i, predictions_array, true_label):\n",
        "    predictions_array, true_label = predictions_array[i], true_label[i]\n",
        "    plt.grid(False)\n",
        "    #plt.xticks([])\n",
        "    plt.xticks(range(N_CLASS), class_names, rotation=90)\n",
        "    plt.yticks([])\n",
        "    thisplot = plt.bar(range(N_CLASS), predictions_array, color=\"#777777\")\n",
        "    plt.ylim([0, 1]) \n",
        "    predicted_label = np.argmax(predictions_array)\n",
        " \n",
        "    thisplot[predicted_label].set_color('red')\n",
        "    thisplot[true_label].set_color('blue')"
      ],
      "execution_count": 0,
      "outputs": []
    },
    {
      "cell_type": "code",
      "metadata": {
        "id": "iA98hUV-lnm5",
        "colab_type": "code",
        "colab": {
          "base_uri": "https://localhost:8080/",
          "height": 1000
        },
        "outputId": "b94def96-252b-4fdf-9118-4327cbe6d052"
      },
      "source": [
        "rnd_idx = np.random.randint(1, N_TEST//N_BATCH)\n",
        "img_cnt = 0\n",
        "for images, labels in test_dataset:\n",
        "    img_cnt += 1\n",
        "    if img_cnt != rnd_idx:\n",
        "        continue\n",
        "    predictions = model(images, training=False)\n",
        "    num_rows = 5\n",
        "    num_cols = 3\n",
        "    num_images = num_rows*num_cols\n",
        "    labels = tf.argmax(labels, axis=-1)\n",
        "    plt.figure(figsize=(3*2*num_cols, 4*num_rows))\n",
        "    plt.subplots_adjust(hspace=1.0)\n",
        "    for i in range(num_images):\n",
        "        plt.subplot(num_rows, 2*num_cols, 2*i+1)\n",
        "        plot_image(i, predictions.numpy(), labels.numpy(), images.numpy())\n",
        "        plt.subplot(num_rows, 2*num_cols, 2*i+2)\n",
        "        plot_value_array(i, predictions.numpy(), labels.numpy())        \n",
        "    break"
      ],
      "execution_count": 16,
      "outputs": [
        {
          "output_type": "display_data",
          "data": {
            "image/png": "[encoded data removed]",
            "text/plain": [
              "<Figure size 1296x1440 with 30 Axes>"
            ]
          },
          "metadata": {
            "tags": []
          }
        }
      ]
    },
    {
      "cell_type": "markdown",
      "metadata": {
        "id": "-In32EFjmBV8",
        "colab_type": "text"
      },
      "source": [
        "## Weight 저장하고 불러오기"
      ]
    },
    {
      "cell_type": "code",
      "metadata": {
        "id": "_CCTzpeOlpq5",
        "colab_type": "code",
        "colab": {}
      },
      "source": [
        "## Creating a checkpoint directory\n",
        "cur_dir = os.getcwd()\n",
        "ckpt_dir_name = 'checkpoints'\n",
        "model_dir_name = 'mnist_cnn_keras'\n",
        "ckpt_name = 'mnist_cnn_keras.ckpt'\n",
        "\n",
        "checkpoint_dir = os.path.join(cur_dir, ckpt_dir_name, model_dir_name)\n",
        "os.makedirs(checkpoint_dir, exist_ok=True)\n",
        "\n",
        "checkpoint_path = os.path.join(checkpoint_dir, ckpt_name)"
      ],
      "execution_count": 0,
      "outputs": []
    },
    {
      "cell_type": "code",
      "metadata": {
        "id": "mPr8-LAwmIjR",
        "colab_type": "code",
        "colab": {}
      },
      "source": [
        "## Saving weights\n",
        "model.save_weights(checkpoint_path)"
      ],
      "execution_count": 0,
      "outputs": []
    },
    {
      "cell_type": "code",
      "metadata": {
        "id": "9PkUkZkQmSNJ",
        "colab_type": "code",
        "colab": {
          "base_uri": "https://localhost:8080/",
          "height": 94
        },
        "outputId": "af0e2334-6da4-495a-f27f-7c709e28c676"
      },
      "source": [
        "## 확인\n",
        "!ls 'checkpoints/mnist_cnn_keras'"
      ],
      "execution_count": 19,
      "outputs": [
        {
          "output_type": "stream",
          "text": [
            "checkpoint\n",
            "mnist_cnn_keras.ckpt.data-00000-of-00002\n",
            "mnist_cnn_keras.ckpt.data-00001-of-00002\n",
            "mnist_cnn_keras.ckpt.index\n"
          ],
          "name": "stdout"
        }
      ]
    },
    {
      "cell_type": "code",
      "metadata": {
        "id": "PxwQQUnTmUjB",
        "colab_type": "code",
        "colab": {
          "base_uri": "https://localhost:8080/",
          "height": 554
        },
        "outputId": "df07f385-0119-41a3-d1ee-9b520846300d"
      },
      "source": [
        "## Creating a new model\n",
        "new_model1 = create_model()\n",
        "new_model1.compile(optimizer=keras.optimizers.Adam(learning_rate),\n",
        "                 loss='categorical_crossentropy',\n",
        "                 metrics=['accuracy'])\n",
        "new_model1.summary()"
      ],
      "execution_count": 20,
      "outputs": [
        {
          "output_type": "stream",
          "text": [
            "Model: \"sequential_1\"\n",
            "_________________________________________________________________\n",
            "Layer (type)                 Output Shape              Param #   \n",
            "=================================================================\n",
            "conv2d_3 (Conv2D)            (None, 28, 28, 32)        320       \n",
            "_________________________________________________________________\n",
            "max_pooling2d_3 (MaxPooling2 (None, 14, 14, 32)        0         \n",
            "_________________________________________________________________\n",
            "conv2d_4 (Conv2D)            (None, 14, 14, 64)        18496     \n",
            "_________________________________________________________________\n",
            "max_pooling2d_4 (MaxPooling2 (None, 7, 7, 64)          0         \n",
            "_________________________________________________________________\n",
            "conv2d_5 (Conv2D)            (None, 7, 7, 128)         73856     \n",
            "_________________________________________________________________\n",
            "max_pooling2d_5 (MaxPooling2 (None, 4, 4, 128)         0         \n",
            "_________________________________________________________________\n",
            "flatten_1 (Flatten)          (None, 2048)              0         \n",
            "_________________________________________________________________\n",
            "dense_2 (Dense)              (None, 256)               524544    \n",
            "_________________________________________________________________\n",
            "dropout_1 (Dropout)          (None, 256)               0         \n",
            "_________________________________________________________________\n",
            "dense_3 (Dense)              (None, 10)                2570      \n",
            "=================================================================\n",
            "Total params: 619,786\n",
            "Trainable params: 619,786\n",
            "Non-trainable params: 0\n",
            "_________________________________________________________________\n"
          ],
          "name": "stdout"
        }
      ]
    },
    {
      "cell_type": "code",
      "metadata": {
        "id": "HpPHyLmRmgDB",
        "colab_type": "code",
        "colab": {
          "base_uri": "https://localhost:8080/",
          "height": 55
        },
        "outputId": "e990e627-8739-488e-9d87-37802425ec5f"
      },
      "source": [
        "## 학습 전에 결과 확인\n",
        "new_model1.evaluate(test_dataset)"
      ],
      "execution_count": 21,
      "outputs": [
        {
          "output_type": "stream",
          "text": [
            "100/100 [==============================] - 0s 5ms/step - loss: 2.3036 - accuracy: 0.0551\n"
          ],
          "name": "stdout"
        },
        {
          "output_type": "execute_result",
          "data": {
            "text/plain": [
              "[2.303635048866272, 0.0551]"
            ]
          },
          "metadata": {
            "tags": []
          },
          "execution_count": 21
        }
      ]
    },
    {
      "cell_type": "code",
      "metadata": {
        "id": "s5h355Eamj4B",
        "colab_type": "code",
        "colab": {
          "base_uri": "https://localhost:8080/",
          "height": 1000
        },
        "outputId": "cafe82fd-c300-4ad7-990a-f7ea15402c0d"
      },
      "source": [
        "rnd_idx = np.random.randint(1, N_TEST//N_BATCH)\n",
        "img_cnt = 0\n",
        "for images, labels in test_dataset:\n",
        "    img_cnt += 1\n",
        "    if img_cnt != rnd_idx:\n",
        "        continue\n",
        "    predictions = new_model1(images, training=False)\n",
        "    num_rows = 5\n",
        "    num_cols = 3\n",
        "    num_images = num_rows*num_cols\n",
        "    labels = tf.argmax(labels, axis=-1)\n",
        "    plt.figure(figsize=(3*2*num_cols, 4*num_rows))\n",
        "    plt.subplots_adjust(hspace=1.0)\n",
        "    for i in range(num_images):\n",
        "        plt.subplot(num_rows, 2*num_cols, 2*i+1)\n",
        "        plot_image(i, predictions.numpy(), labels.numpy(), images.numpy())\n",
        "        plt.subplot(num_rows, 2*num_cols, 2*i+2)\n",
        "        plot_value_array(i, predictions.numpy(), labels.numpy())        \n",
        "    break"
      ],
      "execution_count": 22,
      "outputs": [
        {
          "output_type": "display_data",
          "data": {
            "image/png": "[encoded data removed]",
            "text/plain": [
              "<Figure size 1296x1440 with 30 Axes>"
            ]
          },
          "metadata": {
            "tags": []
          }
        }
      ]
    },
    {
      "cell_type": "code",
      "metadata": {
        "id": "a9il9M_Vmwnz",
        "colab_type": "code",
        "colab": {
          "base_uri": "https://localhost:8080/",
          "height": 36
        },
        "outputId": "1d57c41c-ff73-46b8-d26e-d0bdcbf39bb7"
      },
      "source": [
        "## Restore weights\n",
        "new_model1.load_weights(checkpoint_path)"
      ],
      "execution_count": 23,
      "outputs": [
        {
          "output_type": "execute_result",
          "data": {
            "text/plain": [
              "<tensorflow.python.training.tracking.util.CheckpointLoadStatus at 0x7f94400717b8>"
            ]
          },
          "metadata": {
            "tags": []
          },
          "execution_count": 23
        }
      ]
    },
    {
      "cell_type": "code",
      "metadata": {
        "id": "ZTpx6xS-m21B",
        "colab_type": "code",
        "colab": {
          "base_uri": "https://localhost:8080/",
          "height": 55
        },
        "outputId": "6bb83929-056e-4b85-8296-1ee83fc76d8d"
      },
      "source": [
        "## 결과 확인\n",
        "new_model1.evaluate(test_dataset)"
      ],
      "execution_count": 24,
      "outputs": [
        {
          "output_type": "stream",
          "text": [
            "100/100 [==============================] - 0s 4ms/step - loss: 0.0358 - accuracy: 0.9922\n"
          ],
          "name": "stdout"
        },
        {
          "output_type": "execute_result",
          "data": {
            "text/plain": [
              "[0.03575061728614127, 0.9922]"
            ]
          },
          "metadata": {
            "tags": []
          },
          "execution_count": 24
        }
      ]
    },
    {
      "cell_type": "code",
      "metadata": {
        "id": "Le1BGl9ym8Vg",
        "colab_type": "code",
        "colab": {
          "base_uri": "https://localhost:8080/",
          "height": 1000
        },
        "outputId": "c0f3fa16-5a9c-4ac8-c819-8e5bae3b6638"
      },
      "source": [
        "rnd_idx = np.random.randint(1, N_TEST//N_BATCH)\n",
        "img_cnt = 0\n",
        "for images, labels in test_dataset:\n",
        "    img_cnt += 1\n",
        "    if img_cnt != rnd_idx:\n",
        "        continue\n",
        "    predictions = new_model1(images, training=False)\n",
        "    num_rows = 5\n",
        "    num_cols = 3\n",
        "    num_images = num_rows*num_cols\n",
        "    labels = tf.argmax(labels, axis=-1)\n",
        "    plt.figure(figsize=(3*2*num_cols, 4*num_rows))\n",
        "    plt.subplots_adjust(hspace=1.0)\n",
        "    for i in range(num_images):\n",
        "        plt.subplot(num_rows, 2*num_cols, 2*i+1)\n",
        "        plot_image(i, predictions.numpy(), labels.numpy(), images.numpy())\n",
        "        plt.subplot(num_rows, 2*num_cols, 2*i+2)\n",
        "        plot_value_array(i, predictions.numpy(), labels.numpy())        \n",
        "    break"
      ],
      "execution_count": 25,
      "outputs": [
        {
          "output_type": "display_data",
          "data": {
            "image/png": "[encoded data removed]",
            "text/plain": [
              "<Figure size 1296x1440 with 30 Axes>"
            ]
          },
          "metadata": {
            "tags": []
          }
        }
      ]
    },
    {
      "cell_type": "markdown",
      "metadata": {
        "id": "kf2YC7PbnEdk",
        "colab_type": "text"
      },
      "source": [
        "## Callback 사용하여 저장하기"
      ]
    },
    {
      "cell_type": "code",
      "metadata": {
        "id": "uda4dUrAm_dY",
        "colab_type": "code",
        "colab": {
          "base_uri": "https://localhost:8080/",
          "height": 554
        },
        "outputId": "4279aeb1-ffa4-46b8-f022-b6af3a4369bb"
      },
      "source": [
        "## 새로운 model 생성\n",
        "model = create_model()\n",
        "\n",
        "## model compile\n",
        "model.compile(optimizer=keras.optimizers.Adam(learning_rate),\n",
        "                 loss='categorical_crossentropy',\n",
        "                 metrics=['accuracy'])\n",
        "model.summary()"
      ],
      "execution_count": 26,
      "outputs": [
        {
          "output_type": "stream",
          "text": [
            "Model: \"sequential_2\"\n",
            "_________________________________________________________________\n",
            "Layer (type)                 Output Shape              Param #   \n",
            "=================================================================\n",
            "conv2d_6 (Conv2D)            (None, 28, 28, 32)        320       \n",
            "_________________________________________________________________\n",
            "max_pooling2d_6 (MaxPooling2 (None, 14, 14, 32)        0         \n",
            "_________________________________________________________________\n",
            "conv2d_7 (Conv2D)            (None, 14, 14, 64)        18496     \n",
            "_________________________________________________________________\n",
            "max_pooling2d_7 (MaxPooling2 (None, 7, 7, 64)          0         \n",
            "_________________________________________________________________\n",
            "conv2d_8 (Conv2D)            (None, 7, 7, 128)         73856     \n",
            "_________________________________________________________________\n",
            "max_pooling2d_8 (MaxPooling2 (None, 4, 4, 128)         0         \n",
            "_________________________________________________________________\n",
            "flatten_2 (Flatten)          (None, 2048)              0         \n",
            "_________________________________________________________________\n",
            "dense_4 (Dense)              (None, 256)               524544    \n",
            "_________________________________________________________________\n",
            "dropout_2 (Dropout)          (None, 256)               0         \n",
            "_________________________________________________________________\n",
            "dense_5 (Dense)              (None, 10)                2570      \n",
            "=================================================================\n",
            "Total params: 619,786\n",
            "Trainable params: 619,786\n",
            "Non-trainable params: 0\n",
            "_________________________________________________________________\n"
          ],
          "name": "stdout"
        }
      ]
    },
    {
      "cell_type": "code",
      "metadata": {
        "id": "ugndyG4UnN1J",
        "colab_type": "code",
        "colab": {
          "base_uri": "https://localhost:8080/",
          "height": 55
        },
        "outputId": "8b90f612-3387-4107-a617-1f680816e024"
      },
      "source": [
        "## 학습 전에 결과 확인\n",
        "model.evaluate(test_dataset)"
      ],
      "execution_count": 27,
      "outputs": [
        {
          "output_type": "stream",
          "text": [
            "100/100 [==============================] - 0s 5ms/step - loss: 2.3026 - accuracy: 0.1101\n"
          ],
          "name": "stdout"
        },
        {
          "output_type": "execute_result",
          "data": {
            "text/plain": [
              "[2.302588708400726, 0.1101]"
            ]
          },
          "metadata": {
            "tags": []
          },
          "execution_count": 27
        }
      ]
    },
    {
      "cell_type": "code",
      "metadata": {
        "id": "yeRpLRxcnRrR",
        "colab_type": "code",
        "colab": {
          "base_uri": "https://localhost:8080/",
          "height": 804
        },
        "outputId": "485eab96-fcc8-4513-9814-c91e6264327d"
      },
      "source": [
        "ckpt_name = 'mnist_cnn_{epoch:04d}.ckpt'\n",
        "checkpoint_path = os.path.join(checkpoint_dir, ckpt_name)\n",
        "\n",
        "# callback 만들기\n",
        "cp_callback = keras.callbacks.ModelCheckpoint(filepath=checkpoint_path,\n",
        "                                              save_weights_only=True)\n",
        "\n",
        "## Training\n",
        "history = model.fit(train_dataset, epochs=N_EPOCHS, steps_per_epoch=steps_per_epoch, \n",
        "                    validation_data=test_dataset, validation_steps=validation_steps,\n",
        "                    callbacks=[cp_callback])"
      ],
      "execution_count": 28,
      "outputs": [
        {
          "output_type": "stream",
          "text": [
            "Train for 600 steps, validate for 100 steps\n",
            "Epoch 1/20\n",
            "600/600 [==============================] - 5s 8ms/step - loss: 0.2015 - accuracy: 0.9358 - val_loss: 0.0424 - val_accuracy: 0.9859\n",
            "Epoch 2/20\n",
            "600/600 [==============================] - 4s 7ms/step - loss: 0.0532 - accuracy: 0.9837 - val_loss: 0.0304 - val_accuracy: 0.9906\n",
            "Epoch 3/20\n",
            "600/600 [==============================] - 4s 7ms/step - loss: 0.0380 - accuracy: 0.9882 - val_loss: 0.0253 - val_accuracy: 0.9926\n",
            "Epoch 4/20\n",
            "600/600 [==============================] - 4s 7ms/step - loss: 0.0289 - accuracy: 0.9910 - val_loss: 0.0239 - val_accuracy: 0.9919\n",
            "Epoch 5/20\n",
            "600/600 [==============================] - 4s 7ms/step - loss: 0.0244 - accuracy: 0.9922 - val_loss: 0.0219 - val_accuracy: 0.9937\n",
            "Epoch 6/20\n",
            "600/600 [==============================] - 4s 7ms/step - loss: 0.0188 - accuracy: 0.9938 - val_loss: 0.0198 - val_accuracy: 0.9941\n",
            "Epoch 7/20\n",
            "600/600 [==============================] - 4s 7ms/step - loss: 0.0173 - accuracy: 0.9943 - val_loss: 0.0247 - val_accuracy: 0.9925\n",
            "Epoch 8/20\n",
            "600/600 [==============================] - 4s 7ms/step - loss: 0.0139 - accuracy: 0.9953 - val_loss: 0.0205 - val_accuracy: 0.9933\n",
            "Epoch 9/20\n",
            "600/600 [==============================] - 4s 7ms/step - loss: 0.0111 - accuracy: 0.9966 - val_loss: 0.0219 - val_accuracy: 0.9930\n",
            "Epoch 10/20\n",
            "600/600 [==============================] - 4s 7ms/step - loss: 0.0117 - accuracy: 0.9964 - val_loss: 0.0223 - val_accuracy: 0.9937\n",
            "Epoch 11/20\n",
            "600/600 [==============================] - 4s 7ms/step - loss: 0.0106 - accuracy: 0.9966 - val_loss: 0.0224 - val_accuracy: 0.9935\n",
            "Epoch 12/20\n",
            "600/600 [==============================] - 4s 6ms/step - loss: 0.0089 - accuracy: 0.9970 - val_loss: 0.0208 - val_accuracy: 0.9941\n",
            "Epoch 13/20\n",
            "600/600 [==============================] - 4s 6ms/step - loss: 0.0077 - accuracy: 0.9976 - val_loss: 0.0229 - val_accuracy: 0.9940\n",
            "Epoch 14/20\n",
            "600/600 [==============================] - 4s 6ms/step - loss: 0.0082 - accuracy: 0.9974 - val_loss: 0.0280 - val_accuracy: 0.9927\n",
            "Epoch 15/20\n",
            "600/600 [==============================] - 4s 6ms/step - loss: 0.0074 - accuracy: 0.9974 - val_loss: 0.0203 - val_accuracy: 0.9948\n",
            "Epoch 16/20\n",
            "600/600 [==============================] - 4s 6ms/step - loss: 0.0069 - accuracy: 0.9977 - val_loss: 0.0249 - val_accuracy: 0.9932\n",
            "Epoch 17/20\n",
            "600/600 [==============================] - 4s 6ms/step - loss: 0.0063 - accuracy: 0.9978 - val_loss: 0.0234 - val_accuracy: 0.9938\n",
            "Epoch 18/20\n",
            "600/600 [==============================] - 4s 6ms/step - loss: 0.0064 - accuracy: 0.9978 - val_loss: 0.0324 - val_accuracy: 0.9925\n",
            "Epoch 19/20\n",
            "600/600 [==============================] - 4s 7ms/step - loss: 0.0068 - accuracy: 0.9978 - val_loss: 0.0251 - val_accuracy: 0.9938\n",
            "Epoch 20/20\n",
            "600/600 [==============================] - 4s 7ms/step - loss: 0.0045 - accuracy: 0.9984 - val_loss: 0.0259 - val_accuracy: 0.9939\n"
          ],
          "name": "stdout"
        }
      ]
    },
    {
      "cell_type": "code",
      "metadata": {
        "id": "LdPXFJk2nfXu",
        "colab_type": "code",
        "colab": {
          "base_uri": "https://localhost:8080/",
          "height": 1000
        },
        "outputId": "2af6dc36-d8d9-4219-f75e-50a58f7ab7ab"
      },
      "source": [
        "## checkpoint 확인\n",
        "!ls 'checkpoints/mnist_cnn_keras'"
      ],
      "execution_count": 29,
      "outputs": [
        {
          "output_type": "stream",
          "text": [
            "checkpoint\n",
            "mnist_cnn_0001.ckpt.data-00000-of-00002\n",
            "mnist_cnn_0001.ckpt.data-00001-of-00002\n",
            "mnist_cnn_0001.ckpt.index\n",
            "mnist_cnn_0002.ckpt.data-00000-of-00002\n",
            "mnist_cnn_0002.ckpt.data-00001-of-00002\n",
            "mnist_cnn_0002.ckpt.index\n",
            "mnist_cnn_0003.ckpt.data-00000-of-00002\n",
            "mnist_cnn_0003.ckpt.data-00001-of-00002\n",
            "mnist_cnn_0003.ckpt.index\n",
            "mnist_cnn_0004.ckpt.data-00000-of-00002\n",
            "mnist_cnn_0004.ckpt.data-00001-of-00002\n",
            "mnist_cnn_0004.ckpt.index\n",
            "mnist_cnn_0005.ckpt.data-00000-of-00002\n",
            "mnist_cnn_0005.ckpt.data-00001-of-00002\n",
            "mnist_cnn_0005.ckpt.index\n",
            "mnist_cnn_0006.ckpt.data-00000-of-00002\n",
            "mnist_cnn_0006.ckpt.data-00001-of-00002\n",
            "mnist_cnn_0006.ckpt.index\n",
            "mnist_cnn_0007.ckpt.data-00000-of-00002\n",
            "mnist_cnn_0007.ckpt.data-00001-of-00002\n",
            "mnist_cnn_0007.ckpt.index\n",
            "mnist_cnn_0008.ckpt.data-00000-of-00002\n",
            "mnist_cnn_0008.ckpt.data-00001-of-00002\n",
            "mnist_cnn_0008.ckpt.index\n",
            "mnist_cnn_0009.ckpt.data-00000-of-00002\n",
            "mnist_cnn_0009.ckpt.data-00001-of-00002\n",
            "mnist_cnn_0009.ckpt.index\n",
            "mnist_cnn_0010.ckpt.data-00000-of-00002\n",
            "mnist_cnn_0010.ckpt.data-00001-of-00002\n",
            "mnist_cnn_0010.ckpt.index\n",
            "mnist_cnn_0011.ckpt.data-00000-of-00002\n",
            "mnist_cnn_0011.ckpt.data-00001-of-00002\n",
            "mnist_cnn_0011.ckpt.index\n",
            "mnist_cnn_0012.ckpt.data-00000-of-00002\n",
            "mnist_cnn_0012.ckpt.data-00001-of-00002\n",
            "mnist_cnn_0012.ckpt.index\n",
            "mnist_cnn_0013.ckpt.data-00000-of-00002\n",
            "mnist_cnn_0013.ckpt.data-00001-of-00002\n",
            "mnist_cnn_0013.ckpt.index\n",
            "mnist_cnn_0014.ckpt.data-00000-of-00002\n",
            "mnist_cnn_0014.ckpt.data-00001-of-00002\n",
            "mnist_cnn_0014.ckpt.index\n",
            "mnist_cnn_0015.ckpt.data-00000-of-00002\n",
            "mnist_cnn_0015.ckpt.data-00001-of-00002\n",
            "mnist_cnn_0015.ckpt.index\n",
            "mnist_cnn_0016.ckpt.data-00000-of-00002\n",
            "mnist_cnn_0016.ckpt.data-00001-of-00002\n",
            "mnist_cnn_0016.ckpt.index\n",
            "mnist_cnn_0017.ckpt.data-00000-of-00002\n",
            "mnist_cnn_0017.ckpt.data-00001-of-00002\n",
            "mnist_cnn_0017.ckpt.index\n",
            "mnist_cnn_0018.ckpt.data-00000-of-00002\n",
            "mnist_cnn_0018.ckpt.data-00001-of-00002\n",
            "mnist_cnn_0018.ckpt.index\n",
            "mnist_cnn_0019.ckpt.data-00000-of-00002\n",
            "mnist_cnn_0019.ckpt.data-00001-of-00002\n",
            "mnist_cnn_0019.ckpt.index\n",
            "mnist_cnn_0020.ckpt.data-00000-of-00002\n",
            "mnist_cnn_0020.ckpt.data-00001-of-00002\n",
            "mnist_cnn_0020.ckpt.index\n",
            "mnist_cnn_keras.ckpt.data-00000-of-00002\n",
            "mnist_cnn_keras.ckpt.data-00001-of-00002\n",
            "mnist_cnn_keras.ckpt.index\n"
          ],
          "name": "stdout"
        }
      ]
    },
    {
      "cell_type": "code",
      "metadata": {
        "id": "fTtSU1Ton0j4",
        "colab_type": "code",
        "colab": {
          "base_uri": "https://localhost:8080/",
          "height": 36
        },
        "outputId": "d4aa763f-7d65-4878-8c70-da2f0c53f984"
      },
      "source": [
        "## 마지막으로 저장된 checkpoint 불러오기\n",
        "latest = tf.train.latest_checkpoint(checkpoint_dir)\n",
        "latest"
      ],
      "execution_count": 30,
      "outputs": [
        {
          "output_type": "execute_result",
          "data": {
            "text/plain": [
              "'/content/checkpoints/mnist_cnn_keras/mnist_cnn_0020.ckpt'"
            ]
          },
          "metadata": {
            "tags": []
          },
          "execution_count": 30
        }
      ]
    },
    {
      "cell_type": "code",
      "metadata": {
        "id": "9gTsZmPsn7P4",
        "colab_type": "code",
        "colab": {
          "base_uri": "https://localhost:8080/",
          "height": 74
        },
        "outputId": "aa0791ec-7d94-4c00-c7b7-b9737fe2d14b"
      },
      "source": [
        "# Create a new model instance\n",
        "new_model2 = create_model()\n",
        "new_model2.compile(optimizer=keras.optimizers.Adam(learning_rate),\n",
        "                 loss='categorical_crossentropy',\n",
        "                 metrics=['accuracy'])\n",
        "# Before loading weights\n",
        "new_model2.evaluate(test_dataset)\n",
        "\n",
        "# Load the previously saved weights\n",
        "new_model2.load_weights(latest)\n",
        "\n",
        "# Re-evaluate the model\n",
        "new_model2.evaluate(test_dataset)"
      ],
      "execution_count": 31,
      "outputs": [
        {
          "output_type": "stream",
          "text": [
            "100/100 [==============================] - 0s 5ms/step - loss: 2.3043 - accuracy: 0.0948\n",
            "100/100 [==============================] - 0s 4ms/step - loss: 0.0259 - accuracy: 0.9939\n"
          ],
          "name": "stdout"
        },
        {
          "output_type": "execute_result",
          "data": {
            "text/plain": [
              "[0.025861205812020754, 0.9939]"
            ]
          },
          "metadata": {
            "tags": []
          },
          "execution_count": 31
        }
      ]
    },
    {
      "cell_type": "markdown",
      "metadata": {
        "id": "v1jfAa-tpKc9",
        "colab_type": "text"
      },
      "source": [
        "## 전체 model 저장하고 불러오기"
      ]
    },
    {
      "cell_type": "code",
      "metadata": {
        "id": "nDb0Y25SpMMW",
        "colab_type": "code",
        "colab": {
          "base_uri": "https://localhost:8080/",
          "height": 36
        },
        "outputId": "c8af5bc5-f706-442d-b3f8-561c801557b2"
      },
      "source": [
        "## HDF5 format으로 전체 model 저장하기\n",
        "save_dir_name = 'saved_models'\n",
        "os.makedirs(save_dir_name, exist_ok=True)\n",
        "hdf5_model_path = os.path.join(cur_dir, save_dir_name, 'my_model.h5')\n",
        "hdf5_model_path"
      ],
      "execution_count": 32,
      "outputs": [
        {
          "output_type": "execute_result",
          "data": {
            "text/plain": [
              "'/content/saved_models/my_model.h5'"
            ]
          },
          "metadata": {
            "tags": []
          },
          "execution_count": 32
        }
      ]
    },
    {
      "cell_type": "code",
      "metadata": {
        "id": "u2oLSYuLpb45",
        "colab_type": "code",
        "colab": {}
      },
      "source": [
        "## 저장\n",
        "model.save(hdf5_model_path)"
      ],
      "execution_count": 0,
      "outputs": []
    },
    {
      "cell_type": "code",
      "metadata": {
        "id": "fhLViRxCpeIo",
        "colab_type": "code",
        "colab": {
          "base_uri": "https://localhost:8080/",
          "height": 36
        },
        "outputId": "20403901-fb34-4b29-a3e0-2db4baa832cb"
      },
      "source": [
        "## 확인\n",
        "!ls saved_models"
      ],
      "execution_count": 34,
      "outputs": [
        {
          "output_type": "stream",
          "text": [
            "my_model.h5\n"
          ],
          "name": "stdout"
        }
      ]
    },
    {
      "cell_type": "code",
      "metadata": {
        "id": "2Bztde8kpglw",
        "colab_type": "code",
        "colab": {
          "base_uri": "https://localhost:8080/",
          "height": 554
        },
        "outputId": "4ea8fe9a-0447-4762-9eca-12683c282630"
      },
      "source": [
        "## 불러오기\n",
        "new_model3 = keras.models.load_model(hdf5_model_path)\n",
        "\n",
        "new_model3.summary()"
      ],
      "execution_count": 35,
      "outputs": [
        {
          "output_type": "stream",
          "text": [
            "Model: \"sequential_2\"\n",
            "_________________________________________________________________\n",
            "Layer (type)                 Output Shape              Param #   \n",
            "=================================================================\n",
            "conv2d_6 (Conv2D)            (None, 28, 28, 32)        320       \n",
            "_________________________________________________________________\n",
            "max_pooling2d_6 (MaxPooling2 (None, 14, 14, 32)        0         \n",
            "_________________________________________________________________\n",
            "conv2d_7 (Conv2D)            (None, 14, 14, 64)        18496     \n",
            "_________________________________________________________________\n",
            "max_pooling2d_7 (MaxPooling2 (None, 7, 7, 64)          0         \n",
            "_________________________________________________________________\n",
            "conv2d_8 (Conv2D)            (None, 7, 7, 128)         73856     \n",
            "_________________________________________________________________\n",
            "max_pooling2d_8 (MaxPooling2 (None, 4, 4, 128)         0         \n",
            "_________________________________________________________________\n",
            "flatten_2 (Flatten)          (None, 2048)              0         \n",
            "_________________________________________________________________\n",
            "dense_4 (Dense)              (None, 256)               524544    \n",
            "_________________________________________________________________\n",
            "dropout_2 (Dropout)          (None, 256)               0         \n",
            "_________________________________________________________________\n",
            "dense_5 (Dense)              (None, 10)                2570      \n",
            "=================================================================\n",
            "Total params: 619,786\n",
            "Trainable params: 619,786\n",
            "Non-trainable params: 0\n",
            "_________________________________________________________________\n"
          ],
          "name": "stdout"
        }
      ]
    },
    {
      "cell_type": "code",
      "metadata": {
        "id": "wjQULLtvppMq",
        "colab_type": "code",
        "colab": {
          "base_uri": "https://localhost:8080/",
          "height": 55
        },
        "outputId": "75307b05-927e-4134-c31f-1667e0738b4a"
      },
      "source": [
        "## 결과 확인\n",
        "new_model3.evaluate(test_dataset)"
      ],
      "execution_count": 36,
      "outputs": [
        {
          "output_type": "stream",
          "text": [
            "100/100 [==============================] - 0s 5ms/step - loss: 0.0259 - accuracy: 0.9939\n"
          ],
          "name": "stdout"
        },
        {
          "output_type": "execute_result",
          "data": {
            "text/plain": [
              "[0.025861205812020754, 0.9939]"
            ]
          },
          "metadata": {
            "tags": []
          },
          "execution_count": 36
        }
      ]
    },
    {
      "cell_type": "code",
      "metadata": {
        "id": "wZFt6i--puBY",
        "colab_type": "code",
        "colab": {
          "base_uri": "https://localhost:8080/",
          "height": 36
        },
        "outputId": "fe46eff0-7f01-4d80-f885-2d5ebaadaf55"
      },
      "source": [
        "## saved_model format으로 전체 model 저장하기\n",
        "saved_model_path = os.path.join(cur_dir, save_dir_name, 'my_model')\n",
        "\n",
        "model.save(saved_model_path)"
      ],
      "execution_count": 42,
      "outputs": [
        {
          "output_type": "stream",
          "text": [
            "INFO:tensorflow:Assets written to: /content/saved_models/my_model/assets\n"
          ],
          "name": "stdout"
        }
      ]
    },
    {
      "cell_type": "code",
      "metadata": {
        "id": "V5JcSgYdqD9e",
        "colab_type": "code",
        "colab": {
          "base_uri": "https://localhost:8080/",
          "height": 36
        },
        "outputId": "ae738a6c-e64f-4f5a-aab0-a1cefab610e5"
      },
      "source": [
        "## 확인\n",
        "!ls 'saved_models/my_model'"
      ],
      "execution_count": 43,
      "outputs": [
        {
          "output_type": "stream",
          "text": [
            "assets\tsaved_model.pb\tvariables\n"
          ],
          "name": "stdout"
        }
      ]
    },
    {
      "cell_type": "code",
      "metadata": {
        "id": "jisZS4KHqJxP",
        "colab_type": "code",
        "colab": {}
      },
      "source": [
        "## 불러오기\n",
        "new_model4 = keras.models.load_model(model_path)"
      ],
      "execution_count": 0,
      "outputs": []
    },
    {
      "cell_type": "code",
      "metadata": {
        "id": "VFa9hInBqf_A",
        "colab_type": "code",
        "colab": {
          "base_uri": "https://localhost:8080/",
          "height": 55
        },
        "outputId": "25aa3a62-103f-4495-f268-db8638d36fd7"
      },
      "source": [
        "## 결과 확인\n",
        "new_model4.evaluate(test_dataset)"
      ],
      "execution_count": 45,
      "outputs": [
        {
          "output_type": "stream",
          "text": [
            "100/100 [==============================] - 0s 4ms/step - loss: 0.0252 - accuracy: 0.9939\n"
          ],
          "name": "stdout"
        },
        {
          "output_type": "execute_result",
          "data": {
            "text/plain": [
              "[0.025236018415991168, 0.9939]"
            ]
          },
          "metadata": {
            "tags": []
          },
          "execution_count": 45
        }
      ]
    },
    {
      "cell_type": "markdown",
      "metadata": {
        "id": "YCnAteWLq74L",
        "colab_type": "text"
      },
      "source": [
        "## Functional API"
      ]
    },
    {
      "cell_type": "code",
      "metadata": {
        "id": "gfvB1bVwqjAP",
        "colab_type": "code",
        "colab": {}
      },
      "source": [
        "# Functional API를 사용하여 model 구성\n",
        "def create_model():\n",
        "    inputs = keras.Input(shape=(28, 28, 1))\n",
        "    conv1 = keras.layers.Conv2D(filters=32, kernel_size=[3, 3], padding='SAME', activation='relu')(inputs)\n",
        "    pool1 = keras.layers.MaxPool2D(padding='SAME')(conv1)\n",
        "    conv2 = keras.layers.Conv2D(filters=64, kernel_size=[3, 3], padding='SAME', activation='relu')(pool1)\n",
        "    pool2 = keras.layers.MaxPool2D(padding='SAME')(conv2)\n",
        "    conv3 = keras.layers.Conv2D(filters=128, kernel_size=[3, 3], padding='SAME', activation='relu')(pool2)\n",
        "    pool3 = keras.layers.MaxPool2D(padding='SAME')(conv3)\n",
        "    pool3_flat = keras.layers.Flatten()(pool3)\n",
        "    dense4 = keras.layers.Dense(units=256, activation='relu')(pool3_flat)\n",
        "    drop4 = keras.layers.Dropout(rate=0.4)(dense4)\n",
        "    logits = keras.layers.Dense(units=10, activation='softmax')(drop4)\n",
        "    return keras.Model(inputs=inputs, outputs=logits)"
      ],
      "execution_count": 0,
      "outputs": []
    },
    {
      "cell_type": "code",
      "metadata": {
        "id": "ZvvgS90lq_5H",
        "colab_type": "code",
        "colab": {
          "base_uri": "https://localhost:8080/",
          "height": 593
        },
        "outputId": "c94fd7e8-b0df-4874-f20a-077b59a332ea"
      },
      "source": [
        "## Create model, compile & summary\n",
        "model = create_model()\n",
        "model.compile(optimizer=tf.keras.optimizers.Adam(learning_rate),\n",
        "              loss='categorical_crossentropy',\n",
        "              metrics=['accuracy'])\n",
        "model.summary()"
      ],
      "execution_count": 47,
      "outputs": [
        {
          "output_type": "stream",
          "text": [
            "Model: \"model\"\n",
            "_________________________________________________________________\n",
            "Layer (type)                 Output Shape              Param #   \n",
            "=================================================================\n",
            "input_1 (InputLayer)         [(None, 28, 28, 1)]       0         \n",
            "_________________________________________________________________\n",
            "conv2d_12 (Conv2D)           (None, 28, 28, 32)        320       \n",
            "_________________________________________________________________\n",
            "max_pooling2d_12 (MaxPooling (None, 14, 14, 32)        0         \n",
            "_________________________________________________________________\n",
            "conv2d_13 (Conv2D)           (None, 14, 14, 64)        18496     \n",
            "_________________________________________________________________\n",
            "max_pooling2d_13 (MaxPooling (None, 7, 7, 64)          0         \n",
            "_________________________________________________________________\n",
            "conv2d_14 (Conv2D)           (None, 7, 7, 128)         73856     \n",
            "_________________________________________________________________\n",
            "max_pooling2d_14 (MaxPooling (None, 4, 4, 128)         0         \n",
            "_________________________________________________________________\n",
            "flatten_4 (Flatten)          (None, 2048)              0         \n",
            "_________________________________________________________________\n",
            "dense_8 (Dense)              (None, 256)               524544    \n",
            "_________________________________________________________________\n",
            "dropout_4 (Dropout)          (None, 256)               0         \n",
            "_________________________________________________________________\n",
            "dense_9 (Dense)              (None, 10)                2570      \n",
            "=================================================================\n",
            "Total params: 619,786\n",
            "Trainable params: 619,786\n",
            "Non-trainable params: 0\n",
            "_________________________________________________________________\n"
          ],
          "name": "stdout"
        }
      ]
    },
    {
      "cell_type": "code",
      "metadata": {
        "id": "e0pdHvtbrKhR",
        "colab_type": "code",
        "colab": {
          "base_uri": "https://localhost:8080/",
          "height": 55
        },
        "outputId": "15396bfe-8bf7-49d4-bbe3-d992e28f0314"
      },
      "source": [
        "## 학습 전에 결과 확인\n",
        "model.evaluate(test_dataset)"
      ],
      "execution_count": 48,
      "outputs": [
        {
          "output_type": "stream",
          "text": [
            "100/100 [==============================] - 0s 5ms/step - loss: 2.3011 - accuracy: 0.1354\n"
          ],
          "name": "stdout"
        },
        {
          "output_type": "execute_result",
          "data": {
            "text/plain": [
              "[2.3010619473457337, 0.1354]"
            ]
          },
          "metadata": {
            "tags": []
          },
          "execution_count": 48
        }
      ]
    },
    {
      "cell_type": "code",
      "metadata": {
        "id": "4MGma-9mrNwn",
        "colab_type": "code",
        "colab": {
          "base_uri": "https://localhost:8080/",
          "height": 804
        },
        "outputId": "f762be2c-c272-4b58-ff7c-7f70c02d8ed4"
      },
      "source": [
        "## Training\n",
        "history = model.fit(train_dataset, epochs=N_EPOCHS, steps_per_epoch=steps_per_epoch, \n",
        "                    validation_data=test_dataset, validation_steps=validation_steps)"
      ],
      "execution_count": 49,
      "outputs": [
        {
          "output_type": "stream",
          "text": [
            "Train for 600 steps, validate for 100 steps\n",
            "Epoch 1/20\n",
            "600/600 [==============================] - 4s 7ms/step - loss: 0.1929 - accuracy: 0.9384 - val_loss: 0.0455 - val_accuracy: 0.9853\n",
            "Epoch 2/20\n",
            "600/600 [==============================] - 4s 7ms/step - loss: 0.0547 - accuracy: 0.9829 - val_loss: 0.0405 - val_accuracy: 0.9857\n",
            "Epoch 3/20\n",
            "600/600 [==============================] - 4s 6ms/step - loss: 0.0392 - accuracy: 0.9880 - val_loss: 0.0247 - val_accuracy: 0.9921\n",
            "Epoch 4/20\n",
            "600/600 [==============================] - 4s 6ms/step - loss: 0.0297 - accuracy: 0.9902 - val_loss: 0.0234 - val_accuracy: 0.9920\n",
            "Epoch 5/20\n",
            "600/600 [==============================] - 4s 6ms/step - loss: 0.0246 - accuracy: 0.9920 - val_loss: 0.0247 - val_accuracy: 0.9913\n",
            "Epoch 6/20\n",
            "600/600 [==============================] - 4s 6ms/step - loss: 0.0200 - accuracy: 0.9934 - val_loss: 0.0203 - val_accuracy: 0.9935\n",
            "Epoch 7/20\n",
            "600/600 [==============================] - 4s 6ms/step - loss: 0.0186 - accuracy: 0.9938 - val_loss: 0.0347 - val_accuracy: 0.9892\n",
            "Epoch 8/20\n",
            "600/600 [==============================] - 4s 6ms/step - loss: 0.0151 - accuracy: 0.9954 - val_loss: 0.0250 - val_accuracy: 0.9923\n",
            "Epoch 9/20\n",
            "600/600 [==============================] - 4s 6ms/step - loss: 0.0138 - accuracy: 0.9952 - val_loss: 0.0298 - val_accuracy: 0.9905\n",
            "Epoch 10/20\n",
            "600/600 [==============================] - 4s 6ms/step - loss: 0.0116 - accuracy: 0.9962 - val_loss: 0.0270 - val_accuracy: 0.9925\n",
            "Epoch 11/20\n",
            "600/600 [==============================] - 4s 6ms/step - loss: 0.0096 - accuracy: 0.9970 - val_loss: 0.0229 - val_accuracy: 0.9930\n",
            "Epoch 12/20\n",
            "600/600 [==============================] - 4s 6ms/step - loss: 0.0094 - accuracy: 0.9968 - val_loss: 0.0231 - val_accuracy: 0.9922\n",
            "Epoch 13/20\n",
            "600/600 [==============================] - 4s 6ms/step - loss: 0.0081 - accuracy: 0.9973 - val_loss: 0.0243 - val_accuracy: 0.9927\n",
            "Epoch 14/20\n",
            "600/600 [==============================] - 4s 6ms/step - loss: 0.0084 - accuracy: 0.9972 - val_loss: 0.0237 - val_accuracy: 0.9935\n",
            "Epoch 15/20\n",
            "600/600 [==============================] - 4s 6ms/step - loss: 0.0079 - accuracy: 0.9973 - val_loss: 0.0242 - val_accuracy: 0.9936\n",
            "Epoch 16/20\n",
            "600/600 [==============================] - 4s 6ms/step - loss: 0.0070 - accuracy: 0.9976 - val_loss: 0.0308 - val_accuracy: 0.9930\n",
            "Epoch 17/20\n",
            "600/600 [==============================] - 4s 6ms/step - loss: 0.0070 - accuracy: 0.9977 - val_loss: 0.0347 - val_accuracy: 0.9913\n",
            "Epoch 18/20\n",
            "600/600 [==============================] - 4s 6ms/step - loss: 0.0069 - accuracy: 0.9979 - val_loss: 0.0245 - val_accuracy: 0.9940\n",
            "Epoch 19/20\n",
            "600/600 [==============================] - 4s 6ms/step - loss: 0.0055 - accuracy: 0.9980 - val_loss: 0.0308 - val_accuracy: 0.9930\n",
            "Epoch 20/20\n",
            "600/600 [==============================] - 4s 6ms/step - loss: 0.0049 - accuracy: 0.9985 - val_loss: 0.0315 - val_accuracy: 0.9930\n"
          ],
          "name": "stdout"
        }
      ]
    },
    {
      "cell_type": "code",
      "metadata": {
        "id": "FXF-QkW6rRUX",
        "colab_type": "code",
        "colab": {
          "base_uri": "https://localhost:8080/",
          "height": 36
        },
        "outputId": "22e7a469-1764-4535-aa24-3e17d0424932"
      },
      "source": [
        "## model 저장하고 불러오기\n",
        "## HDF5 format\n",
        "saved_model_path = os.path.join(cur_dir, save_dir_name, 'mnist_cnn_func.h5')\n",
        "model.save(saved_model_path)\n",
        "!ls saved_models"
      ],
      "execution_count": 50,
      "outputs": [
        {
          "output_type": "stream",
          "text": [
            "mnist_cnn_func.h5  my_model  my_model.h5\n"
          ],
          "name": "stdout"
        }
      ]
    },
    {
      "cell_type": "code",
      "metadata": {
        "id": "4XZGdqFLrf9O",
        "colab_type": "code",
        "colab": {
          "base_uri": "https://localhost:8080/",
          "height": 55
        },
        "outputId": "d268858c-bd8a-4e62-c953-4337a7fbed33"
      },
      "source": [
        "new_model5 = keras.models.load_model(saved_model_path)\n",
        "new_model5.evaluate(test_dataset)"
      ],
      "execution_count": 51,
      "outputs": [
        {
          "output_type": "stream",
          "text": [
            "100/100 [==============================] - 0s 5ms/step - loss: 0.0315 - accuracy: 0.9930\n"
          ],
          "name": "stdout"
        },
        {
          "output_type": "execute_result",
          "data": {
            "text/plain": [
              "[0.03145971071382739, 0.993]"
            ]
          },
          "metadata": {
            "tags": []
          },
          "execution_count": 51
        }
      ]
    },
    {
      "cell_type": "code",
      "metadata": {
        "id": "WoVYbcOgrheg",
        "colab_type": "code",
        "colab": {
          "base_uri": "https://localhost:8080/",
          "height": 113
        },
        "outputId": "cfad1a4c-287d-4a8b-9b86-eae45d2483ce"
      },
      "source": [
        "## saved_model format\n",
        "saved_model_path = os.path.join(cur_dir, save_dir_name, 'mnist_cnn_func_pb')\n",
        "model.save(saved_model_path)\n",
        "!ls -l saved_models/mnist_cnn_func_pb"
      ],
      "execution_count": 52,
      "outputs": [
        {
          "output_type": "stream",
          "text": [
            "INFO:tensorflow:Assets written to: /content/saved_models/mnist_cnn_func_pb/assets\n",
            "total 180\n",
            "drwxr-xr-x 2 root root   4096 Feb 28 16:43 assets\n",
            "-rw-r--r-- 1 root root 173815 Feb 28 16:43 saved_model.pb\n",
            "drwxr-xr-x 2 root root   4096 Feb 28 16:43 variables\n"
          ],
          "name": "stdout"
        }
      ]
    },
    {
      "cell_type": "code",
      "metadata": {
        "id": "d58eftYhrqJx",
        "colab_type": "code",
        "colab": {
          "base_uri": "https://localhost:8080/",
          "height": 55
        },
        "outputId": "c6543b2b-a71d-4080-825b-c37741611120"
      },
      "source": [
        "new_model6 = keras.models.load_model(saved_model_path)\n",
        "new_model6.evaluate(test_dataset)"
      ],
      "execution_count": 53,
      "outputs": [
        {
          "output_type": "stream",
          "text": [
            "100/100 [==============================] - 0s 4ms/step - loss: 0.0315 - accuracy: 0.9930\n"
          ],
          "name": "stdout"
        },
        {
          "output_type": "execute_result",
          "data": {
            "text/plain": [
              "[0.031459810774785525, 0.993]"
            ]
          },
          "metadata": {
            "tags": []
          },
          "execution_count": 53
        }
      ]
    },
    {
      "cell_type": "code",
      "metadata": {
        "id": "KQ6lA2a8rtGP",
        "colab_type": "code",
        "colab": {}
      },
      "source": [
        ""
      ],
      "execution_count": 0,
      "outputs": []
    }
  ]
}